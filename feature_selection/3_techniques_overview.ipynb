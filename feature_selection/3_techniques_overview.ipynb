{
 "cells": [
  {
   "cell_type": "code",
   "execution_count": 1,
   "id": "f6a991e0",
   "metadata": {
    "_cell_guid": "b1076dfc-b9ad-4769-8c92-a6c4dae69d19",
    "_uuid": "8f2839f25d086af736a60e9eeb907d3b93b6e0e5",
    "execution": {
     "iopub.execute_input": "2022-04-08T00:26:40.553577Z",
     "iopub.status.busy": "2022-04-08T00:26:40.552453Z",
     "iopub.status.idle": "2022-04-08T00:26:41.995726Z",
     "shell.execute_reply": "2022-04-08T00:26:41.994997Z",
     "shell.execute_reply.started": "2022-04-08T00:24:02.736328Z"
    },
    "papermill": {
     "duration": 1.49745,
     "end_time": "2022-04-08T00:26:41.995903",
     "exception": false,
     "start_time": "2022-04-08T00:26:40.498453",
     "status": "completed"
    },
    "tags": []
   },
   "outputs": [],
   "source": [
    "import numpy as np # linear algebra\n",
    "import pandas as pd # data processing, CSV file I/O (e.g. pd.read_csv)\n",
    "\n",
    "import matplotlib.pyplot as plt\n",
    "import seaborn as sns\n",
    "from sklearn import linear_model\n",
    "from sklearn.linear_model import LinearRegression\n",
    "from sklearn.metrics import mean_squared_error\n",
    "from sklearn.metrics import r2_score\n",
    "from sklearn.model_selection import train_test_split\n",
    "from sklearn.feature_selection import VarianceThreshold\n",
    "from sklearn.preprocessing import StandardScaler\n",
    "\n",
    "from scipy.stats import spearmanr\n",
    "from scipy.stats import pearsonr\n",
    "from scipy.stats import kendalltau\n",
    "\n",
    "from sklearn.feature_selection import SelectKBest\n",
    "from sklearn.feature_selection import chi2\n",
    "\n",
    "from sklearn.feature_selection import mutual_info_regression\n",
    "from sklearn.feature_selection import SelectKBest\n",
    "\n",
    "from sklearn.feature_selection import f_regression\n",
    "\n",
    "from mlxtend.feature_selection import SequentialFeatureSelector\n",
    "\n",
    "from sklearn.feature_selection import RFE\n",
    "\n",
    "from sklearn.linear_model import Lasso\n",
    "from sklearn.model_selection import GridSearchCV\n",
    "\n",
    "from sklearn.tree import DecisionTreeRegressor\n",
    "\n",
    "import warnings\n",
    "warnings.filterwarnings('ignore')\n",
    "\n",
    "import os\n",
    "for dirname, _, filenames in os.walk('/kaggle/input'):\n",
    "    for filename in filenames:\n",
    "        print(os.path.join(dirname, filename))"
   ]
  },
  {
   "cell_type": "markdown",
   "id": "309fed38",
   "metadata": {
    "papermill": {
     "duration": 0.035443,
     "end_time": "2022-04-08T00:26:42.070068",
     "exception": false,
     "start_time": "2022-04-08T00:26:42.034625",
     "status": "completed"
    },
    "tags": []
   },
   "source": [
    "Ref:\n",
    "1. https://github.com/Ayushijain09/Automobile-Dataset-Multiple-Linear-Regression-with-Feature-Selection/blob/master/_Automobile_Multiple_LinearRegression_Feature_Selection.ipynb\n",
    "2. https://towardsdatascience.com/learn-how-to-do-feature-selection-the-right-way-61bca8557bef"
   ]
  },
  {
   "cell_type": "markdown",
   "id": "ecdb6f15",
   "metadata": {
    "papermill": {
     "duration": 0.035692,
     "end_time": "2022-04-08T00:26:42.141695",
     "exception": false,
     "start_time": "2022-04-08T00:26:42.106003",
     "status": "completed"
    },
    "tags": []
   },
   "source": [
    "### 3 techniques of feature selection methods:\n",
    "1. Filter methods(6)\n",
    "    - missing values ratio\n",
    "    - variance threshold\n",
    "    - correlation coefficient\n",
    "    - chi-square test of independent (for categorical data)\n",
    "    - mutual info (for both regression & classification)\n",
    "    - analysis of variance (ANOVA)\n",
    "2. Wrapper methods\n",
    "    - sequential feature selection\n",
    "    - recursive feature elimination (RFE)\n",
    "3. Embedded methods\n",
    "    - L1 (LASSO) regularization\n",
    "    - Tree model (for regression & classification)"
   ]
  },
  {
   "cell_type": "markdown",
   "id": "01307339",
   "metadata": {
    "papermill": {
     "duration": 0.035647,
     "end_time": "2022-04-08T00:26:42.213327",
     "exception": false,
     "start_time": "2022-04-08T00:26:42.177680",
     "status": "completed"
    },
    "tags": []
   },
   "source": [
    "#### With filter methods, \n",
    "\n",
    "we primarily apply a statistical measure that suits our data to assign each feature column a calculated score. Based on that score, it'll be decided whether that feature will be kept or removed from our predictive model\n",
    "\n",
    "Pros and cons:\n",
    "- Pros: computationally inexpensive + best for eliminating redundant irrelevant features\n",
    "- Cons: don't take feature correlations into consideration since they work independently on each feature\n",
    "\n",
    "2 types of filter methods:\n",
    "1. univariate filter: work on ranking a single feature \n",
    "2. multivariate filer: evaluate the entire feature space"
   ]
  },
  {
   "cell_type": "markdown",
   "id": "3adf81cb",
   "metadata": {
    "papermill": {
     "duration": 0.03583,
     "end_time": "2022-04-08T00:26:42.285126",
     "exception": false,
     "start_time": "2022-04-08T00:26:42.249296",
     "status": "completed"
    },
    "tags": []
   },
   "source": [
    "#### In wrapper methods,\n",
    "\n",
    "we primarily choose a subset of features and train them using a ML algorithm. Based on the inferences from this model, we employ a search strategy to look through the space of possible feature subsets and decide which feature to add or remove for the next model development.\n",
    "\n",
    "This loop continues until the model performance no longer changes with the desired count of features. (k_features)\n",
    "\n",
    "Pros and cons:\n",
    "- Pros: takes care of the interactions between features, ultimately finding the optimal subset of features for your model with the lowest possible error.\n",
    "- Cons: computationally expensive as the features increase"
   ]
  },
  {
   "cell_type": "markdown",
   "id": "766aea52",
   "metadata": {
    "papermill": {
     "duration": 0.035925,
     "end_time": "2022-04-08T00:26:42.358447",
     "exception": false,
     "start_time": "2022-04-08T00:26:42.322522",
     "status": "completed"
    },
    "tags": []
   },
   "source": [
    "#### In embedded methods,\n",
    "\n",
    "combining the functionalities of both Filter and Wrapper methods\n",
    "\n",
    "Embedded methods perform feature selection during the process of training (which is why they're called embedded)\n",
    "\n",
    "**Upside:** the computational speed is as good as of filter methods + better accuracy"
   ]
  },
  {
   "cell_type": "markdown",
   "id": "e9504b21",
   "metadata": {
    "papermill": {
     "duration": 0.036027,
     "end_time": "2022-04-08T00:26:42.430960",
     "exception": false,
     "start_time": "2022-04-08T00:26:42.394933",
     "status": "completed"
    },
    "tags": []
   },
   "source": [
    "## Data Pre-processing\n",
    "\n",
    "Step 1. Data Wrangling to clean data\n",
    "\n",
    "Step 2. Data Scaling to normalize data"
   ]
  },
  {
   "cell_type": "markdown",
   "id": "8d237bcb",
   "metadata": {
    "papermill": {
     "duration": 0.04017,
     "end_time": "2022-04-08T00:26:42.508148",
     "exception": false,
     "start_time": "2022-04-08T00:26:42.467978",
     "status": "completed"
    },
    "tags": []
   },
   "source": [
    "## Step 0 - Data Wrangling\n",
    "**Step 0.1 - Data Overview**"
   ]
  },
  {
   "cell_type": "code",
   "execution_count": 2,
   "id": "4c4881a2",
   "metadata": {
    "execution": {
     "iopub.execute_input": "2022-04-08T00:26:42.593798Z",
     "iopub.status.busy": "2022-04-08T00:26:42.592751Z",
     "iopub.status.idle": "2022-04-08T00:26:43.012316Z",
     "shell.execute_reply": "2022-04-08T00:26:43.013134Z",
     "shell.execute_reply.started": "2022-04-08T00:24:02.809508Z"
    },
    "papermill": {
     "duration": 0.465613,
     "end_time": "2022-04-08T00:26:43.013328",
     "exception": false,
     "start_time": "2022-04-08T00:26:42.547715",
     "status": "completed"
    },
    "tags": []
   },
   "outputs": [
    {
     "name": "stdout",
     "output_type": "stream",
     "text": [
      "<class 'pandas.core.frame.DataFrame'>\n",
      "RangeIndex: 205 entries, 0 to 204\n",
      "Data columns (total 26 columns):\n",
      " #   Column             Non-Null Count  Dtype  \n",
      "---  ------             --------------  -----  \n",
      " 0   symboling          205 non-null    int64  \n",
      " 1   normalized_losses  205 non-null    object \n",
      " 2   make               205 non-null    object \n",
      " 3   fuel_type          205 non-null    object \n",
      " 4   aspiration         205 non-null    object \n",
      " 5   num_of_doors       205 non-null    object \n",
      " 6   body_style         205 non-null    object \n",
      " 7   drive_wheels       205 non-null    object \n",
      " 8   engine_location    205 non-null    object \n",
      " 9   wheel_base         205 non-null    float64\n",
      " 10  length             205 non-null    float64\n",
      " 11  width              205 non-null    float64\n",
      " 12  height             205 non-null    float64\n",
      " 13  curb_weight        205 non-null    int64  \n",
      " 14  engine_type        205 non-null    object \n",
      " 15  num_of_cylinders   205 non-null    object \n",
      " 16  engine_size        205 non-null    int64  \n",
      " 17  fuel_system        205 non-null    object \n",
      " 18  bore               205 non-null    object \n",
      " 19  stroke             205 non-null    object \n",
      " 20  compression_ratio  205 non-null    float64\n",
      " 21  horse_power        205 non-null    object \n",
      " 22  peak_rpm           205 non-null    object \n",
      " 23  city_mpg           205 non-null    int64  \n",
      " 24  highway_mpg        205 non-null    int64  \n",
      " 25  price              205 non-null    object \n",
      "dtypes: float64(5), int64(5), object(16)\n",
      "memory usage: 41.8+ KB\n"
     ]
    },
    {
     "data": {
      "text/html": [
       "<div>\n",
       "<style scoped>\n",
       "    .dataframe tbody tr th:only-of-type {\n",
       "        vertical-align: middle;\n",
       "    }\n",
       "\n",
       "    .dataframe tbody tr th {\n",
       "        vertical-align: top;\n",
       "    }\n",
       "\n",
       "    .dataframe thead th {\n",
       "        text-align: right;\n",
       "    }\n",
       "</style>\n",
       "<table border=\"1\" class=\"dataframe\">\n",
       "  <thead>\n",
       "    <tr style=\"text-align: right;\">\n",
       "      <th></th>\n",
       "      <th>symboling</th>\n",
       "      <th>normalized_losses</th>\n",
       "      <th>make</th>\n",
       "      <th>fuel_type</th>\n",
       "      <th>aspiration</th>\n",
       "      <th>num_of_doors</th>\n",
       "      <th>body_style</th>\n",
       "      <th>drive_wheels</th>\n",
       "      <th>engine_location</th>\n",
       "      <th>wheel_base</th>\n",
       "      <th>...</th>\n",
       "      <th>engine_size</th>\n",
       "      <th>fuel_system</th>\n",
       "      <th>bore</th>\n",
       "      <th>stroke</th>\n",
       "      <th>compression_ratio</th>\n",
       "      <th>horse_power</th>\n",
       "      <th>peak_rpm</th>\n",
       "      <th>city_mpg</th>\n",
       "      <th>highway_mpg</th>\n",
       "      <th>price</th>\n",
       "    </tr>\n",
       "  </thead>\n",
       "  <tbody>\n",
       "    <tr>\n",
       "      <th>0</th>\n",
       "      <td>3</td>\n",
       "      <td>?</td>\n",
       "      <td>alfa-romero</td>\n",
       "      <td>gas</td>\n",
       "      <td>std</td>\n",
       "      <td>two</td>\n",
       "      <td>convertible</td>\n",
       "      <td>rwd</td>\n",
       "      <td>front</td>\n",
       "      <td>88.6</td>\n",
       "      <td>...</td>\n",
       "      <td>130</td>\n",
       "      <td>mpfi</td>\n",
       "      <td>3.47</td>\n",
       "      <td>2.68</td>\n",
       "      <td>9.0</td>\n",
       "      <td>111</td>\n",
       "      <td>5000</td>\n",
       "      <td>21</td>\n",
       "      <td>27</td>\n",
       "      <td>13495</td>\n",
       "    </tr>\n",
       "    <tr>\n",
       "      <th>1</th>\n",
       "      <td>3</td>\n",
       "      <td>?</td>\n",
       "      <td>alfa-romero</td>\n",
       "      <td>gas</td>\n",
       "      <td>std</td>\n",
       "      <td>two</td>\n",
       "      <td>convertible</td>\n",
       "      <td>rwd</td>\n",
       "      <td>front</td>\n",
       "      <td>88.6</td>\n",
       "      <td>...</td>\n",
       "      <td>130</td>\n",
       "      <td>mpfi</td>\n",
       "      <td>3.47</td>\n",
       "      <td>2.68</td>\n",
       "      <td>9.0</td>\n",
       "      <td>111</td>\n",
       "      <td>5000</td>\n",
       "      <td>21</td>\n",
       "      <td>27</td>\n",
       "      <td>16500</td>\n",
       "    </tr>\n",
       "    <tr>\n",
       "      <th>2</th>\n",
       "      <td>1</td>\n",
       "      <td>?</td>\n",
       "      <td>alfa-romero</td>\n",
       "      <td>gas</td>\n",
       "      <td>std</td>\n",
       "      <td>two</td>\n",
       "      <td>hatchback</td>\n",
       "      <td>rwd</td>\n",
       "      <td>front</td>\n",
       "      <td>94.5</td>\n",
       "      <td>...</td>\n",
       "      <td>152</td>\n",
       "      <td>mpfi</td>\n",
       "      <td>2.68</td>\n",
       "      <td>3.47</td>\n",
       "      <td>9.0</td>\n",
       "      <td>154</td>\n",
       "      <td>5000</td>\n",
       "      <td>19</td>\n",
       "      <td>26</td>\n",
       "      <td>16500</td>\n",
       "    </tr>\n",
       "    <tr>\n",
       "      <th>3</th>\n",
       "      <td>2</td>\n",
       "      <td>164</td>\n",
       "      <td>audi</td>\n",
       "      <td>gas</td>\n",
       "      <td>std</td>\n",
       "      <td>four</td>\n",
       "      <td>sedan</td>\n",
       "      <td>fwd</td>\n",
       "      <td>front</td>\n",
       "      <td>99.8</td>\n",
       "      <td>...</td>\n",
       "      <td>109</td>\n",
       "      <td>mpfi</td>\n",
       "      <td>3.19</td>\n",
       "      <td>3.40</td>\n",
       "      <td>10.0</td>\n",
       "      <td>102</td>\n",
       "      <td>5500</td>\n",
       "      <td>24</td>\n",
       "      <td>30</td>\n",
       "      <td>13950</td>\n",
       "    </tr>\n",
       "    <tr>\n",
       "      <th>4</th>\n",
       "      <td>2</td>\n",
       "      <td>164</td>\n",
       "      <td>audi</td>\n",
       "      <td>gas</td>\n",
       "      <td>std</td>\n",
       "      <td>four</td>\n",
       "      <td>sedan</td>\n",
       "      <td>4wd</td>\n",
       "      <td>front</td>\n",
       "      <td>99.4</td>\n",
       "      <td>...</td>\n",
       "      <td>136</td>\n",
       "      <td>mpfi</td>\n",
       "      <td>3.19</td>\n",
       "      <td>3.40</td>\n",
       "      <td>8.0</td>\n",
       "      <td>115</td>\n",
       "      <td>5500</td>\n",
       "      <td>18</td>\n",
       "      <td>22</td>\n",
       "      <td>17450</td>\n",
       "    </tr>\n",
       "  </tbody>\n",
       "</table>\n",
       "<p>5 rows × 26 columns</p>\n",
       "</div>"
      ],
      "text/plain": [
       "   symboling normalized_losses         make fuel_type aspiration num_of_doors  \\\n",
       "0          3                 ?  alfa-romero       gas        std          two   \n",
       "1          3                 ?  alfa-romero       gas        std          two   \n",
       "2          1                 ?  alfa-romero       gas        std          two   \n",
       "3          2               164         audi       gas        std         four   \n",
       "4          2               164         audi       gas        std         four   \n",
       "\n",
       "    body_style drive_wheels engine_location  wheel_base  ...  engine_size  \\\n",
       "0  convertible          rwd           front        88.6  ...          130   \n",
       "1  convertible          rwd           front        88.6  ...          130   \n",
       "2    hatchback          rwd           front        94.5  ...          152   \n",
       "3        sedan          fwd           front        99.8  ...          109   \n",
       "4        sedan          4wd           front        99.4  ...          136   \n",
       "\n",
       "   fuel_system  bore  stroke compression_ratio horse_power  peak_rpm city_mpg  \\\n",
       "0         mpfi  3.47    2.68               9.0         111      5000       21   \n",
       "1         mpfi  3.47    2.68               9.0         111      5000       21   \n",
       "2         mpfi  2.68    3.47               9.0         154      5000       19   \n",
       "3         mpfi  3.19    3.40              10.0         102      5500       24   \n",
       "4         mpfi  3.19    3.40               8.0         115      5500       18   \n",
       "\n",
       "  highway_mpg  price  \n",
       "0          27  13495  \n",
       "1          27  16500  \n",
       "2          26  16500  \n",
       "3          30  13950  \n",
       "4          22  17450  \n",
       "\n",
       "[5 rows x 26 columns]"
      ]
     },
     "execution_count": 2,
     "metadata": {},
     "output_type": "execute_result"
    }
   ],
   "source": [
    "# take here: https://github.com/justdinhnq/python_practice/blob/main/feature_selection/cars_desc.names\n",
    "names = [\n",
    "    \"symboling\", \"normalized_losses\", \"make\", \"fuel_type\", \n",
    "    \"aspiration\", \"num_of_doors\", \"body_style\", \"drive_wheels\",\n",
    "    \"engine_location\", \"wheel_base\", \"length\", \"width\", \"height\",\n",
    "    \"curb_weight\", \"engine_type\", \"num_of_cylinders\", \"engine_size\",\n",
    "    \"fuel_system\", \"bore\", \"stroke\", \"compression_ratio\", \"horse_power\",\n",
    "    \"peak_rpm\", \"city_mpg\", \"highway_mpg\", \"price\"\n",
    "]\n",
    "\n",
    "cars = pd.read_csv(\n",
    "    \"https://archive.ics.uci.edu/ml/machine-learning-databases/autos/imports-85.data\",\n",
    "    names = names\n",
    ")\n",
    "cars.info()\n",
    "cars.head()"
   ]
  },
  {
   "cell_type": "markdown",
   "id": "a4fe23e0",
   "metadata": {
    "papermill": {
     "duration": 0.037673,
     "end_time": "2022-04-08T00:26:43.090442",
     "exception": false,
     "start_time": "2022-04-08T00:26:43.052769",
     "status": "completed"
    },
    "tags": []
   },
   "source": [
    "**Step 0.2 - change data types and drop columns**\n",
    "\n",
    "1. reduce categories \n",
    "    - 'make' = 'company name' + 'version': only keep 'company name' instead\n",
    "2. change 'object' type to 'category' type\n",
    "    - 'company_name', 'num_of_cylinders'\n",
    "3. change to 'numeric' type for columns mentioned as words\n",
    "    - 'num_of_doors', 'num_of_cylinders'\n",
    "4. change 'object' (known as 'categorical') to dummy variables"
   ]
  },
  {
   "cell_type": "markdown",
   "id": "9b160cd8",
   "metadata": {
    "papermill": {
     "duration": 0.036971,
     "end_time": "2022-04-08T00:26:43.165067",
     "exception": false,
     "start_time": "2022-04-08T00:26:43.128096",
     "status": "completed"
    },
    "tags": []
   },
   "source": [
    "1. reduce categories"
   ]
  },
  {
   "cell_type": "code",
   "execution_count": 3,
   "id": "6c3a8161",
   "metadata": {
    "execution": {
     "iopub.execute_input": "2022-04-08T00:26:43.244593Z",
     "iopub.status.busy": "2022-04-08T00:26:43.243837Z",
     "iopub.status.idle": "2022-04-08T00:26:43.250157Z",
     "shell.execute_reply": "2022-04-08T00:26:43.250673Z",
     "shell.execute_reply.started": "2022-04-08T00:24:03.722999Z"
    },
    "papermill": {
     "duration": 0.048075,
     "end_time": "2022-04-08T00:26:43.250861",
     "exception": false,
     "start_time": "2022-04-08T00:26:43.202786",
     "status": "completed"
    },
    "tags": []
   },
   "outputs": [],
   "source": [
    "cars['company_name'] = cars['make'].apply(lambda x: x.split(\" \")[0])\n",
    "\n",
    "# it's done, now drop the 'make' column for clean\n",
    "cars = cars.drop('make', axis = 1)"
   ]
  },
  {
   "cell_type": "markdown",
   "id": "6d38f933",
   "metadata": {
    "papermill": {
     "duration": 0.036941,
     "end_time": "2022-04-08T00:26:43.326621",
     "exception": false,
     "start_time": "2022-04-08T00:26:43.289680",
     "status": "completed"
    },
    "tags": []
   },
   "source": [
    "2. change 'object' type to 'category' type"
   ]
  },
  {
   "cell_type": "code",
   "execution_count": 4,
   "id": "c45fce30",
   "metadata": {
    "execution": {
     "iopub.execute_input": "2022-04-08T00:26:43.408464Z",
     "iopub.status.busy": "2022-04-08T00:26:43.407763Z",
     "iopub.status.idle": "2022-04-08T00:26:43.415585Z",
     "shell.execute_reply": "2022-04-08T00:26:43.416165Z",
     "shell.execute_reply.started": "2022-04-08T00:24:03.732718Z"
    },
    "papermill": {
     "duration": 0.051641,
     "end_time": "2022-04-08T00:26:43.416344",
     "exception": false,
     "start_time": "2022-04-08T00:26:43.364703",
     "status": "completed"
    },
    "tags": []
   },
   "outputs": [
    {
     "data": {
      "text/plain": [
       "toyota           32\n",
       "nissan           18\n",
       "mazda            17\n",
       "mitsubishi       13\n",
       "honda            13\n",
       "volkswagen       12\n",
       "subaru           12\n",
       "peugot           11\n",
       "volvo            11\n",
       "dodge             9\n",
       "mercedes-benz     8\n",
       "bmw               8\n",
       "audi              7\n",
       "plymouth          7\n",
       "saab              6\n",
       "porsche           5\n",
       "isuzu             4\n",
       "jaguar            3\n",
       "chevrolet         3\n",
       "alfa-romero       3\n",
       "renault           2\n",
       "mercury           1\n",
       "Name: company_name, dtype: int64"
      ]
     },
     "execution_count": 4,
     "metadata": {},
     "output_type": "execute_result"
    }
   ],
   "source": [
    "\n",
    "cars['company_name'].astype('category')\n",
    "cars['company_name'].value_counts()\n",
    "\n",
    "# if some are misspelled, use this example to correct them\n",
    "# cars.loc[cars['company_name'] == 'Nissan', 'company_name'] = 'nissan'\n",
    "\n"
   ]
  },
  {
   "cell_type": "markdown",
   "id": "bd86c748",
   "metadata": {
    "papermill": {
     "duration": 0.037617,
     "end_time": "2022-04-08T00:26:43.491885",
     "exception": false,
     "start_time": "2022-04-08T00:26:43.454268",
     "status": "completed"
    },
    "tags": []
   },
   "source": [
    "3. change to 'numeric' type for columns mentioned as words"
   ]
  },
  {
   "cell_type": "code",
   "execution_count": 5,
   "id": "c4088923",
   "metadata": {
    "execution": {
     "iopub.execute_input": "2022-04-08T00:26:43.572930Z",
     "iopub.status.busy": "2022-04-08T00:26:43.572248Z",
     "iopub.status.idle": "2022-04-08T00:26:43.579676Z",
     "shell.execute_reply": "2022-04-08T00:26:43.580224Z",
     "shell.execute_reply.started": "2022-04-08T00:24:03.754186Z"
    },
    "papermill": {
     "duration": 0.050625,
     "end_time": "2022-04-08T00:26:43.580404",
     "exception": false,
     "start_time": "2022-04-08T00:26:43.529779",
     "status": "completed"
    },
    "tags": []
   },
   "outputs": [],
   "source": [
    "# map 'words' to 'numeric' type\n",
    "cars['num_of_doors'] = cars['num_of_doors'].map(\n",
    "    {\n",
    "        'four':4,'two':2, \n",
    "        '?':2              # sorry, this line is only my idea :))\n",
    "    }\n",
    ")\n",
    "\n",
    "cars['num_of_cylinders'] = cars['num_of_cylinders'].map(\n",
    "    {\n",
    "        'four':4,'two':2,'six':6,'five':5,'eight':8,'three':3,'twelve':12\n",
    "    }\n",
    ")"
   ]
  },
  {
   "cell_type": "code",
   "execution_count": 6,
   "id": "7005e142",
   "metadata": {
    "execution": {
     "iopub.execute_input": "2022-04-08T00:26:43.660645Z",
     "iopub.status.busy": "2022-04-08T00:26:43.659950Z",
     "iopub.status.idle": "2022-04-08T00:26:43.665895Z",
     "shell.execute_reply": "2022-04-08T00:26:43.666400Z",
     "shell.execute_reply.started": "2022-04-08T00:24:03.767716Z"
    },
    "papermill": {
     "duration": 0.048041,
     "end_time": "2022-04-08T00:26:43.666636",
     "exception": false,
     "start_time": "2022-04-08T00:26:43.618595",
     "status": "completed"
    },
    "tags": []
   },
   "outputs": [],
   "source": [
    "# convert '?' to 0.0 before change 'object' type to 'float-64' type\n",
    "cars['price'] = cars['price'].replace('?', 0.0)\n",
    "cars['price'] = cars['price'].astype(float)"
   ]
  },
  {
   "cell_type": "markdown",
   "id": "9516b0ff",
   "metadata": {
    "papermill": {
     "duration": 0.037999,
     "end_time": "2022-04-08T00:26:43.744403",
     "exception": false,
     "start_time": "2022-04-08T00:26:43.706404",
     "status": "completed"
    },
    "tags": []
   },
   "source": [
    "4. change 'object' (known as 'categorical') to dummy variables"
   ]
  },
  {
   "cell_type": "code",
   "execution_count": 7,
   "id": "e596f7fd",
   "metadata": {
    "execution": {
     "iopub.execute_input": "2022-04-08T00:26:43.833088Z",
     "iopub.status.busy": "2022-04-08T00:26:43.825889Z",
     "iopub.status.idle": "2022-04-08T00:26:43.857094Z",
     "shell.execute_reply": "2022-04-08T00:26:43.856399Z",
     "shell.execute_reply.started": "2022-04-08T00:24:03.777851Z"
    },
    "papermill": {
     "duration": 0.075313,
     "end_time": "2022-04-08T00:26:43.857235",
     "exception": false,
     "start_time": "2022-04-08T00:26:43.781922",
     "status": "completed"
    },
    "tags": []
   },
   "outputs": [
    {
     "data": {
      "text/html": [
       "<div>\n",
       "<style scoped>\n",
       "    .dataframe tbody tr th:only-of-type {\n",
       "        vertical-align: middle;\n",
       "    }\n",
       "\n",
       "    .dataframe tbody tr th {\n",
       "        vertical-align: top;\n",
       "    }\n",
       "\n",
       "    .dataframe thead th {\n",
       "        text-align: right;\n",
       "    }\n",
       "</style>\n",
       "<table border=\"1\" class=\"dataframe\">\n",
       "  <thead>\n",
       "    <tr style=\"text-align: right;\">\n",
       "      <th></th>\n",
       "      <th>fuel_type_gas</th>\n",
       "      <th>aspiration_turbo</th>\n",
       "      <th>body_style_hardtop</th>\n",
       "      <th>body_style_hatchback</th>\n",
       "      <th>body_style_sedan</th>\n",
       "      <th>body_style_wagon</th>\n",
       "      <th>drive_wheels_fwd</th>\n",
       "      <th>drive_wheels_rwd</th>\n",
       "      <th>engine_location_rear</th>\n",
       "      <th>engine_type_dohcv</th>\n",
       "      <th>...</th>\n",
       "      <th>company_name_nissan</th>\n",
       "      <th>company_name_peugot</th>\n",
       "      <th>company_name_plymouth</th>\n",
       "      <th>company_name_porsche</th>\n",
       "      <th>company_name_renault</th>\n",
       "      <th>company_name_saab</th>\n",
       "      <th>company_name_subaru</th>\n",
       "      <th>company_name_toyota</th>\n",
       "      <th>company_name_volkswagen</th>\n",
       "      <th>company_name_volvo</th>\n",
       "    </tr>\n",
       "  </thead>\n",
       "  <tbody>\n",
       "    <tr>\n",
       "      <th>0</th>\n",
       "      <td>1</td>\n",
       "      <td>0</td>\n",
       "      <td>0</td>\n",
       "      <td>0</td>\n",
       "      <td>0</td>\n",
       "      <td>0</td>\n",
       "      <td>0</td>\n",
       "      <td>1</td>\n",
       "      <td>0</td>\n",
       "      <td>0</td>\n",
       "      <td>...</td>\n",
       "      <td>0</td>\n",
       "      <td>0</td>\n",
       "      <td>0</td>\n",
       "      <td>0</td>\n",
       "      <td>0</td>\n",
       "      <td>0</td>\n",
       "      <td>0</td>\n",
       "      <td>0</td>\n",
       "      <td>0</td>\n",
       "      <td>0</td>\n",
       "    </tr>\n",
       "    <tr>\n",
       "      <th>1</th>\n",
       "      <td>1</td>\n",
       "      <td>0</td>\n",
       "      <td>0</td>\n",
       "      <td>0</td>\n",
       "      <td>0</td>\n",
       "      <td>0</td>\n",
       "      <td>0</td>\n",
       "      <td>1</td>\n",
       "      <td>0</td>\n",
       "      <td>0</td>\n",
       "      <td>...</td>\n",
       "      <td>0</td>\n",
       "      <td>0</td>\n",
       "      <td>0</td>\n",
       "      <td>0</td>\n",
       "      <td>0</td>\n",
       "      <td>0</td>\n",
       "      <td>0</td>\n",
       "      <td>0</td>\n",
       "      <td>0</td>\n",
       "      <td>0</td>\n",
       "    </tr>\n",
       "    <tr>\n",
       "      <th>2</th>\n",
       "      <td>1</td>\n",
       "      <td>0</td>\n",
       "      <td>0</td>\n",
       "      <td>1</td>\n",
       "      <td>0</td>\n",
       "      <td>0</td>\n",
       "      <td>0</td>\n",
       "      <td>1</td>\n",
       "      <td>0</td>\n",
       "      <td>0</td>\n",
       "      <td>...</td>\n",
       "      <td>0</td>\n",
       "      <td>0</td>\n",
       "      <td>0</td>\n",
       "      <td>0</td>\n",
       "      <td>0</td>\n",
       "      <td>0</td>\n",
       "      <td>0</td>\n",
       "      <td>0</td>\n",
       "      <td>0</td>\n",
       "      <td>0</td>\n",
       "    </tr>\n",
       "    <tr>\n",
       "      <th>3</th>\n",
       "      <td>1</td>\n",
       "      <td>0</td>\n",
       "      <td>0</td>\n",
       "      <td>0</td>\n",
       "      <td>1</td>\n",
       "      <td>0</td>\n",
       "      <td>1</td>\n",
       "      <td>0</td>\n",
       "      <td>0</td>\n",
       "      <td>0</td>\n",
       "      <td>...</td>\n",
       "      <td>0</td>\n",
       "      <td>0</td>\n",
       "      <td>0</td>\n",
       "      <td>0</td>\n",
       "      <td>0</td>\n",
       "      <td>0</td>\n",
       "      <td>0</td>\n",
       "      <td>0</td>\n",
       "      <td>0</td>\n",
       "      <td>0</td>\n",
       "    </tr>\n",
       "    <tr>\n",
       "      <th>4</th>\n",
       "      <td>1</td>\n",
       "      <td>0</td>\n",
       "      <td>0</td>\n",
       "      <td>0</td>\n",
       "      <td>1</td>\n",
       "      <td>0</td>\n",
       "      <td>0</td>\n",
       "      <td>0</td>\n",
       "      <td>0</td>\n",
       "      <td>0</td>\n",
       "      <td>...</td>\n",
       "      <td>0</td>\n",
       "      <td>0</td>\n",
       "      <td>0</td>\n",
       "      <td>0</td>\n",
       "      <td>0</td>\n",
       "      <td>0</td>\n",
       "      <td>0</td>\n",
       "      <td>0</td>\n",
       "      <td>0</td>\n",
       "      <td>0</td>\n",
       "    </tr>\n",
       "  </tbody>\n",
       "</table>\n",
       "<p>5 rows × 199 columns</p>\n",
       "</div>"
      ],
      "text/plain": [
       "   fuel_type_gas  aspiration_turbo  body_style_hardtop  body_style_hatchback  \\\n",
       "0              1                 0                   0                     0   \n",
       "1              1                 0                   0                     0   \n",
       "2              1                 0                   0                     1   \n",
       "3              1                 0                   0                     0   \n",
       "4              1                 0                   0                     0   \n",
       "\n",
       "   body_style_sedan  body_style_wagon  drive_wheels_fwd  drive_wheels_rwd  \\\n",
       "0                 0                 0                 0                 1   \n",
       "1                 0                 0                 0                 1   \n",
       "2                 0                 0                 0                 1   \n",
       "3                 1                 0                 1                 0   \n",
       "4                 1                 0                 0                 0   \n",
       "\n",
       "   engine_location_rear  engine_type_dohcv  ...  company_name_nissan  \\\n",
       "0                     0                  0  ...                    0   \n",
       "1                     0                  0  ...                    0   \n",
       "2                     0                  0  ...                    0   \n",
       "3                     0                  0  ...                    0   \n",
       "4                     0                  0  ...                    0   \n",
       "\n",
       "   company_name_peugot  company_name_plymouth  company_name_porsche  \\\n",
       "0                    0                      0                     0   \n",
       "1                    0                      0                     0   \n",
       "2                    0                      0                     0   \n",
       "3                    0                      0                     0   \n",
       "4                    0                      0                     0   \n",
       "\n",
       "   company_name_renault  company_name_saab  company_name_subaru  \\\n",
       "0                     0                  0                    0   \n",
       "1                     0                  0                    0   \n",
       "2                     0                  0                    0   \n",
       "3                     0                  0                    0   \n",
       "4                     0                  0                    0   \n",
       "\n",
       "   company_name_toyota  company_name_volkswagen  company_name_volvo  \n",
       "0                    0                        0                   0  \n",
       "1                    0                        0                   0  \n",
       "2                    0                        0                   0  \n",
       "3                    0                        0                   0  \n",
       "4                    0                        0                   0  \n",
       "\n",
       "[5 rows x 199 columns]"
      ]
     },
     "execution_count": 7,
     "metadata": {},
     "output_type": "execute_result"
    }
   ],
   "source": [
    "# models can't learn from categorical variables, \n",
    "# so we need to make dummy variables to convert them into numeric types\n",
    "\n",
    "# extra part: no need 'normalized_losses' 'object' column\n",
    "cars = cars.drop(['normalized_losses'], axis = 1)\n",
    "\n",
    "\n",
    "# get categorical vars\n",
    "cars_category = cars.select_dtypes(include=['object'])\n",
    "\n",
    "# make dummy vars\n",
    "# drop_first = True => don't have 'fuel_type_diesel', same as for other dummy vars\n",
    "cars_dummies = pd.get_dummies(cars_category, drop_first=True)\n",
    "cars_dummies.head()"
   ]
  },
  {
   "cell_type": "code",
   "execution_count": 8,
   "id": "0bbcb771",
   "metadata": {
    "execution": {
     "iopub.execute_input": "2022-04-08T00:26:43.942943Z",
     "iopub.status.busy": "2022-04-08T00:26:43.941891Z",
     "iopub.status.idle": "2022-04-08T00:26:43.945550Z",
     "shell.execute_reply": "2022-04-08T00:26:43.946149Z",
     "shell.execute_reply.started": "2022-04-08T00:24:03.818371Z"
    },
    "papermill": {
     "duration": 0.050362,
     "end_time": "2022-04-08T00:26:43.946318",
     "exception": false,
     "start_time": "2022-04-08T00:26:43.895956",
     "status": "completed"
    },
    "tags": []
   },
   "outputs": [],
   "source": [
    "# drop categorical columns \n",
    "list_cats = list(cars_category)\n",
    "cars = cars.drop(list_cats, axis = 1)\n",
    "\n",
    "# and add new dummies\n",
    "cars = pd.concat([cars, cars_dummies], axis = 1)"
   ]
  },
  {
   "cell_type": "markdown",
   "id": "32d1fc11",
   "metadata": {
    "papermill": {
     "duration": 0.037845,
     "end_time": "2022-04-08T00:26:44.022637",
     "exception": false,
     "start_time": "2022-04-08T00:26:43.984792",
     "status": "completed"
    },
    "tags": []
   },
   "source": [
    "## Step 0 - Data Scaling"
   ]
  },
  {
   "cell_type": "markdown",
   "id": "c858fb4c",
   "metadata": {
    "papermill": {
     "duration": 0.03835,
     "end_time": "2022-04-08T00:26:44.100209",
     "exception": false,
     "start_time": "2022-04-08T00:26:44.061859",
     "status": "completed"
    },
    "tags": []
   },
   "source": [
    "Now we have all features as numeric data types.\n",
    "\n",
    "The categorical features don't need to be scaled.\n",
    "\n",
    "Let's scale all the numerical features to normalize the data within a particular range.\n",
    "\n",
    "But we can only scale the training set features, not the test set."
   ]
  },
  {
   "cell_type": "code",
   "execution_count": 9,
   "id": "b4189d2e",
   "metadata": {
    "execution": {
     "iopub.execute_input": "2022-04-08T00:26:44.181171Z",
     "iopub.status.busy": "2022-04-08T00:26:44.180496Z",
     "iopub.status.idle": "2022-04-08T00:26:44.213562Z",
     "shell.execute_reply": "2022-04-08T00:26:44.214157Z",
     "shell.execute_reply.started": "2022-04-08T00:24:03.827297Z"
    },
    "papermill": {
     "duration": 0.075553,
     "end_time": "2022-04-08T00:26:44.214326",
     "exception": false,
     "start_time": "2022-04-08T00:26:44.138773",
     "status": "completed"
    },
    "tags": []
   },
   "outputs": [
    {
     "data": {
      "text/html": [
       "<div>\n",
       "<style scoped>\n",
       "    .dataframe tbody tr th:only-of-type {\n",
       "        vertical-align: middle;\n",
       "    }\n",
       "\n",
       "    .dataframe tbody tr th {\n",
       "        vertical-align: top;\n",
       "    }\n",
       "\n",
       "    .dataframe thead th {\n",
       "        text-align: right;\n",
       "    }\n",
       "</style>\n",
       "<table border=\"1\" class=\"dataframe\">\n",
       "  <thead>\n",
       "    <tr style=\"text-align: right;\">\n",
       "      <th></th>\n",
       "      <th>symboling</th>\n",
       "      <th>num_of_doors</th>\n",
       "      <th>wheel_base</th>\n",
       "      <th>length</th>\n",
       "      <th>width</th>\n",
       "      <th>height</th>\n",
       "      <th>curb_weight</th>\n",
       "      <th>num_of_cylinders</th>\n",
       "      <th>engine_size</th>\n",
       "      <th>compression_ratio</th>\n",
       "      <th>...</th>\n",
       "      <th>company_name_nissan</th>\n",
       "      <th>company_name_peugot</th>\n",
       "      <th>company_name_plymouth</th>\n",
       "      <th>company_name_porsche</th>\n",
       "      <th>company_name_renault</th>\n",
       "      <th>company_name_saab</th>\n",
       "      <th>company_name_subaru</th>\n",
       "      <th>company_name_toyota</th>\n",
       "      <th>company_name_volkswagen</th>\n",
       "      <th>company_name_volvo</th>\n",
       "    </tr>\n",
       "  </thead>\n",
       "  <tbody>\n",
       "    <tr>\n",
       "      <th>122</th>\n",
       "      <td>0.170159</td>\n",
       "      <td>0.900070</td>\n",
       "      <td>-0.811836</td>\n",
       "      <td>-0.487238</td>\n",
       "      <td>-0.924500</td>\n",
       "      <td>-1.134628</td>\n",
       "      <td>-0.642128</td>\n",
       "      <td>-0.351431</td>\n",
       "      <td>-0.660242</td>\n",
       "      <td>-0.172569</td>\n",
       "      <td>...</td>\n",
       "      <td>0</td>\n",
       "      <td>0</td>\n",
       "      <td>1</td>\n",
       "      <td>0</td>\n",
       "      <td>0</td>\n",
       "      <td>0</td>\n",
       "      <td>0</td>\n",
       "      <td>0</td>\n",
       "      <td>0</td>\n",
       "      <td>0</td>\n",
       "    </tr>\n",
       "    <tr>\n",
       "      <th>125</th>\n",
       "      <td>1.848278</td>\n",
       "      <td>-1.111024</td>\n",
       "      <td>-0.677177</td>\n",
       "      <td>-0.359789</td>\n",
       "      <td>1.114978</td>\n",
       "      <td>-1.382026</td>\n",
       "      <td>0.439415</td>\n",
       "      <td>-0.351431</td>\n",
       "      <td>0.637806</td>\n",
       "      <td>-0.146125</td>\n",
       "      <td>...</td>\n",
       "      <td>0</td>\n",
       "      <td>0</td>\n",
       "      <td>0</td>\n",
       "      <td>1</td>\n",
       "      <td>0</td>\n",
       "      <td>0</td>\n",
       "      <td>0</td>\n",
       "      <td>0</td>\n",
       "      <td>0</td>\n",
       "      <td>0</td>\n",
       "    </tr>\n",
       "    <tr>\n",
       "      <th>166</th>\n",
       "      <td>0.170159</td>\n",
       "      <td>-1.111024</td>\n",
       "      <td>-0.677177</td>\n",
       "      <td>-0.375720</td>\n",
       "      <td>-0.833856</td>\n",
       "      <td>-0.392434</td>\n",
       "      <td>-0.441296</td>\n",
       "      <td>-0.351431</td>\n",
       "      <td>-0.660242</td>\n",
       "      <td>-0.172569</td>\n",
       "      <td>...</td>\n",
       "      <td>0</td>\n",
       "      <td>0</td>\n",
       "      <td>0</td>\n",
       "      <td>0</td>\n",
       "      <td>0</td>\n",
       "      <td>0</td>\n",
       "      <td>0</td>\n",
       "      <td>1</td>\n",
       "      <td>0</td>\n",
       "      <td>0</td>\n",
       "    </tr>\n",
       "    <tr>\n",
       "      <th>1</th>\n",
       "      <td>1.848278</td>\n",
       "      <td>-1.111024</td>\n",
       "      <td>-1.670284</td>\n",
       "      <td>-0.367754</td>\n",
       "      <td>-0.788535</td>\n",
       "      <td>-1.959288</td>\n",
       "      <td>0.015642</td>\n",
       "      <td>-0.351431</td>\n",
       "      <td>0.123485</td>\n",
       "      <td>-0.278345</td>\n",
       "      <td>...</td>\n",
       "      <td>0</td>\n",
       "      <td>0</td>\n",
       "      <td>0</td>\n",
       "      <td>0</td>\n",
       "      <td>0</td>\n",
       "      <td>0</td>\n",
       "      <td>0</td>\n",
       "      <td>0</td>\n",
       "      <td>0</td>\n",
       "      <td>0</td>\n",
       "    </tr>\n",
       "    <tr>\n",
       "      <th>199</th>\n",
       "      <td>-1.507960</td>\n",
       "      <td>0.900070</td>\n",
       "      <td>0.972390</td>\n",
       "      <td>1.225364</td>\n",
       "      <td>0.616439</td>\n",
       "      <td>1.627983</td>\n",
       "      <td>1.137720</td>\n",
       "      <td>-0.351431</td>\n",
       "      <td>0.123485</td>\n",
       "      <td>-0.675002</td>\n",
       "      <td>...</td>\n",
       "      <td>0</td>\n",
       "      <td>0</td>\n",
       "      <td>0</td>\n",
       "      <td>0</td>\n",
       "      <td>0</td>\n",
       "      <td>0</td>\n",
       "      <td>0</td>\n",
       "      <td>0</td>\n",
       "      <td>0</td>\n",
       "      <td>1</td>\n",
       "    </tr>\n",
       "  </tbody>\n",
       "</table>\n",
       "<p>5 rows × 212 columns</p>\n",
       "</div>"
      ],
      "text/plain": [
       "     symboling  num_of_doors  wheel_base    length     width    height  \\\n",
       "122   0.170159      0.900070   -0.811836 -0.487238 -0.924500 -1.134628   \n",
       "125   1.848278     -1.111024   -0.677177 -0.359789  1.114978 -1.382026   \n",
       "166   0.170159     -1.111024   -0.677177 -0.375720 -0.833856 -0.392434   \n",
       "1     1.848278     -1.111024   -1.670284 -0.367754 -0.788535 -1.959288   \n",
       "199  -1.507960      0.900070    0.972390  1.225364  0.616439  1.627983   \n",
       "\n",
       "     curb_weight  num_of_cylinders  engine_size  compression_ratio  ...  \\\n",
       "122    -0.642128         -0.351431    -0.660242          -0.172569  ...   \n",
       "125     0.439415         -0.351431     0.637806          -0.146125  ...   \n",
       "166    -0.441296         -0.351431    -0.660242          -0.172569  ...   \n",
       "1       0.015642         -0.351431     0.123485          -0.278345  ...   \n",
       "199     1.137720         -0.351431     0.123485          -0.675002  ...   \n",
       "\n",
       "     company_name_nissan  company_name_peugot  company_name_plymouth  \\\n",
       "122                    0                    0                      1   \n",
       "125                    0                    0                      0   \n",
       "166                    0                    0                      0   \n",
       "1                      0                    0                      0   \n",
       "199                    0                    0                      0   \n",
       "\n",
       "     company_name_porsche  company_name_renault  company_name_saab  \\\n",
       "122                     0                     0                  0   \n",
       "125                     1                     0                  0   \n",
       "166                     0                     0                  0   \n",
       "1                       0                     0                  0   \n",
       "199                     0                     0                  0   \n",
       "\n",
       "     company_name_subaru  company_name_toyota  company_name_volkswagen  \\\n",
       "122                    0                    0                        0   \n",
       "125                    0                    0                        0   \n",
       "166                    0                    1                        0   \n",
       "1                      0                    0                        0   \n",
       "199                    0                    0                        0   \n",
       "\n",
       "     company_name_volvo  \n",
       "122                   0  \n",
       "125                   0  \n",
       "166                   0  \n",
       "1                     0  \n",
       "199                   1  \n",
       "\n",
       "[5 rows x 212 columns]"
      ]
     },
     "execution_count": 9,
     "metadata": {},
     "output_type": "execute_result"
    }
   ],
   "source": [
    "# 1. split the dataset\n",
    "df_train, df_test = train_test_split(\n",
    "    cars, train_size = 0.7, test_size = 0.3, random_state = 100\n",
    ")\n",
    "\n",
    "# 2. scaling \n",
    "scale = StandardScaler()\n",
    "scale_features = cars.select_dtypes(include = ['float64', 'int64']).columns\n",
    "\n",
    "df_train[scale_features] = scale.fit_transform(df_train[scale_features])\n",
    "\n",
    "# review \n",
    "df_train.head()"
   ]
  },
  {
   "cell_type": "markdown",
   "id": "47709e12",
   "metadata": {
    "papermill": {
     "duration": 0.03863,
     "end_time": "2022-04-08T00:26:44.291985",
     "exception": false,
     "start_time": "2022-04-08T00:26:44.253355",
     "status": "completed"
    },
    "tags": []
   },
   "source": [
    "### Last prep. step"
   ]
  },
  {
   "cell_type": "code",
   "execution_count": 10,
   "id": "eda660ba",
   "metadata": {
    "execution": {
     "iopub.execute_input": "2022-04-08T00:26:44.374453Z",
     "iopub.status.busy": "2022-04-08T00:26:44.373749Z",
     "iopub.status.idle": "2022-04-08T00:26:44.379220Z",
     "shell.execute_reply": "2022-04-08T00:26:44.378678Z",
     "shell.execute_reply.started": "2022-04-08T00:24:03.868801Z"
    },
    "papermill": {
     "duration": 0.048468,
     "end_time": "2022-04-08T00:26:44.379359",
     "exception": false,
     "start_time": "2022-04-08T00:26:44.330891",
     "status": "completed"
    },
    "tags": []
   },
   "outputs": [],
   "source": [
    "# split the train and test dataset into X and y\n",
    "\n",
    "# remove 'price' from the dataset and assign to y\n",
    "y_train = df_train.pop('price')\n",
    "\n",
    "# the dataset without y 'price'\n",
    "X_train = df_train\n",
    "\n",
    "y_test = df_test.pop('price')\n",
    "X_test = df_test"
   ]
  },
  {
   "cell_type": "markdown",
   "id": "1b49e4ff",
   "metadata": {
    "papermill": {
     "duration": 0.039424,
     "end_time": "2022-04-08T00:26:44.458288",
     "exception": false,
     "start_time": "2022-04-08T00:26:44.418864",
     "status": "completed"
    },
    "tags": []
   },
   "source": [
    "## Step 1 - Feature Selection methods\n",
    "\n",
    "**1.1. Filter methods - Missing Values Ratio**\n",
    "\n",
    "Theoretically, the acceptable threshold of missing values: 25-30%.\n",
    "\n",
    "If having the domain knowledge, it's always better to make an educated guess if the feature is crucial to the model. In such a case, try imputing the missing values using various techniques [here](https://towardsdatascience.com/all-about-missing-data-handling-b94b8b5d2184)"
   ]
  },
  {
   "cell_type": "code",
   "execution_count": 11,
   "id": "7b7394a2",
   "metadata": {
    "execution": {
     "iopub.execute_input": "2022-04-08T00:26:44.540405Z",
     "iopub.status.busy": "2022-04-08T00:26:44.539736Z",
     "iopub.status.idle": "2022-04-08T00:26:44.554260Z",
     "shell.execute_reply": "2022-04-08T00:26:44.554944Z",
     "shell.execute_reply.started": "2022-04-08T00:24:03.878223Z"
    },
    "papermill": {
     "duration": 0.057781,
     "end_time": "2022-04-08T00:26:44.555181",
     "exception": false,
     "start_time": "2022-04-08T00:26:44.497400",
     "status": "completed"
    },
    "tags": []
   },
   "outputs": [
    {
     "name": "stdout",
     "output_type": "stream",
     "text": [
      "symboling       0.0\n",
      "num_of_doors    0.0\n",
      "wheel_base      0.0\n",
      "length          0.0\n",
      "width           0.0\n",
      "dtype: float64\n"
     ]
    }
   ],
   "source": [
    "sum_na = df_train.isnull().sum()\n",
    "df_len = len(df_train)\n",
    "\n",
    "ratio = (sum_na / df_len) * 100\n",
    "\n",
    "# 5 largest values\n",
    "print(ratio.nlargest())"
   ]
  },
  {
   "cell_type": "markdown",
   "id": "e3624875",
   "metadata": {
    "papermill": {
     "duration": 0.040036,
     "end_time": "2022-04-08T00:26:44.637083",
     "exception": false,
     "start_time": "2022-04-08T00:26:44.597047",
     "status": "completed"
    },
    "tags": []
   },
   "source": [
    "**1.2. Filter methods - Variance threshold**\n",
    "\n",
    "**Zero variance**: features in which identical value occupies the majority of the samples \n",
    "\n",
    "Such features carrying little information won't affect the target variable and can be dropped\n",
    "\n",
    "Threshold value:\n",
    "- default = 0: remove features that have the same value in all samples\n",
    "- 0.01: drop the column where 99% of the values are similar. \n",
    "\n",
    "Using '0.01' for quasi-constant features, that have the same value for a very large subset."
   ]
  },
  {
   "cell_type": "code",
   "execution_count": 12,
   "id": "69473d29",
   "metadata": {
    "execution": {
     "iopub.execute_input": "2022-04-08T00:26:44.729684Z",
     "iopub.status.busy": "2022-04-08T00:26:44.728595Z",
     "iopub.status.idle": "2022-04-08T00:26:44.737785Z",
     "shell.execute_reply": "2022-04-08T00:26:44.737209Z",
     "shell.execute_reply.started": "2022-04-08T00:24:03.898994Z"
    },
    "papermill": {
     "duration": 0.059613,
     "end_time": "2022-04-08T00:26:44.737926",
     "exception": false,
     "start_time": "2022-04-08T00:26:44.678313",
     "status": "completed"
    },
    "tags": []
   },
   "outputs": [
    {
     "name": "stdout",
     "output_type": "stream",
     "text": [
      "(143, 211)\n",
      "(143, 196)\n",
      "196\n"
     ]
    }
   ],
   "source": [
    "# before applying\n",
    "print(df_train.shape)\n",
    "\n",
    "# drop features with Zero variance \n",
    "var_filter = VarianceThreshold(threshold = 0.0)\n",
    "train = var_filter.fit_transform(df_train)\n",
    "\n",
    "# after applying: get the count of features that aren't constant\n",
    "print(train.shape)\n",
    "\n",
    "indexes = var_filter.get_support()\n",
    "print(len(df_train.columns[indexes]))"
   ]
  },
  {
   "cell_type": "markdown",
   "id": "1feeb39d",
   "metadata": {
    "papermill": {
     "duration": 0.039611,
     "end_time": "2022-04-08T00:26:44.817815",
     "exception": false,
     "start_time": "2022-04-08T00:26:44.778204",
     "status": "completed"
    },
    "tags": []
   },
   "source": [
    "**1.3. Correlation coefficient**\n",
    "\n",
    "2 independent features (X) are highly correlated if they have a strong relationship with each other and move in a similar direction. In that case, we don't need 2 similar features to be fed to the model, if one can suffice.\n",
    "\n",
    "If a pair of columns cross a certain threshold, the one that shows a high correlation with the target variable (y) will be kept and the other one will be dropped\n",
    "\n",
    "- Pearson correlation (for continuous data):\n",
    "    + assumption: the observed data follows some distribution pattern (e.g. normal, gaussian)\n",
    "    + -1 <= r < 1\n",
    "    + Ho: correlation between variables is not significant (= 0)\n",
    "    + p-value < alpha: the sample contains sufficient evidence to reject Ho and conclude that the correlation coefficient does not equal zero.\n",
    "- Spearman rank (for continuous + ordinal data)\n",
    "    + Spearman = Pearson but fail the assumptions\n",
    "    \n",
    "- Kendall (for discrete/ordinal data)\n",
    "    + compares # of concordant and discordant pairs of data"
   ]
  },
  {
   "cell_type": "code",
   "execution_count": 13,
   "id": "e10cfd9d",
   "metadata": {
    "execution": {
     "iopub.execute_input": "2022-04-08T00:26:44.902138Z",
     "iopub.status.busy": "2022-04-08T00:26:44.901111Z",
     "iopub.status.idle": "2022-04-08T00:26:44.904717Z",
     "shell.execute_reply": "2022-04-08T00:26:44.905264Z",
     "shell.execute_reply.started": "2022-04-08T00:24:03.917996Z"
    },
    "papermill": {
     "duration": 0.047705,
     "end_time": "2022-04-08T00:26:44.905467",
     "exception": false,
     "start_time": "2022-04-08T00:26:44.857762",
     "status": "completed"
    },
    "tags": []
   },
   "outputs": [],
   "source": [
    "# use this one!\n",
    "#coef, p = pearsonrr(x, y)\n",
    "#x.corr(y)\n",
    "\n",
    "# don't use Spearman and Kendall\n",
    "# since they work best only with ordinal variables and\n",
    "# we have 60% continuous variables\n",
    "#coef, p = spearman(x, y)\n",
    "#x.corr(y, method = 'spearman')\n",
    "\n",
    "#coef, p = kendalltau(x, y)\n",
    "#x.corr(y, method = 'kendall')"
   ]
  },
  {
   "cell_type": "markdown",
   "id": "3d52df4e",
   "metadata": {
    "papermill": {
     "duration": 0.039844,
     "end_time": "2022-04-08T00:26:44.986086",
     "exception": false,
     "start_time": "2022-04-08T00:26:44.946242",
     "status": "completed"
    },
    "tags": []
   },
   "source": [
    "**1.4. Chi-Square tests (for categorical data)**\n",
    "\n",
    "Ho: the 2 variables are independent\n",
    "\n",
    "Those tests come in 2 variations:\n",
    "- one evaluates the goodness-of-fit\n",
    "- other one: the test of independence"
   ]
  },
  {
   "cell_type": "markdown",
   "id": "1fdb5869",
   "metadata": {
    "papermill": {
     "duration": 0.039532,
     "end_time": "2022-04-08T00:26:45.066488",
     "exception": false,
     "start_time": "2022-04-08T00:26:45.026956",
     "status": "completed"
    },
    "tags": []
   },
   "source": [
    "With this dataset, Chi-square would not work since it needs categorical variables and non-negative values."
   ]
  },
  {
   "cell_type": "code",
   "execution_count": 14,
   "id": "6c56a8ae",
   "metadata": {
    "execution": {
     "iopub.execute_input": "2022-04-08T00:26:45.150329Z",
     "iopub.status.busy": "2022-04-08T00:26:45.149330Z",
     "iopub.status.idle": "2022-04-08T00:26:45.152930Z",
     "shell.execute_reply": "2022-04-08T00:26:45.153608Z",
     "shell.execute_reply.started": "2022-04-08T00:24:03.924934Z"
    },
    "papermill": {
     "duration": 0.047134,
     "end_time": "2022-04-08T00:26:45.153781",
     "exception": false,
     "start_time": "2022-04-08T00:26:45.106647",
     "status": "completed"
    },
    "tags": []
   },
   "outputs": [],
   "source": [
    "# X_train = X_train.astype(int)\n",
    "# chi2_features = SelectKBest(chi2, k = 12)\n",
    "\n",
    "# return top features affect the outcome the most!\n",
    "# X_kbest_features = chi2_features.fit_transform(X_train, y_train)"
   ]
  },
  {
   "cell_type": "markdown",
   "id": "34438152",
   "metadata": {
    "papermill": {
     "duration": 0.039405,
     "end_time": "2022-04-08T00:26:45.233011",
     "exception": false,
     "start_time": "2022-04-08T00:26:45.193606",
     "status": "completed"
    },
    "tags": []
   },
   "source": [
    "**1.5. Mutual information (for both regression & classification)**\n",
    "- how much will the target variable be impacted if we remove or add the feature?\n",
    "- MI = 0 if both variables are independent\n",
    "- 0-1 if X is deterministic of Y"
   ]
  },
  {
   "cell_type": "code",
   "execution_count": 15,
   "id": "2b9ee6fb",
   "metadata": {
    "execution": {
     "iopub.execute_input": "2022-04-08T00:26:45.317079Z",
     "iopub.status.busy": "2022-04-08T00:26:45.316085Z",
     "iopub.status.idle": "2022-04-08T00:26:45.680363Z",
     "shell.execute_reply": "2022-04-08T00:26:45.679773Z",
     "shell.execute_reply.started": "2022-04-08T00:24:03.941178Z"
    },
    "papermill": {
     "duration": 0.407539,
     "end_time": "2022-04-08T00:26:45.680552",
     "exception": false,
     "start_time": "2022-04-08T00:26:45.273013",
     "status": "completed"
    },
    "tags": []
   },
   "outputs": [
    {
     "name": "stdout",
     "output_type": "stream",
     "text": [
      "symboling\n"
     ]
    }
   ],
   "source": [
    "missingCol = df_train.count().idxmin()\n",
    "print(missingCol)\n",
    "\n",
    "selector = SelectKBest(mutual_info_regression, k = 10)\n",
    "train = selector.fit_transform(X_train, y_train)\n",
    "\n",
    "# rows x cols\n",
    "train.shape\n",
    "\n",
    "# from 0 to 1\n",
    "selector.scores_\n",
    "\n",
    "# names of the selected features\n",
    "mask = selector.get_support()\n",
    "new_features = X_train.columns[mask]"
   ]
  },
  {
   "cell_type": "markdown",
   "id": "d7ef3984",
   "metadata": {
    "papermill": {
     "duration": 0.04205,
     "end_time": "2022-04-08T00:26:45.765020",
     "exception": false,
     "start_time": "2022-04-08T00:26:45.722970",
     "status": "completed"
    },
    "tags": []
   },
   "source": [
    "**1.6. ANOVA**\n",
    "\n",
    "**Concept:**\n",
    "\n",
    "ANOVA is primarily an extension of a t-test.\n",
    "- t-test: 2 groups\n",
    "- ANOVA: >2 groups\n",
    "- to see a difference in means and determine if they came from the same population.\n",
    "- ANOVA uses F-Test for statistical significance, which is the ratio of the **variance between groups** to the **variance within groups**\n",
    "\n",
    "Ho: means of all groups are equal\n",
    "H1: at least one mean of the groups are different\n",
    "\n",
    "**Practice: **\n",
    "\n",
    "Using a feature 'fuel_type' that has 2 groups - ‘diesel’ and ‘gas’."
   ]
  },
  {
   "cell_type": "code",
   "execution_count": 16,
   "id": "60e448e5",
   "metadata": {
    "execution": {
     "iopub.execute_input": "2022-04-08T00:26:45.850321Z",
     "iopub.status.busy": "2022-04-08T00:26:45.849280Z",
     "iopub.status.idle": "2022-04-08T00:26:45.874895Z",
     "shell.execute_reply": "2022-04-08T00:26:45.876483Z",
     "shell.execute_reply.started": "2022-04-08T00:24:04.309417Z"
    },
    "papermill": {
     "duration": 0.071366,
     "end_time": "2022-04-08T00:26:45.876941",
     "exception": false,
     "start_time": "2022-04-08T00:26:45.805575",
     "status": "completed"
    },
    "tags": []
   },
   "outputs": [
    {
     "name": "stdout",
     "output_type": "stream",
     "text": [
      "(143, 211) (143, 20)\n"
     ]
    }
   ],
   "source": [
    "# select features according to the k highest scores\n",
    "# score_function = f_regression: regression with f-test\n",
    "# k = 20: max 20 top features to select\n",
    "fvalue_selector = SelectKBest(f_regression, k = 20)\n",
    "\n",
    "X_train_new = fvalue_selector.fit_transform(X_train, y_train)\n",
    "\n",
    "print(X_train.shape, X_train_new.shape)"
   ]
  },
  {
   "cell_type": "markdown",
   "id": "d20e3cf3",
   "metadata": {
    "papermill": {
     "duration": 0.052481,
     "end_time": "2022-04-08T00:26:46.005215",
     "exception": false,
     "start_time": "2022-04-08T00:26:45.952734",
     "status": "completed"
    },
    "tags": []
   },
   "source": [
    "**2.1. Wrapper Methods - Sequential Feature Selection**\n",
    "\n",
    "A greedy search algorithm comes in 2 variants: \n",
    "- Sequential Forward Selection (SFS)\n",
    "    - It starts with a null set of features and then looks for a feature that **minimizes the cost function (the lowest cost model)**.\n",
    "    - Once the feature is found, it gets added to the feature subset and in the same way one by one, it finds the right set of features to build an optimal model.\n",
    "    - Main Limitation: unable to remove features that become non-useful after the addition of other features\n",
    "- Sequential Backward Selection (SBS)\n",
    "    - A totally opposite route: it starts with all the features and iteratively removes one by one feature depending on the performance.\n",
    "    - Main Limitation: unable to re-evaluate the usefulness of a feature after it has been discarded.\n",
    "    \n",
    "\n",
    "\n"
   ]
  },
  {
   "cell_type": "code",
   "execution_count": 17,
   "id": "7ad3c84f",
   "metadata": {
    "execution": {
     "iopub.execute_input": "2022-04-08T00:26:46.097378Z",
     "iopub.status.busy": "2022-04-08T00:26:46.096335Z",
     "iopub.status.idle": "2022-04-08T00:26:53.887057Z",
     "shell.execute_reply": "2022-04-08T00:26:53.886510Z",
     "shell.execute_reply.started": "2022-04-08T00:24:04.336132Z"
    },
    "papermill": {
     "duration": 7.839124,
     "end_time": "2022-04-08T00:26:53.887210",
     "exception": false,
     "start_time": "2022-04-08T00:26:46.048086",
     "status": "completed"
    },
    "tags": []
   },
   "outputs": [],
   "source": [
    "sfs = SequentialFeatureSelector(\n",
    "    LinearRegression(),\n",
    "    k_features = 10,\n",
    "    forward = True,  # forward = True: SFS; = False: SBS\n",
    "    floating = False,\n",
    "    scoring = 'accuracy',\n",
    "    cv = 2          # cv: k-fold cross validation\n",
    ")\n",
    "sfs = sfs.fit(X_train, y_train)\n",
    "\n",
    "k_feature_indexes = list(sfs.k_feature_idx_)\n",
    "selected_features = X_train.columns[k_feature_indexes]\n",
    "\n",
    "# the final prediction score\n",
    "sfs.k_score_\n",
    "\n",
    "# transform to the newly selected features\n",
    "x_train_new = sfs.transform(X_train)"
   ]
  },
  {
   "cell_type": "markdown",
   "id": "b09e2133",
   "metadata": {
    "papermill": {
     "duration": 0.041381,
     "end_time": "2022-04-08T00:26:53.970700",
     "exception": false,
     "start_time": "2022-04-08T00:26:53.929319",
     "status": "completed"
    },
    "tags": []
   },
   "source": [
    "**2.2. Wrapper Methods - Recursive Feature Elimination (RFE)** for Regression\n",
    "- repeatedly performs model building by considering smaller subsets of features each time.\n",
    "- How: \n",
    "    - Step 1: after an estimator is trained on the features, it returns a rank value based on the model's **coef_** or **feature_importances_** attribute conveying the importance of each feature.\n",
    "    - Step 2: the least important features are pruned from the current set of features.\n",
    "    - recursively repeated "
   ]
  },
  {
   "cell_type": "code",
   "execution_count": 18,
   "id": "0bce6a95",
   "metadata": {
    "execution": {
     "iopub.execute_input": "2022-04-08T00:26:54.057608Z",
     "iopub.status.busy": "2022-04-08T00:26:54.056845Z",
     "iopub.status.idle": "2022-04-08T00:26:55.139990Z",
     "shell.execute_reply": "2022-04-08T00:26:55.140932Z",
     "shell.execute_reply.started": "2022-04-08T00:24:12.232062Z"
    },
    "papermill": {
     "duration": 1.129306,
     "end_time": "2022-04-08T00:26:55.141213",
     "exception": false,
     "start_time": "2022-04-08T00:26:54.011907",
     "status": "completed"
    },
    "tags": []
   },
   "outputs": [],
   "source": [
    "estimator = LinearRegression()\n",
    "\n",
    "# 20 features\n",
    "rfe_ = RFE(estimator, n_features_to_select = 20, step = 1)\n",
    "\n",
    "# fit on train and test data with 20 features\n",
    "X_train_new = rfe_.fit_transform(X_train, y_train)\n",
    "X_test_new = rfe_.transform(X_test)\n",
    "\n",
    "# boolean and ranking results\n",
    "rfe_.support_\n",
    "rfe_.ranking_\n",
    "\n",
    "estimator.fit(X_train_new, y_train)\n",
    "predictions_rfe = estimator.predict(X_test_new)\n",
    "\n",
    "RMSE = np.sqrt(mean_squared_error(y_test, predictions_rfe))\n",
    "R2 = r2_score(y_test, predictions_rfe)"
   ]
  },
  {
   "cell_type": "markdown",
   "id": "44605ed3",
   "metadata": {
    "papermill": {
     "duration": 0.040433,
     "end_time": "2022-04-08T00:26:55.235717",
     "exception": false,
     "start_time": "2022-04-08T00:26:55.195284",
     "status": "completed"
    },
    "tags": []
   },
   "source": [
    "**3.1. Embedded Methods - L1 (Lasso) Regularization**\n",
    "- Regularization: \n",
    "    - a technique is used to reduce overfitting to highly complex models.\n",
    "    - adding a penalty term 'alpha' to the cost function so that as the model complexity increases the cost function increases by a huge value.\n",
    "- LASSO \n",
    "    - Least Absolute Shrinkage and Selection Operator\n",
    "    - the higher the 'alpha' is, the more feature coefficients of least important features are shrunk to zero. Eventually, we get a much simple model with the same or better accuracy.\n",
    "- In cases where a certain feature is important, using:\n",
    "    - Ridge (L2) or,\n",
    "    - Elastic Net (L1 & L2)\n",
    "\n",
    "|                      | L1                 | L2 or L1&L2                  |\n",
    "|----------------------|--------------------|------------------------------|\n",
    "| an important feature | drop it completely | reduce the feature weightage |"
   ]
  },
  {
   "cell_type": "code",
   "execution_count": 19,
   "id": "ae56e46a",
   "metadata": {
    "execution": {
     "iopub.execute_input": "2022-04-08T00:26:55.331017Z",
     "iopub.status.busy": "2022-04-08T00:26:55.325259Z",
     "iopub.status.idle": "2022-04-08T00:26:57.225460Z",
     "shell.execute_reply": "2022-04-08T00:26:57.226700Z",
     "shell.execute_reply.started": "2022-04-08T00:24:13.303000Z"
    },
    "papermill": {
     "duration": 1.950464,
     "end_time": "2022-04-08T00:26:57.227008",
     "exception": false,
     "start_time": "2022-04-08T00:26:55.276544",
     "status": "completed"
    },
    "tags": []
   },
   "outputs": [
    {
     "data": {
      "text/plain": [
       "0.6887007972253357"
      ]
     },
     "execution_count": 19,
     "metadata": {},
     "output_type": "execute_result"
    }
   ],
   "source": [
    "# Lasso regression\n",
    "lasso = Lasso()\n",
    "parameters = {\n",
    "    'alpha':[1e-15, 1e-10, 1e-8, 1e-4, 1e-3, 1e-2, 1, 3, 5]\n",
    "}\n",
    "lasso_model = GridSearchCV(lasso, parameters, scoring = 'r2', cv = 5)\n",
    "lasso_model.fit(X_train, y_train)\n",
    "\n",
    "pred = lasso_model.predict(X_test)\n",
    "\n",
    "# 'alpha'\n",
    "lasso_model.best_params_\n",
    "\n",
    "lasso_model.best_score_"
   ]
  },
  {
   "cell_type": "markdown",
   "id": "ff44626d",
   "metadata": {
    "papermill": {
     "duration": 0.041055,
     "end_time": "2022-04-08T00:26:57.385081",
     "exception": false,
     "start_time": "2022-04-08T00:26:57.344026",
     "status": "completed"
    },
    "tags": []
   },
   "source": [
    "**3.2. Embedded Methods - Tree Model (for Regression & Classification)**\n",
    "- Random forests are an ensemble of randomized decision trees. \n",
    "- an individual tree won't contain all the features and samples\n",
    "\n",
    "Step 1. during the process of tree building, it uses several feature selection methods that are build into it. \n",
    "\n",
    "Step 2. starting from the root, the function used to create the tree tries all possible splits by making conditional comparisons at each step and chooses the one that splits the data into the most homogenuous groups (most pure)\n",
    "\n",
    "The importance of each feature is derived by how 'pure' each of the sets is.\n",
    "\n",
    "**CART: Classification and Regression Trees**\n",
    "\n",
    "Using **Gini impurity** for classification and variance for regression, we can identify the features that would lead to an optimal model. The same concept can be applied to CART and boosting tree algorithms as well."
   ]
  },
  {
   "cell_type": "code",
   "execution_count": 20,
   "id": "1451c996",
   "metadata": {
    "execution": {
     "iopub.execute_input": "2022-04-08T00:26:57.474860Z",
     "iopub.status.busy": "2022-04-08T00:26:57.474152Z",
     "iopub.status.idle": "2022-04-08T00:26:57.510765Z",
     "shell.execute_reply": "2022-04-08T00:26:57.511287Z",
     "shell.execute_reply.started": "2022-04-08T00:24:15.201977Z"
    },
    "papermill": {
     "duration": 0.085253,
     "end_time": "2022-04-08T00:26:57.511560",
     "exception": false,
     "start_time": "2022-04-08T00:26:57.426307",
     "status": "completed"
    },
    "tags": []
   },
   "outputs": [
    {
     "name": "stdout",
     "output_type": "stream",
     "text": [
      "('curb_weight', 0.7561691291546249)\n",
      "('stroke_2.90', 0.038113224043840294)\n",
      "('fuel_system_idi', 0.030220850446151783)\n",
      "('wheel_base', 0.029896672140898178)\n",
      "('bore_3.13', 0.025142432135997)\n",
      "('horse_power_288', 0.020648541689461286)\n",
      "('height', 0.01628498487344168)\n",
      "('city_mpg', 0.014461895287293806)\n",
      "('company_name_peugot', 0.010936945431802889)\n",
      "('width', 0.010856625954390506)\n",
      "('company_name_isuzu', 0.009193595139572484)\n",
      "('stroke_3.35', 0.008452385598470764)\n",
      "('horse_power_101', 0.007691169841457561)\n",
      "('highway_mpg', 0.003998165422382288)\n",
      "('engine_size', 0.00361451968585281)\n",
      "('stroke_3.19', 0.0026841161567634367)\n",
      "('symboling', 0.0023412597678558983)\n",
      "('horse_power_160', 0.001640700636162107)\n",
      "('drive_wheels_fwd', 0.001478745238657143)\n",
      "('length', 0.0010477758451516276)\n",
      "('peak_rpm_5200', 0.0009907372520871593)\n",
      "('body_style_sedan', 0.0008258676797067836)\n",
      "('compression_ratio', 0.0007256877126854906)\n",
      "('peak_rpm_4750', 0.0007120524230808843)\n",
      "('stroke_3.27', 0.0006603731103666833)\n",
      "('bore_3.58', 0.00030449275839907527)\n",
      "('bore_3.24', 0.0002070237806751304)\n",
      "('num_of_doors', 0.000125594236514419)\n",
      "('bore_3.35', 0.00012006633881268406)\n",
      "('aspiration_turbo', 9.495480665084902e-05)\n",
      "('company_name_volkswagen', 6.722508704106977e-05)\n",
      "('horse_power_182', 4.351065223101482e-05)\n",
      "('company_name_plymouth', 3.662644373185012e-05)\n",
      "('bore_3.47', 3.1408596572711175e-05)\n",
      "('company_name_toyota', 2.9076697554703528e-05)\n",
      "('peak_rpm_5800', 2.6327381326985888e-05)\n",
      "('stroke_3.03', 2.3058932001020236e-05)\n",
      "('body_style_hatchback', 2.2895907520841133e-05)\n",
      "('bore_3.33', 2.1043633284602647e-05)\n",
      "('body_style_wagon', 1.6618851667218753e-05)\n",
      "('stroke_2.87', 1.5002203944277464e-05)\n",
      "('company_name_mitsubishi', 6.92589497031089e-06)\n",
      "('stroke_3.47', 6.700011157287697e-06)\n",
      "('bore_3.39', 3.5116422577975284e-06)\n",
      "('bore_3.03', 3.272363636548476e-06)\n",
      "('horse_power_72', 2.114626688234221e-06)\n",
      "('bore_3.01', 1.3498752838888008e-06)\n",
      "('horse_power_76', 8.883424830456824e-07)\n",
      "('stroke_3.15', 6.367028810461218e-07)\n",
      "('stroke_3.54', 5.960802034076892e-07)\n",
      "('horse_power_70', 3.870672562233817e-07)\n",
      "('peak_rpm_4800', 9.444913016552609e-08)\n",
      "('engine_type_ohc', 9.44116726470525e-08)\n",
      "('fuel_system_spdi', 2.4778147771242837e-08)\n",
      "('stroke_3.46', 2.477814777104847e-08)\n",
      "('num_of_cylinders', 0.0)\n",
      "('fuel_type_gas', 0.0)\n",
      "('body_style_hardtop', 0.0)\n",
      "('drive_wheels_rwd', 0.0)\n",
      "('engine_location_rear', 0.0)\n",
      "('engine_type_dohcv', 0.0)\n",
      "('engine_type_l', 0.0)\n",
      "('engine_type_ohcf', 0.0)\n",
      "('engine_type_ohcv', 0.0)\n",
      "('engine_type_rotor', 0.0)\n",
      "('fuel_system_2bbl', 0.0)\n",
      "('fuel_system_4bbl', 0.0)\n",
      "('fuel_system_mfi', 0.0)\n",
      "('fuel_system_mpfi', 0.0)\n",
      "('fuel_system_spfi', 0.0)\n",
      "('bore_2.68', 0.0)\n",
      "('bore_2.91', 0.0)\n",
      "('bore_2.92', 0.0)\n",
      "('bore_2.97', 0.0)\n",
      "('bore_2.99', 0.0)\n",
      "('bore_3.05', 0.0)\n",
      "('bore_3.08', 0.0)\n",
      "('bore_3.15', 0.0)\n",
      "('bore_3.17', 0.0)\n",
      "('bore_3.19', 0.0)\n",
      "('bore_3.27', 0.0)\n",
      "('bore_3.31', 0.0)\n",
      "('bore_3.34', 0.0)\n",
      "('bore_3.43', 0.0)\n",
      "('bore_3.46', 0.0)\n",
      "('bore_3.50', 0.0)\n",
      "('bore_3.54', 0.0)\n",
      "('bore_3.59', 0.0)\n",
      "('bore_3.60', 0.0)\n",
      "('bore_3.61', 0.0)\n",
      "('bore_3.62', 0.0)\n",
      "('bore_3.63', 0.0)\n",
      "('bore_3.70', 0.0)\n",
      "('bore_3.74', 0.0)\n",
      "('bore_3.76', 0.0)\n",
      "('bore_3.78', 0.0)\n",
      "('bore_3.80', 0.0)\n",
      "('bore_3.94', 0.0)\n",
      "('bore_?', 0.0)\n",
      "('stroke_2.19', 0.0)\n",
      "('stroke_2.36', 0.0)\n",
      "('stroke_2.64', 0.0)\n",
      "('stroke_2.68', 0.0)\n",
      "('stroke_2.76', 0.0)\n",
      "('stroke_2.80', 0.0)\n",
      "('stroke_3.07', 0.0)\n",
      "('stroke_3.08', 0.0)\n",
      "('stroke_3.10', 0.0)\n",
      "('stroke_3.11', 0.0)\n",
      "('stroke_3.12', 0.0)\n",
      "('stroke_3.16', 0.0)\n",
      "('stroke_3.21', 0.0)\n",
      "('stroke_3.23', 0.0)\n",
      "('stroke_3.29', 0.0)\n",
      "('stroke_3.39', 0.0)\n",
      "('stroke_3.40', 0.0)\n",
      "('stroke_3.41', 0.0)\n",
      "('stroke_3.50', 0.0)\n",
      "('stroke_3.52', 0.0)\n",
      "('stroke_3.58', 0.0)\n",
      "('stroke_3.64', 0.0)\n",
      "('stroke_3.86', 0.0)\n",
      "('stroke_3.90', 0.0)\n",
      "('stroke_4.17', 0.0)\n",
      "('stroke_?', 0.0)\n",
      "('horse_power_102', 0.0)\n",
      "('horse_power_106', 0.0)\n",
      "('horse_power_110', 0.0)\n",
      "('horse_power_111', 0.0)\n",
      "('horse_power_112', 0.0)\n",
      "('horse_power_114', 0.0)\n",
      "('horse_power_115', 0.0)\n",
      "('horse_power_116', 0.0)\n",
      "('horse_power_120', 0.0)\n",
      "('horse_power_121', 0.0)\n",
      "('horse_power_123', 0.0)\n",
      "('horse_power_134', 0.0)\n",
      "('horse_power_135', 0.0)\n",
      "('horse_power_140', 0.0)\n",
      "('horse_power_142', 0.0)\n",
      "('horse_power_143', 0.0)\n",
      "('horse_power_145', 0.0)\n",
      "('horse_power_152', 0.0)\n",
      "('horse_power_154', 0.0)\n",
      "('horse_power_155', 0.0)\n",
      "('horse_power_156', 0.0)\n",
      "('horse_power_161', 0.0)\n",
      "('horse_power_162', 0.0)\n",
      "('horse_power_175', 0.0)\n",
      "('horse_power_176', 0.0)\n",
      "('horse_power_184', 0.0)\n",
      "('horse_power_200', 0.0)\n",
      "('horse_power_207', 0.0)\n",
      "('horse_power_262', 0.0)\n",
      "('horse_power_48', 0.0)\n",
      "('horse_power_52', 0.0)\n",
      "('horse_power_55', 0.0)\n",
      "('horse_power_56', 0.0)\n",
      "('horse_power_58', 0.0)\n",
      "('horse_power_60', 0.0)\n",
      "('horse_power_62', 0.0)\n",
      "('horse_power_64', 0.0)\n",
      "('horse_power_68', 0.0)\n",
      "('horse_power_69', 0.0)\n",
      "('horse_power_73', 0.0)\n",
      "('horse_power_78', 0.0)\n",
      "('horse_power_82', 0.0)\n",
      "('horse_power_84', 0.0)\n",
      "('horse_power_85', 0.0)\n",
      "('horse_power_86', 0.0)\n",
      "('horse_power_88', 0.0)\n",
      "('horse_power_90', 0.0)\n",
      "('horse_power_92', 0.0)\n",
      "('horse_power_94', 0.0)\n",
      "('horse_power_95', 0.0)\n",
      "('horse_power_97', 0.0)\n",
      "('horse_power_?', 0.0)\n",
      "('peak_rpm_4200', 0.0)\n",
      "('peak_rpm_4250', 0.0)\n",
      "('peak_rpm_4350', 0.0)\n",
      "('peak_rpm_4400', 0.0)\n",
      "('peak_rpm_4500', 0.0)\n",
      "('peak_rpm_4650', 0.0)\n",
      "('peak_rpm_4900', 0.0)\n",
      "('peak_rpm_5000', 0.0)\n",
      "('peak_rpm_5100', 0.0)\n",
      "('peak_rpm_5250', 0.0)\n",
      "('peak_rpm_5300', 0.0)\n",
      "('peak_rpm_5400', 0.0)\n",
      "('peak_rpm_5500', 0.0)\n",
      "('peak_rpm_5600', 0.0)\n",
      "('peak_rpm_5750', 0.0)\n",
      "('peak_rpm_5900', 0.0)\n",
      "('peak_rpm_6000', 0.0)\n",
      "('peak_rpm_6600', 0.0)\n",
      "('peak_rpm_?', 0.0)\n",
      "('company_name_audi', 0.0)\n",
      "('company_name_bmw', 0.0)\n",
      "('company_name_chevrolet', 0.0)\n",
      "('company_name_dodge', 0.0)\n",
      "('company_name_honda', 0.0)\n",
      "('company_name_jaguar', 0.0)\n",
      "('company_name_mazda', 0.0)\n",
      "('company_name_mercedes-benz', 0.0)\n",
      "('company_name_mercury', 0.0)\n",
      "('company_name_nissan', 0.0)\n",
      "('company_name_porsche', 0.0)\n",
      "('company_name_renault', 0.0)\n",
      "('company_name_saab', 0.0)\n",
      "('company_name_subaru', 0.0)\n",
      "('company_name_volvo', 0.0)\n"
     ]
    }
   ],
   "source": [
    "# Feature importances using Decision Tree\n",
    "model = DecisionTreeRegressor()\n",
    "model.fit(X_train, y_train)\n",
    "\n",
    "# get Importance\n",
    "importance = model.feature_importances_\n",
    "\n",
    "# summarize feature importance\n",
    "impList = zip(X_train.columns, importance)\n",
    "for feature in sorted(impList, key = lambda t: t[1], reverse = True):\n",
    "    print(feature)"
   ]
  }
 ],
 "metadata": {
  "kernelspec": {
   "display_name": "Python 3",
   "language": "python",
   "name": "python3"
  },
  "language_info": {
   "codemirror_mode": {
    "name": "ipython",
    "version": 3
   },
   "file_extension": ".py",
   "mimetype": "text/x-python",
   "name": "python",
   "nbconvert_exporter": "python",
   "pygments_lexer": "ipython3",
   "version": "3.7.12"
  },
  "papermill": {
   "default_parameters": {},
   "duration": 28.216768,
   "end_time": "2022-04-08T00:26:58.264836",
   "environment_variables": {},
   "exception": null,
   "input_path": "__notebook__.ipynb",
   "output_path": "__notebook__.ipynb",
   "parameters": {},
   "start_time": "2022-04-08T00:26:30.048068",
   "version": "2.3.3"
  }
 },
 "nbformat": 4,
 "nbformat_minor": 5
}
