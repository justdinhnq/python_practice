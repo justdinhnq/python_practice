{
 "cells": [
  {
   "cell_type": "code",
   "execution_count": 1,
   "id": "b7cc7139",
   "metadata": {
    "_cell_guid": "b1076dfc-b9ad-4769-8c92-a6c4dae69d19",
    "_uuid": "8f2839f25d086af736a60e9eeb907d3b93b6e0e5",
    "execution": {
     "iopub.execute_input": "2022-04-07T09:59:20.327197Z",
     "iopub.status.busy": "2022-04-07T09:59:20.323709Z",
     "iopub.status.idle": "2022-04-07T09:59:21.852231Z",
     "shell.execute_reply": "2022-04-07T09:59:21.851310Z",
     "shell.execute_reply.started": "2022-04-07T09:56:49.477800Z"
    },
    "papermill": {
     "duration": 1.552504,
     "end_time": "2022-04-07T09:59:21.852419",
     "exception": false,
     "start_time": "2022-04-07T09:59:20.299915",
     "status": "completed"
    },
    "tags": []
   },
   "outputs": [],
   "source": [
    "import numpy as np # linear algebra\n",
    "import pandas as pd # data processing, CSV file I/O (e.g. pd.read_csv)\n",
    "\n",
    "import matplotlib.pyplot as plt\n",
    "import seaborn as sns\n",
    "from sklearn import linear_model\n",
    "from sklearn.linear_model import LinearRegression\n",
    "from sklearn.metrics import mean_squared_error\n",
    "from sklearn.metrics import r2_score\n",
    "from sklearn.model_selection import train_test_split\n",
    "from sklearn.feature_selection import VarianceThreshold\n",
    "from sklearn.preprocessing import StandardScaler\n",
    "\n",
    "from scipy.stats import spearmanr\n",
    "from scipy.stats import pearsonr\n",
    "from scipy.stats import kendalltau\n",
    "\n",
    "from sklearn.feature_selection import SelectKBest\n",
    "from sklearn.feature_selection import chi2\n",
    "\n",
    "import warnings\n",
    "warnings.filterwarnings('ignore')\n",
    "\n",
    "import os\n",
    "for dirname, _, filenames in os.walk('/kaggle/input'):\n",
    "    for filename in filenames:\n",
    "        print(os.path.join(dirname, filename))"
   ]
  },
  {
   "cell_type": "markdown",
   "id": "81a22726",
   "metadata": {
    "papermill": {
     "duration": 0.020501,
     "end_time": "2022-04-07T09:59:21.898242",
     "exception": false,
     "start_time": "2022-04-07T09:59:21.877741",
     "status": "completed"
    },
    "tags": []
   },
   "source": [
    "Ref:\n",
    "1. https://github.com/Ayushijain09/Automobile-Dataset-Multiple-Linear-Regression-with-Feature-Selection/blob/master/_Automobile_Multiple_LinearRegression_Feature_Selection.ipynb\n",
    "2. https://towardsdatascience.com/learn-how-to-do-feature-selection-the-right-way-61bca8557bef"
   ]
  },
  {
   "cell_type": "markdown",
   "id": "6549aee3",
   "metadata": {
    "papermill": {
     "duration": 0.022975,
     "end_time": "2022-04-07T09:59:21.943941",
     "exception": false,
     "start_time": "2022-04-07T09:59:21.920966",
     "status": "completed"
    },
    "tags": []
   },
   "source": [
    "### 3 techniques of feature selection methods:\n",
    "1. Filter methods(6)\n",
    "    - missing values ratio\n",
    "    - variance threshold\n",
    "    - correlation coefficient\n",
    "    - chi-square test of independent (for categorical data)\n",
    "    - mutual info (for both regression & classification)\n",
    "    - analysis of variance (ANOVA)\n",
    "2. Wrapper methods\n",
    "    - sequential feature selection\n",
    "    - recursive feature elimination (RFE)\n",
    "3. Embedded methods\n",
    "    - L1 (LASSO) regularization\n",
    "    - Tree model (for regression & classification)"
   ]
  },
  {
   "cell_type": "markdown",
   "id": "925a37a5",
   "metadata": {
    "papermill": {
     "duration": 0.020069,
     "end_time": "2022-04-07T09:59:21.987387",
     "exception": false,
     "start_time": "2022-04-07T09:59:21.967318",
     "status": "completed"
    },
    "tags": []
   },
   "source": [
    "#### With filter methods, \n",
    "\n",
    "we primarily apply a statistical measure that suits our data to assign each feature column a calculated score. Based on that score, it'll be decided whether that feature will be kept or removed from our predictive model\n",
    "\n",
    "Pros and cons:\n",
    "- Pros: computationally inexpensive + best for eliminating redundant irrelevant features\n",
    "- Cons: don't take feature correlations into consideration since they work independently on each feature\n",
    "\n",
    "2 types of filter methods:\n",
    "1. univariate filter: work on ranking a single feature \n",
    "2. multivariate filer: evaluate the entire feature space"
   ]
  },
  {
   "cell_type": "markdown",
   "id": "c02a4e0e",
   "metadata": {
    "papermill": {
     "duration": 0.022953,
     "end_time": "2022-04-07T09:59:22.031534",
     "exception": false,
     "start_time": "2022-04-07T09:59:22.008581",
     "status": "completed"
    },
    "tags": []
   },
   "source": [
    "#### In wrapper methods,\n",
    "\n",
    "we primarily choose a subset of features and train them using a ML algorithm. Based on the inferences from this model, we employ a search strategy to look through the space of possible feature subsets and decide which feature to add or remove for the next model development.\n",
    "\n",
    "This loop continues until the model performance no longer changes with the desired count of features. (k_features)\n",
    "\n",
    "Pros and cons:\n",
    "- Pros: takes care of the interactions between features, ultimately finding the optimal subset of features for your model with the lowest possible error.\n",
    "- Cons: computationally expensive as the features increase"
   ]
  },
  {
   "cell_type": "markdown",
   "id": "ba95c6ee",
   "metadata": {
    "papermill": {
     "duration": 0.022675,
     "end_time": "2022-04-07T09:59:22.074948",
     "exception": false,
     "start_time": "2022-04-07T09:59:22.052273",
     "status": "completed"
    },
    "tags": []
   },
   "source": [
    "#### In embedded methods,\n",
    "\n",
    "combining the functionalities of both Filter and Wrapper methods\n",
    "\n",
    "Embedded methods perform feature selection during the process of training (which is why they're called embedded)\n",
    "\n",
    "**Upside:** the computational speed is as good as of filter methods + better accuracy"
   ]
  },
  {
   "cell_type": "markdown",
   "id": "6fb3585c",
   "metadata": {
    "papermill": {
     "duration": 0.019922,
     "end_time": "2022-04-07T09:59:22.114527",
     "exception": false,
     "start_time": "2022-04-07T09:59:22.094605",
     "status": "completed"
    },
    "tags": []
   },
   "source": [
    "## Data Pre-processing\n",
    "\n",
    "Step 1. Data Wrangling to clean data\n",
    "\n",
    "Step 2. Data Scaling to normalize data"
   ]
  },
  {
   "cell_type": "markdown",
   "id": "a9501cca",
   "metadata": {
    "papermill": {
     "duration": 0.023861,
     "end_time": "2022-04-07T09:59:22.161120",
     "exception": false,
     "start_time": "2022-04-07T09:59:22.137259",
     "status": "completed"
    },
    "tags": []
   },
   "source": [
    "## Step 0 - Data Wrangling\n",
    "**Step 0.1 - Data Overview**"
   ]
  },
  {
   "cell_type": "code",
   "execution_count": 2,
   "id": "05ed23c0",
   "metadata": {
    "execution": {
     "iopub.execute_input": "2022-04-07T09:59:22.213290Z",
     "iopub.status.busy": "2022-04-07T09:59:22.212526Z",
     "iopub.status.idle": "2022-04-07T09:59:23.144903Z",
     "shell.execute_reply": "2022-04-07T09:59:23.145583Z",
     "shell.execute_reply.started": "2022-04-07T09:56:50.141748Z"
    },
    "papermill": {
     "duration": 0.961627,
     "end_time": "2022-04-07T09:59:23.145838",
     "exception": false,
     "start_time": "2022-04-07T09:59:22.184211",
     "status": "completed"
    },
    "tags": []
   },
   "outputs": [
    {
     "name": "stdout",
     "output_type": "stream",
     "text": [
      "<class 'pandas.core.frame.DataFrame'>\n",
      "RangeIndex: 205 entries, 0 to 204\n",
      "Data columns (total 26 columns):\n",
      " #   Column             Non-Null Count  Dtype  \n",
      "---  ------             --------------  -----  \n",
      " 0   symboling          205 non-null    int64  \n",
      " 1   normalized_losses  205 non-null    object \n",
      " 2   make               205 non-null    object \n",
      " 3   fuel_type          205 non-null    object \n",
      " 4   aspiration         205 non-null    object \n",
      " 5   num_of_doors       205 non-null    object \n",
      " 6   body_style         205 non-null    object \n",
      " 7   drive_wheels       205 non-null    object \n",
      " 8   engine_location    205 non-null    object \n",
      " 9   wheel_base         205 non-null    float64\n",
      " 10  length             205 non-null    float64\n",
      " 11  width              205 non-null    float64\n",
      " 12  height             205 non-null    float64\n",
      " 13  curb_weight        205 non-null    int64  \n",
      " 14  engine_type        205 non-null    object \n",
      " 15  num_of_cylinders   205 non-null    object \n",
      " 16  engine_size        205 non-null    int64  \n",
      " 17  fuel_system        205 non-null    object \n",
      " 18  bore               205 non-null    object \n",
      " 19  stroke             205 non-null    object \n",
      " 20  compression_ratio  205 non-null    float64\n",
      " 21  horse_power        205 non-null    object \n",
      " 22  peak_rpm           205 non-null    object \n",
      " 23  city_mpg           205 non-null    int64  \n",
      " 24  highway_mpg        205 non-null    int64  \n",
      " 25  price              205 non-null    object \n",
      "dtypes: float64(5), int64(5), object(16)\n",
      "memory usage: 41.8+ KB\n"
     ]
    },
    {
     "data": {
      "text/html": [
       "<div>\n",
       "<style scoped>\n",
       "    .dataframe tbody tr th:only-of-type {\n",
       "        vertical-align: middle;\n",
       "    }\n",
       "\n",
       "    .dataframe tbody tr th {\n",
       "        vertical-align: top;\n",
       "    }\n",
       "\n",
       "    .dataframe thead th {\n",
       "        text-align: right;\n",
       "    }\n",
       "</style>\n",
       "<table border=\"1\" class=\"dataframe\">\n",
       "  <thead>\n",
       "    <tr style=\"text-align: right;\">\n",
       "      <th></th>\n",
       "      <th>symboling</th>\n",
       "      <th>normalized_losses</th>\n",
       "      <th>make</th>\n",
       "      <th>fuel_type</th>\n",
       "      <th>aspiration</th>\n",
       "      <th>num_of_doors</th>\n",
       "      <th>body_style</th>\n",
       "      <th>drive_wheels</th>\n",
       "      <th>engine_location</th>\n",
       "      <th>wheel_base</th>\n",
       "      <th>...</th>\n",
       "      <th>engine_size</th>\n",
       "      <th>fuel_system</th>\n",
       "      <th>bore</th>\n",
       "      <th>stroke</th>\n",
       "      <th>compression_ratio</th>\n",
       "      <th>horse_power</th>\n",
       "      <th>peak_rpm</th>\n",
       "      <th>city_mpg</th>\n",
       "      <th>highway_mpg</th>\n",
       "      <th>price</th>\n",
       "    </tr>\n",
       "  </thead>\n",
       "  <tbody>\n",
       "    <tr>\n",
       "      <th>0</th>\n",
       "      <td>3</td>\n",
       "      <td>?</td>\n",
       "      <td>alfa-romero</td>\n",
       "      <td>gas</td>\n",
       "      <td>std</td>\n",
       "      <td>two</td>\n",
       "      <td>convertible</td>\n",
       "      <td>rwd</td>\n",
       "      <td>front</td>\n",
       "      <td>88.6</td>\n",
       "      <td>...</td>\n",
       "      <td>130</td>\n",
       "      <td>mpfi</td>\n",
       "      <td>3.47</td>\n",
       "      <td>2.68</td>\n",
       "      <td>9.0</td>\n",
       "      <td>111</td>\n",
       "      <td>5000</td>\n",
       "      <td>21</td>\n",
       "      <td>27</td>\n",
       "      <td>13495</td>\n",
       "    </tr>\n",
       "    <tr>\n",
       "      <th>1</th>\n",
       "      <td>3</td>\n",
       "      <td>?</td>\n",
       "      <td>alfa-romero</td>\n",
       "      <td>gas</td>\n",
       "      <td>std</td>\n",
       "      <td>two</td>\n",
       "      <td>convertible</td>\n",
       "      <td>rwd</td>\n",
       "      <td>front</td>\n",
       "      <td>88.6</td>\n",
       "      <td>...</td>\n",
       "      <td>130</td>\n",
       "      <td>mpfi</td>\n",
       "      <td>3.47</td>\n",
       "      <td>2.68</td>\n",
       "      <td>9.0</td>\n",
       "      <td>111</td>\n",
       "      <td>5000</td>\n",
       "      <td>21</td>\n",
       "      <td>27</td>\n",
       "      <td>16500</td>\n",
       "    </tr>\n",
       "    <tr>\n",
       "      <th>2</th>\n",
       "      <td>1</td>\n",
       "      <td>?</td>\n",
       "      <td>alfa-romero</td>\n",
       "      <td>gas</td>\n",
       "      <td>std</td>\n",
       "      <td>two</td>\n",
       "      <td>hatchback</td>\n",
       "      <td>rwd</td>\n",
       "      <td>front</td>\n",
       "      <td>94.5</td>\n",
       "      <td>...</td>\n",
       "      <td>152</td>\n",
       "      <td>mpfi</td>\n",
       "      <td>2.68</td>\n",
       "      <td>3.47</td>\n",
       "      <td>9.0</td>\n",
       "      <td>154</td>\n",
       "      <td>5000</td>\n",
       "      <td>19</td>\n",
       "      <td>26</td>\n",
       "      <td>16500</td>\n",
       "    </tr>\n",
       "    <tr>\n",
       "      <th>3</th>\n",
       "      <td>2</td>\n",
       "      <td>164</td>\n",
       "      <td>audi</td>\n",
       "      <td>gas</td>\n",
       "      <td>std</td>\n",
       "      <td>four</td>\n",
       "      <td>sedan</td>\n",
       "      <td>fwd</td>\n",
       "      <td>front</td>\n",
       "      <td>99.8</td>\n",
       "      <td>...</td>\n",
       "      <td>109</td>\n",
       "      <td>mpfi</td>\n",
       "      <td>3.19</td>\n",
       "      <td>3.40</td>\n",
       "      <td>10.0</td>\n",
       "      <td>102</td>\n",
       "      <td>5500</td>\n",
       "      <td>24</td>\n",
       "      <td>30</td>\n",
       "      <td>13950</td>\n",
       "    </tr>\n",
       "    <tr>\n",
       "      <th>4</th>\n",
       "      <td>2</td>\n",
       "      <td>164</td>\n",
       "      <td>audi</td>\n",
       "      <td>gas</td>\n",
       "      <td>std</td>\n",
       "      <td>four</td>\n",
       "      <td>sedan</td>\n",
       "      <td>4wd</td>\n",
       "      <td>front</td>\n",
       "      <td>99.4</td>\n",
       "      <td>...</td>\n",
       "      <td>136</td>\n",
       "      <td>mpfi</td>\n",
       "      <td>3.19</td>\n",
       "      <td>3.40</td>\n",
       "      <td>8.0</td>\n",
       "      <td>115</td>\n",
       "      <td>5500</td>\n",
       "      <td>18</td>\n",
       "      <td>22</td>\n",
       "      <td>17450</td>\n",
       "    </tr>\n",
       "  </tbody>\n",
       "</table>\n",
       "<p>5 rows × 26 columns</p>\n",
       "</div>"
      ],
      "text/plain": [
       "   symboling normalized_losses         make fuel_type aspiration num_of_doors  \\\n",
       "0          3                 ?  alfa-romero       gas        std          two   \n",
       "1          3                 ?  alfa-romero       gas        std          two   \n",
       "2          1                 ?  alfa-romero       gas        std          two   \n",
       "3          2               164         audi       gas        std         four   \n",
       "4          2               164         audi       gas        std         four   \n",
       "\n",
       "    body_style drive_wheels engine_location  wheel_base  ...  engine_size  \\\n",
       "0  convertible          rwd           front        88.6  ...          130   \n",
       "1  convertible          rwd           front        88.6  ...          130   \n",
       "2    hatchback          rwd           front        94.5  ...          152   \n",
       "3        sedan          fwd           front        99.8  ...          109   \n",
       "4        sedan          4wd           front        99.4  ...          136   \n",
       "\n",
       "   fuel_system  bore  stroke compression_ratio horse_power  peak_rpm city_mpg  \\\n",
       "0         mpfi  3.47    2.68               9.0         111      5000       21   \n",
       "1         mpfi  3.47    2.68               9.0         111      5000       21   \n",
       "2         mpfi  2.68    3.47               9.0         154      5000       19   \n",
       "3         mpfi  3.19    3.40              10.0         102      5500       24   \n",
       "4         mpfi  3.19    3.40               8.0         115      5500       18   \n",
       "\n",
       "  highway_mpg  price  \n",
       "0          27  13495  \n",
       "1          27  16500  \n",
       "2          26  16500  \n",
       "3          30  13950  \n",
       "4          22  17450  \n",
       "\n",
       "[5 rows x 26 columns]"
      ]
     },
     "execution_count": 2,
     "metadata": {},
     "output_type": "execute_result"
    }
   ],
   "source": [
    "# take here: https://github.com/justdinhnq/python_practice/blob/main/feature_selection/cars_desc.names\n",
    "names = [\n",
    "    \"symboling\", \"normalized_losses\", \"make\", \"fuel_type\", \n",
    "    \"aspiration\", \"num_of_doors\", \"body_style\", \"drive_wheels\",\n",
    "    \"engine_location\", \"wheel_base\", \"length\", \"width\", \"height\",\n",
    "    \"curb_weight\", \"engine_type\", \"num_of_cylinders\", \"engine_size\",\n",
    "    \"fuel_system\", \"bore\", \"stroke\", \"compression_ratio\", \"horse_power\",\n",
    "    \"peak_rpm\", \"city_mpg\", \"highway_mpg\", \"price\"\n",
    "]\n",
    "\n",
    "cars = pd.read_csv(\n",
    "    \"https://archive.ics.uci.edu/ml/machine-learning-databases/autos/imports-85.data\",\n",
    "    names = names\n",
    ")\n",
    "cars.info()\n",
    "cars.head()"
   ]
  },
  {
   "cell_type": "markdown",
   "id": "cc8c3f8c",
   "metadata": {
    "papermill": {
     "duration": 0.020079,
     "end_time": "2022-04-07T09:59:23.187176",
     "exception": false,
     "start_time": "2022-04-07T09:59:23.167097",
     "status": "completed"
    },
    "tags": []
   },
   "source": [
    "**Step 0.2 - change data types and drop columns**\n",
    "\n",
    "1. reduce categories \n",
    "    - 'make' = 'company name' + 'version': only keep 'company name' instead\n",
    "2. change 'object' type to 'category' type\n",
    "    - 'company_name', 'num_of_cylinders'\n",
    "3. change to 'numeric' type for columns mentioned as words\n",
    "    - 'num_of_doors', 'num_of_cylinders'\n",
    "4. change 'object' (known as 'categorical') to dummy variables"
   ]
  },
  {
   "cell_type": "markdown",
   "id": "1489a9ff",
   "metadata": {
    "papermill": {
     "duration": 0.020546,
     "end_time": "2022-04-07T09:59:23.229595",
     "exception": false,
     "start_time": "2022-04-07T09:59:23.209049",
     "status": "completed"
    },
    "tags": []
   },
   "source": [
    "1. reduce categories"
   ]
  },
  {
   "cell_type": "code",
   "execution_count": 3,
   "id": "886fe270",
   "metadata": {
    "execution": {
     "iopub.execute_input": "2022-04-07T09:59:23.279165Z",
     "iopub.status.busy": "2022-04-07T09:59:23.278479Z",
     "iopub.status.idle": "2022-04-07T09:59:23.283454Z",
     "shell.execute_reply": "2022-04-07T09:59:23.283912Z",
     "shell.execute_reply.started": "2022-04-07T09:56:50.412338Z"
    },
    "papermill": {
     "duration": 0.03274,
     "end_time": "2022-04-07T09:59:23.284094",
     "exception": false,
     "start_time": "2022-04-07T09:59:23.251354",
     "status": "completed"
    },
    "tags": []
   },
   "outputs": [],
   "source": [
    "cars['company_name'] = cars['make'].apply(lambda x: x.split(\" \")[0])\n",
    "\n",
    "# it's done, now drop the 'make' column for clean\n",
    "cars = cars.drop('make', axis = 1)"
   ]
  },
  {
   "cell_type": "markdown",
   "id": "29f000f4",
   "metadata": {
    "papermill": {
     "duration": 0.019953,
     "end_time": "2022-04-07T09:59:23.325662",
     "exception": false,
     "start_time": "2022-04-07T09:59:23.305709",
     "status": "completed"
    },
    "tags": []
   },
   "source": [
    "2. change 'object' type to 'category' type"
   ]
  },
  {
   "cell_type": "code",
   "execution_count": 4,
   "id": "66dd2587",
   "metadata": {
    "execution": {
     "iopub.execute_input": "2022-04-07T09:59:23.376134Z",
     "iopub.status.busy": "2022-04-07T09:59:23.375069Z",
     "iopub.status.idle": "2022-04-07T09:59:23.379705Z",
     "shell.execute_reply": "2022-04-07T09:59:23.379211Z",
     "shell.execute_reply.started": "2022-04-07T09:56:50.424015Z"
    },
    "papermill": {
     "duration": 0.033275,
     "end_time": "2022-04-07T09:59:23.379884",
     "exception": false,
     "start_time": "2022-04-07T09:59:23.346609",
     "status": "completed"
    },
    "tags": []
   },
   "outputs": [
    {
     "data": {
      "text/plain": [
       "toyota           32\n",
       "nissan           18\n",
       "mazda            17\n",
       "mitsubishi       13\n",
       "honda            13\n",
       "volkswagen       12\n",
       "subaru           12\n",
       "peugot           11\n",
       "volvo            11\n",
       "dodge             9\n",
       "mercedes-benz     8\n",
       "bmw               8\n",
       "audi              7\n",
       "plymouth          7\n",
       "saab              6\n",
       "porsche           5\n",
       "isuzu             4\n",
       "jaguar            3\n",
       "chevrolet         3\n",
       "alfa-romero       3\n",
       "renault           2\n",
       "mercury           1\n",
       "Name: company_name, dtype: int64"
      ]
     },
     "execution_count": 4,
     "metadata": {},
     "output_type": "execute_result"
    }
   ],
   "source": [
    "\n",
    "cars['company_name'].astype('category')\n",
    "cars['company_name'].value_counts()\n",
    "\n",
    "# if some are misspelled, use this example to correct them\n",
    "# cars.loc[cars['company_name'] == 'Nissan', 'company_name'] = 'nissan'\n",
    "\n"
   ]
  },
  {
   "cell_type": "markdown",
   "id": "1dad864f",
   "metadata": {
    "papermill": {
     "duration": 0.020131,
     "end_time": "2022-04-07T09:59:23.421743",
     "exception": false,
     "start_time": "2022-04-07T09:59:23.401612",
     "status": "completed"
    },
    "tags": []
   },
   "source": [
    "3. change to 'numeric' type for columns mentioned as words"
   ]
  },
  {
   "cell_type": "code",
   "execution_count": 5,
   "id": "25b3de8c",
   "metadata": {
    "execution": {
     "iopub.execute_input": "2022-04-07T09:59:23.478043Z",
     "iopub.status.busy": "2022-04-07T09:59:23.477313Z",
     "iopub.status.idle": "2022-04-07T09:59:23.481037Z",
     "shell.execute_reply": "2022-04-07T09:59:23.480332Z",
     "shell.execute_reply.started": "2022-04-07T09:56:50.450995Z"
    },
    "papermill": {
     "duration": 0.037126,
     "end_time": "2022-04-07T09:59:23.481187",
     "exception": false,
     "start_time": "2022-04-07T09:59:23.444061",
     "status": "completed"
    },
    "tags": []
   },
   "outputs": [],
   "source": [
    "# map 'words' to 'numeric' type\n",
    "cars['num_of_doors'] = cars['num_of_doors'].map(\n",
    "    {\n",
    "        'four':4,'two':2\n",
    "    }\n",
    ")\n",
    "\n",
    "cars['num_of_cylinders'] = cars['num_of_cylinders'].map(\n",
    "    {\n",
    "        'four':4,'two':2,'six':6,'five':5,'eight':8,'three':3,'twelve':12\n",
    "    }\n",
    ")"
   ]
  },
  {
   "cell_type": "code",
   "execution_count": 6,
   "id": "785c8e96",
   "metadata": {
    "execution": {
     "iopub.execute_input": "2022-04-07T09:59:23.530224Z",
     "iopub.status.busy": "2022-04-07T09:59:23.529514Z",
     "iopub.status.idle": "2022-04-07T09:59:23.533752Z",
     "shell.execute_reply": "2022-04-07T09:59:23.532842Z",
     "shell.execute_reply.started": "2022-04-07T09:56:50.466695Z"
    },
    "papermill": {
     "duration": 0.032339,
     "end_time": "2022-04-07T09:59:23.533959",
     "exception": false,
     "start_time": "2022-04-07T09:59:23.501620",
     "status": "completed"
    },
    "tags": []
   },
   "outputs": [],
   "source": [
    "# convert '?' to 0.0 before change 'object' type to 'float-64' type\n",
    "cars['price'] = cars['price'].replace('?', 0.0)\n",
    "cars['price'] = cars['price'].astype(float)"
   ]
  },
  {
   "cell_type": "markdown",
   "id": "1944386a",
   "metadata": {
    "papermill": {
     "duration": 0.020669,
     "end_time": "2022-04-07T09:59:23.575328",
     "exception": false,
     "start_time": "2022-04-07T09:59:23.554659",
     "status": "completed"
    },
    "tags": []
   },
   "source": [
    "4. change 'object' (known as 'categorical') to dummy variables"
   ]
  },
  {
   "cell_type": "code",
   "execution_count": 7,
   "id": "0cb86643",
   "metadata": {
    "execution": {
     "iopub.execute_input": "2022-04-07T09:59:23.627961Z",
     "iopub.status.busy": "2022-04-07T09:59:23.622318Z",
     "iopub.status.idle": "2022-04-07T09:59:23.651547Z",
     "shell.execute_reply": "2022-04-07T09:59:23.651078Z",
     "shell.execute_reply.started": "2022-04-07T09:56:50.589218Z"
    },
    "papermill": {
     "duration": 0.054748,
     "end_time": "2022-04-07T09:59:23.651692",
     "exception": false,
     "start_time": "2022-04-07T09:59:23.596944",
     "status": "completed"
    },
    "tags": []
   },
   "outputs": [
    {
     "data": {
      "text/html": [
       "<div>\n",
       "<style scoped>\n",
       "    .dataframe tbody tr th:only-of-type {\n",
       "        vertical-align: middle;\n",
       "    }\n",
       "\n",
       "    .dataframe tbody tr th {\n",
       "        vertical-align: top;\n",
       "    }\n",
       "\n",
       "    .dataframe thead th {\n",
       "        text-align: right;\n",
       "    }\n",
       "</style>\n",
       "<table border=\"1\" class=\"dataframe\">\n",
       "  <thead>\n",
       "    <tr style=\"text-align: right;\">\n",
       "      <th></th>\n",
       "      <th>fuel_type_gas</th>\n",
       "      <th>aspiration_turbo</th>\n",
       "      <th>body_style_hardtop</th>\n",
       "      <th>body_style_hatchback</th>\n",
       "      <th>body_style_sedan</th>\n",
       "      <th>body_style_wagon</th>\n",
       "      <th>drive_wheels_fwd</th>\n",
       "      <th>drive_wheels_rwd</th>\n",
       "      <th>engine_location_rear</th>\n",
       "      <th>engine_type_dohcv</th>\n",
       "      <th>...</th>\n",
       "      <th>company_name_nissan</th>\n",
       "      <th>company_name_peugot</th>\n",
       "      <th>company_name_plymouth</th>\n",
       "      <th>company_name_porsche</th>\n",
       "      <th>company_name_renault</th>\n",
       "      <th>company_name_saab</th>\n",
       "      <th>company_name_subaru</th>\n",
       "      <th>company_name_toyota</th>\n",
       "      <th>company_name_volkswagen</th>\n",
       "      <th>company_name_volvo</th>\n",
       "    </tr>\n",
       "  </thead>\n",
       "  <tbody>\n",
       "    <tr>\n",
       "      <th>0</th>\n",
       "      <td>1</td>\n",
       "      <td>0</td>\n",
       "      <td>0</td>\n",
       "      <td>0</td>\n",
       "      <td>0</td>\n",
       "      <td>0</td>\n",
       "      <td>0</td>\n",
       "      <td>1</td>\n",
       "      <td>0</td>\n",
       "      <td>0</td>\n",
       "      <td>...</td>\n",
       "      <td>0</td>\n",
       "      <td>0</td>\n",
       "      <td>0</td>\n",
       "      <td>0</td>\n",
       "      <td>0</td>\n",
       "      <td>0</td>\n",
       "      <td>0</td>\n",
       "      <td>0</td>\n",
       "      <td>0</td>\n",
       "      <td>0</td>\n",
       "    </tr>\n",
       "    <tr>\n",
       "      <th>1</th>\n",
       "      <td>1</td>\n",
       "      <td>0</td>\n",
       "      <td>0</td>\n",
       "      <td>0</td>\n",
       "      <td>0</td>\n",
       "      <td>0</td>\n",
       "      <td>0</td>\n",
       "      <td>1</td>\n",
       "      <td>0</td>\n",
       "      <td>0</td>\n",
       "      <td>...</td>\n",
       "      <td>0</td>\n",
       "      <td>0</td>\n",
       "      <td>0</td>\n",
       "      <td>0</td>\n",
       "      <td>0</td>\n",
       "      <td>0</td>\n",
       "      <td>0</td>\n",
       "      <td>0</td>\n",
       "      <td>0</td>\n",
       "      <td>0</td>\n",
       "    </tr>\n",
       "    <tr>\n",
       "      <th>2</th>\n",
       "      <td>1</td>\n",
       "      <td>0</td>\n",
       "      <td>0</td>\n",
       "      <td>1</td>\n",
       "      <td>0</td>\n",
       "      <td>0</td>\n",
       "      <td>0</td>\n",
       "      <td>1</td>\n",
       "      <td>0</td>\n",
       "      <td>0</td>\n",
       "      <td>...</td>\n",
       "      <td>0</td>\n",
       "      <td>0</td>\n",
       "      <td>0</td>\n",
       "      <td>0</td>\n",
       "      <td>0</td>\n",
       "      <td>0</td>\n",
       "      <td>0</td>\n",
       "      <td>0</td>\n",
       "      <td>0</td>\n",
       "      <td>0</td>\n",
       "    </tr>\n",
       "    <tr>\n",
       "      <th>3</th>\n",
       "      <td>1</td>\n",
       "      <td>0</td>\n",
       "      <td>0</td>\n",
       "      <td>0</td>\n",
       "      <td>1</td>\n",
       "      <td>0</td>\n",
       "      <td>1</td>\n",
       "      <td>0</td>\n",
       "      <td>0</td>\n",
       "      <td>0</td>\n",
       "      <td>...</td>\n",
       "      <td>0</td>\n",
       "      <td>0</td>\n",
       "      <td>0</td>\n",
       "      <td>0</td>\n",
       "      <td>0</td>\n",
       "      <td>0</td>\n",
       "      <td>0</td>\n",
       "      <td>0</td>\n",
       "      <td>0</td>\n",
       "      <td>0</td>\n",
       "    </tr>\n",
       "    <tr>\n",
       "      <th>4</th>\n",
       "      <td>1</td>\n",
       "      <td>0</td>\n",
       "      <td>0</td>\n",
       "      <td>0</td>\n",
       "      <td>1</td>\n",
       "      <td>0</td>\n",
       "      <td>0</td>\n",
       "      <td>0</td>\n",
       "      <td>0</td>\n",
       "      <td>0</td>\n",
       "      <td>...</td>\n",
       "      <td>0</td>\n",
       "      <td>0</td>\n",
       "      <td>0</td>\n",
       "      <td>0</td>\n",
       "      <td>0</td>\n",
       "      <td>0</td>\n",
       "      <td>0</td>\n",
       "      <td>0</td>\n",
       "      <td>0</td>\n",
       "      <td>0</td>\n",
       "    </tr>\n",
       "  </tbody>\n",
       "</table>\n",
       "<p>5 rows × 199 columns</p>\n",
       "</div>"
      ],
      "text/plain": [
       "   fuel_type_gas  aspiration_turbo  body_style_hardtop  body_style_hatchback  \\\n",
       "0              1                 0                   0                     0   \n",
       "1              1                 0                   0                     0   \n",
       "2              1                 0                   0                     1   \n",
       "3              1                 0                   0                     0   \n",
       "4              1                 0                   0                     0   \n",
       "\n",
       "   body_style_sedan  body_style_wagon  drive_wheels_fwd  drive_wheels_rwd  \\\n",
       "0                 0                 0                 0                 1   \n",
       "1                 0                 0                 0                 1   \n",
       "2                 0                 0                 0                 1   \n",
       "3                 1                 0                 1                 0   \n",
       "4                 1                 0                 0                 0   \n",
       "\n",
       "   engine_location_rear  engine_type_dohcv  ...  company_name_nissan  \\\n",
       "0                     0                  0  ...                    0   \n",
       "1                     0                  0  ...                    0   \n",
       "2                     0                  0  ...                    0   \n",
       "3                     0                  0  ...                    0   \n",
       "4                     0                  0  ...                    0   \n",
       "\n",
       "   company_name_peugot  company_name_plymouth  company_name_porsche  \\\n",
       "0                    0                      0                     0   \n",
       "1                    0                      0                     0   \n",
       "2                    0                      0                     0   \n",
       "3                    0                      0                     0   \n",
       "4                    0                      0                     0   \n",
       "\n",
       "   company_name_renault  company_name_saab  company_name_subaru  \\\n",
       "0                     0                  0                    0   \n",
       "1                     0                  0                    0   \n",
       "2                     0                  0                    0   \n",
       "3                     0                  0                    0   \n",
       "4                     0                  0                    0   \n",
       "\n",
       "   company_name_toyota  company_name_volkswagen  company_name_volvo  \n",
       "0                    0                        0                   0  \n",
       "1                    0                        0                   0  \n",
       "2                    0                        0                   0  \n",
       "3                    0                        0                   0  \n",
       "4                    0                        0                   0  \n",
       "\n",
       "[5 rows x 199 columns]"
      ]
     },
     "execution_count": 7,
     "metadata": {},
     "output_type": "execute_result"
    }
   ],
   "source": [
    "# models can't learn from categorical variables, \n",
    "# so we need to make dummy variables to convert them into numeric types\n",
    "\n",
    "# extra part: no need 'normalized_losses' 'object' column\n",
    "cars = cars.drop(['normalized_losses'], axis = 1)\n",
    "\n",
    "\n",
    "# get categorical vars\n",
    "cars_category = cars.select_dtypes(include=['object'])\n",
    "\n",
    "# make dummy vars\n",
    "# drop_first = True => don't have 'fuel_type_diesel', same as for other dummy vars\n",
    "cars_dummies = pd.get_dummies(cars_category, drop_first=True)\n",
    "cars_dummies.head()"
   ]
  },
  {
   "cell_type": "code",
   "execution_count": 8,
   "id": "f5890050",
   "metadata": {
    "execution": {
     "iopub.execute_input": "2022-04-07T09:59:23.700629Z",
     "iopub.status.busy": "2022-04-07T09:59:23.699699Z",
     "iopub.status.idle": "2022-04-07T09:59:23.704638Z",
     "shell.execute_reply": "2022-04-07T09:59:23.704033Z",
     "shell.execute_reply.started": "2022-04-07T09:56:50.692014Z"
    },
    "papermill": {
     "duration": 0.031896,
     "end_time": "2022-04-07T09:59:23.704808",
     "exception": false,
     "start_time": "2022-04-07T09:59:23.672912",
     "status": "completed"
    },
    "tags": []
   },
   "outputs": [],
   "source": [
    "# drop categorical columns \n",
    "list_cats = list(cars_category)\n",
    "cars = cars.drop(list_cats, axis = 1)\n",
    "\n",
    "# and add new dummies\n",
    "cars = pd.concat([cars, cars_dummies], axis = 1)"
   ]
  },
  {
   "cell_type": "markdown",
   "id": "9465bc4f",
   "metadata": {
    "papermill": {
     "duration": 0.021261,
     "end_time": "2022-04-07T09:59:23.749392",
     "exception": false,
     "start_time": "2022-04-07T09:59:23.728131",
     "status": "completed"
    },
    "tags": []
   },
   "source": [
    "## Step 0 - Data Scaling"
   ]
  },
  {
   "cell_type": "markdown",
   "id": "8a1f6d8a",
   "metadata": {
    "papermill": {
     "duration": 0.020772,
     "end_time": "2022-04-07T09:59:23.792192",
     "exception": false,
     "start_time": "2022-04-07T09:59:23.771420",
     "status": "completed"
    },
    "tags": []
   },
   "source": [
    "Now we have all features as numeric data types.\n",
    "\n",
    "The categorical features don't need to be scaled.\n",
    "\n",
    "Let's scale all the numerical features to normalize the data within a particular range.\n",
    "\n",
    "But we can only scale the training set features, not the test set."
   ]
  },
  {
   "cell_type": "code",
   "execution_count": 9,
   "id": "b865c8c7",
   "metadata": {
    "execution": {
     "iopub.execute_input": "2022-04-07T09:59:23.838158Z",
     "iopub.status.busy": "2022-04-07T09:59:23.837368Z",
     "iopub.status.idle": "2022-04-07T09:59:23.867330Z",
     "shell.execute_reply": "2022-04-07T09:59:23.867959Z",
     "shell.execute_reply.started": "2022-04-07T09:56:50.840951Z"
    },
    "papermill": {
     "duration": 0.054956,
     "end_time": "2022-04-07T09:59:23.868137",
     "exception": false,
     "start_time": "2022-04-07T09:59:23.813181",
     "status": "completed"
    },
    "tags": []
   },
   "outputs": [
    {
     "data": {
      "text/html": [
       "<div>\n",
       "<style scoped>\n",
       "    .dataframe tbody tr th:only-of-type {\n",
       "        vertical-align: middle;\n",
       "    }\n",
       "\n",
       "    .dataframe tbody tr th {\n",
       "        vertical-align: top;\n",
       "    }\n",
       "\n",
       "    .dataframe thead th {\n",
       "        text-align: right;\n",
       "    }\n",
       "</style>\n",
       "<table border=\"1\" class=\"dataframe\">\n",
       "  <thead>\n",
       "    <tr style=\"text-align: right;\">\n",
       "      <th></th>\n",
       "      <th>symboling</th>\n",
       "      <th>num_of_doors</th>\n",
       "      <th>wheel_base</th>\n",
       "      <th>length</th>\n",
       "      <th>width</th>\n",
       "      <th>height</th>\n",
       "      <th>curb_weight</th>\n",
       "      <th>num_of_cylinders</th>\n",
       "      <th>engine_size</th>\n",
       "      <th>compression_ratio</th>\n",
       "      <th>...</th>\n",
       "      <th>company_name_nissan</th>\n",
       "      <th>company_name_peugot</th>\n",
       "      <th>company_name_plymouth</th>\n",
       "      <th>company_name_porsche</th>\n",
       "      <th>company_name_renault</th>\n",
       "      <th>company_name_saab</th>\n",
       "      <th>company_name_subaru</th>\n",
       "      <th>company_name_toyota</th>\n",
       "      <th>company_name_volkswagen</th>\n",
       "      <th>company_name_volvo</th>\n",
       "    </tr>\n",
       "  </thead>\n",
       "  <tbody>\n",
       "    <tr>\n",
       "      <th>122</th>\n",
       "      <td>0.170159</td>\n",
       "      <td>0.885895</td>\n",
       "      <td>-0.811836</td>\n",
       "      <td>-0.487238</td>\n",
       "      <td>-0.924500</td>\n",
       "      <td>-1.134628</td>\n",
       "      <td>-0.642128</td>\n",
       "      <td>-0.351431</td>\n",
       "      <td>-0.660242</td>\n",
       "      <td>-0.172569</td>\n",
       "      <td>...</td>\n",
       "      <td>0</td>\n",
       "      <td>0</td>\n",
       "      <td>1</td>\n",
       "      <td>0</td>\n",
       "      <td>0</td>\n",
       "      <td>0</td>\n",
       "      <td>0</td>\n",
       "      <td>0</td>\n",
       "      <td>0</td>\n",
       "      <td>0</td>\n",
       "    </tr>\n",
       "    <tr>\n",
       "      <th>125</th>\n",
       "      <td>1.848278</td>\n",
       "      <td>-1.128802</td>\n",
       "      <td>-0.677177</td>\n",
       "      <td>-0.359789</td>\n",
       "      <td>1.114978</td>\n",
       "      <td>-1.382026</td>\n",
       "      <td>0.439415</td>\n",
       "      <td>-0.351431</td>\n",
       "      <td>0.637806</td>\n",
       "      <td>-0.146125</td>\n",
       "      <td>...</td>\n",
       "      <td>0</td>\n",
       "      <td>0</td>\n",
       "      <td>0</td>\n",
       "      <td>1</td>\n",
       "      <td>0</td>\n",
       "      <td>0</td>\n",
       "      <td>0</td>\n",
       "      <td>0</td>\n",
       "      <td>0</td>\n",
       "      <td>0</td>\n",
       "    </tr>\n",
       "    <tr>\n",
       "      <th>166</th>\n",
       "      <td>0.170159</td>\n",
       "      <td>-1.128802</td>\n",
       "      <td>-0.677177</td>\n",
       "      <td>-0.375720</td>\n",
       "      <td>-0.833856</td>\n",
       "      <td>-0.392434</td>\n",
       "      <td>-0.441296</td>\n",
       "      <td>-0.351431</td>\n",
       "      <td>-0.660242</td>\n",
       "      <td>-0.172569</td>\n",
       "      <td>...</td>\n",
       "      <td>0</td>\n",
       "      <td>0</td>\n",
       "      <td>0</td>\n",
       "      <td>0</td>\n",
       "      <td>0</td>\n",
       "      <td>0</td>\n",
       "      <td>0</td>\n",
       "      <td>1</td>\n",
       "      <td>0</td>\n",
       "      <td>0</td>\n",
       "    </tr>\n",
       "    <tr>\n",
       "      <th>1</th>\n",
       "      <td>1.848278</td>\n",
       "      <td>-1.128802</td>\n",
       "      <td>-1.670284</td>\n",
       "      <td>-0.367754</td>\n",
       "      <td>-0.788535</td>\n",
       "      <td>-1.959288</td>\n",
       "      <td>0.015642</td>\n",
       "      <td>-0.351431</td>\n",
       "      <td>0.123485</td>\n",
       "      <td>-0.278345</td>\n",
       "      <td>...</td>\n",
       "      <td>0</td>\n",
       "      <td>0</td>\n",
       "      <td>0</td>\n",
       "      <td>0</td>\n",
       "      <td>0</td>\n",
       "      <td>0</td>\n",
       "      <td>0</td>\n",
       "      <td>0</td>\n",
       "      <td>0</td>\n",
       "      <td>0</td>\n",
       "    </tr>\n",
       "    <tr>\n",
       "      <th>199</th>\n",
       "      <td>-1.507960</td>\n",
       "      <td>0.885895</td>\n",
       "      <td>0.972390</td>\n",
       "      <td>1.225364</td>\n",
       "      <td>0.616439</td>\n",
       "      <td>1.627983</td>\n",
       "      <td>1.137720</td>\n",
       "      <td>-0.351431</td>\n",
       "      <td>0.123485</td>\n",
       "      <td>-0.675002</td>\n",
       "      <td>...</td>\n",
       "      <td>0</td>\n",
       "      <td>0</td>\n",
       "      <td>0</td>\n",
       "      <td>0</td>\n",
       "      <td>0</td>\n",
       "      <td>0</td>\n",
       "      <td>0</td>\n",
       "      <td>0</td>\n",
       "      <td>0</td>\n",
       "      <td>1</td>\n",
       "    </tr>\n",
       "  </tbody>\n",
       "</table>\n",
       "<p>5 rows × 212 columns</p>\n",
       "</div>"
      ],
      "text/plain": [
       "     symboling  num_of_doors  wheel_base    length     width    height  \\\n",
       "122   0.170159      0.885895   -0.811836 -0.487238 -0.924500 -1.134628   \n",
       "125   1.848278     -1.128802   -0.677177 -0.359789  1.114978 -1.382026   \n",
       "166   0.170159     -1.128802   -0.677177 -0.375720 -0.833856 -0.392434   \n",
       "1     1.848278     -1.128802   -1.670284 -0.367754 -0.788535 -1.959288   \n",
       "199  -1.507960      0.885895    0.972390  1.225364  0.616439  1.627983   \n",
       "\n",
       "     curb_weight  num_of_cylinders  engine_size  compression_ratio  ...  \\\n",
       "122    -0.642128         -0.351431    -0.660242          -0.172569  ...   \n",
       "125     0.439415         -0.351431     0.637806          -0.146125  ...   \n",
       "166    -0.441296         -0.351431    -0.660242          -0.172569  ...   \n",
       "1       0.015642         -0.351431     0.123485          -0.278345  ...   \n",
       "199     1.137720         -0.351431     0.123485          -0.675002  ...   \n",
       "\n",
       "     company_name_nissan  company_name_peugot  company_name_plymouth  \\\n",
       "122                    0                    0                      1   \n",
       "125                    0                    0                      0   \n",
       "166                    0                    0                      0   \n",
       "1                      0                    0                      0   \n",
       "199                    0                    0                      0   \n",
       "\n",
       "     company_name_porsche  company_name_renault  company_name_saab  \\\n",
       "122                     0                     0                  0   \n",
       "125                     1                     0                  0   \n",
       "166                     0                     0                  0   \n",
       "1                       0                     0                  0   \n",
       "199                     0                     0                  0   \n",
       "\n",
       "     company_name_subaru  company_name_toyota  company_name_volkswagen  \\\n",
       "122                    0                    0                        0   \n",
       "125                    0                    0                        0   \n",
       "166                    0                    1                        0   \n",
       "1                      0                    0                        0   \n",
       "199                    0                    0                        0   \n",
       "\n",
       "     company_name_volvo  \n",
       "122                   0  \n",
       "125                   0  \n",
       "166                   0  \n",
       "1                     0  \n",
       "199                   1  \n",
       "\n",
       "[5 rows x 212 columns]"
      ]
     },
     "execution_count": 9,
     "metadata": {},
     "output_type": "execute_result"
    }
   ],
   "source": [
    "# 1. split the dataset\n",
    "df_train, df_test = train_test_split(\n",
    "    cars, train_size = 0.7, test_size = 0.3, random_state = 100\n",
    ")\n",
    "\n",
    "# 2. scaling \n",
    "scale = StandardScaler()\n",
    "scale_features = cars.select_dtypes(include = ['float64', 'int64']).columns\n",
    "\n",
    "df_train[scale_features] = scale.fit_transform(df_train[scale_features])\n",
    "\n",
    "# review \n",
    "df_train.head()"
   ]
  },
  {
   "cell_type": "markdown",
   "id": "ac1d061a",
   "metadata": {
    "papermill": {
     "duration": 0.022193,
     "end_time": "2022-04-07T09:59:23.913165",
     "exception": false,
     "start_time": "2022-04-07T09:59:23.890972",
     "status": "completed"
    },
    "tags": []
   },
   "source": [
    "## Step 1 - Feature Selection methods\n",
    "\n",
    "**1.1. Filter methods - Missing Values Ratio**\n",
    "\n",
    "Theoretically, the acceptable threshold of missing values: 25-30%.\n",
    "\n",
    "If having the domain knowledge, it's always better to make an educated guess if the feature is crucial to the model. In such a case, try imputing the missing values using various techniques [here](https://towardsdatascience.com/all-about-missing-data-handling-b94b8b5d2184)"
   ]
  },
  {
   "cell_type": "code",
   "execution_count": 10,
   "id": "fd0c7870",
   "metadata": {
    "execution": {
     "iopub.execute_input": "2022-04-07T09:59:23.960793Z",
     "iopub.status.busy": "2022-04-07T09:59:23.960173Z",
     "iopub.status.idle": "2022-04-07T09:59:23.976359Z",
     "shell.execute_reply": "2022-04-07T09:59:23.976889Z",
     "shell.execute_reply.started": "2022-04-07T09:56:51.035192Z"
    },
    "papermill": {
     "duration": 0.041017,
     "end_time": "2022-04-07T09:59:23.977064",
     "exception": false,
     "start_time": "2022-04-07T09:59:23.936047",
     "status": "completed"
    },
    "tags": []
   },
   "outputs": [
    {
     "name": "stdout",
     "output_type": "stream",
     "text": [
      "num_of_doors    1.398601\n",
      "symboling       0.000000\n",
      "wheel_base      0.000000\n",
      "length          0.000000\n",
      "width           0.000000\n",
      "dtype: float64\n"
     ]
    }
   ],
   "source": [
    "sum_na = df_train.isnull().sum()\n",
    "df_len = len(df_train)\n",
    "\n",
    "ratio = (sum_na / df_len) * 100\n",
    "\n",
    "# 5 largest values\n",
    "print(ratio.nlargest())"
   ]
  },
  {
   "cell_type": "markdown",
   "id": "48879718",
   "metadata": {
    "papermill": {
     "duration": 0.024633,
     "end_time": "2022-04-07T09:59:24.024185",
     "exception": false,
     "start_time": "2022-04-07T09:59:23.999552",
     "status": "completed"
    },
    "tags": []
   },
   "source": [
    "**1.2. Filter methods - Variance threshold**\n",
    "\n",
    "**Zero variance**: features in which identical value occupies the majority of the samples \n",
    "\n",
    "Such features carrying little information won't affect the target variable and can be dropped\n",
    "\n",
    "Threshold value:\n",
    "- default = 0: remove features that have the same value in all samples\n",
    "- 0.01: drop the column where 99% of the values are similar. \n",
    "\n",
    "Using '0.01' for quasi-constant features, that have the same value for a very large subset."
   ]
  },
  {
   "cell_type": "code",
   "execution_count": 11,
   "id": "c09f5c00",
   "metadata": {
    "execution": {
     "iopub.execute_input": "2022-04-07T09:59:24.080904Z",
     "iopub.status.busy": "2022-04-07T09:59:24.074652Z",
     "iopub.status.idle": "2022-04-07T09:59:24.089670Z",
     "shell.execute_reply": "2022-04-07T09:59:24.090217Z",
     "shell.execute_reply.started": "2022-04-07T09:56:51.260300Z"
    },
    "papermill": {
     "duration": 0.041593,
     "end_time": "2022-04-07T09:59:24.090399",
     "exception": false,
     "start_time": "2022-04-07T09:59:24.048806",
     "status": "completed"
    },
    "tags": []
   },
   "outputs": [
    {
     "name": "stdout",
     "output_type": "stream",
     "text": [
      "(143, 212)\n",
      "(143, 197)\n",
      "197\n"
     ]
    }
   ],
   "source": [
    "# before applying\n",
    "print(df_train.shape)\n",
    "\n",
    "# drop features with Zero variance \n",
    "var_filter = VarianceThreshold(threshold = 0.0)\n",
    "train = var_filter.fit_transform(df_train)\n",
    "\n",
    "# after applying: get the count of features that aren't constant\n",
    "print(train.shape)\n",
    "\n",
    "indexes = var_filter.get_support()\n",
    "print(len(df_train.columns[indexes]))"
   ]
  },
  {
   "cell_type": "markdown",
   "id": "5ff8c486",
   "metadata": {
    "papermill": {
     "duration": 0.022196,
     "end_time": "2022-04-07T09:59:24.135630",
     "exception": false,
     "start_time": "2022-04-07T09:59:24.113434",
     "status": "completed"
    },
    "tags": []
   },
   "source": [
    "**1.3. Correlation coefficient**\n",
    "\n",
    "2 independent features (X) are highly correlated if they have a strong relationship with each other and move in a similar direction. In that case, we don't need 2 similar features to be fed to the model, if one can suffice.\n",
    "\n",
    "If a pair of columns cross a certain threshold, the one that shows a high correlation with the target variable (y) will be kept and the other one will be dropped\n",
    "\n",
    "- Pearson correlation (for continuous data):\n",
    "    + assumption: the observed data follows some distribution pattern (e.g. normal, gaussian)\n",
    "    + -1 <= r < 1\n",
    "    + Ho: correlation between variables is not significant (= 0)\n",
    "    + p-value < alpha: the sample contains sufficient evidence to reject Ho and conclude that the correlation coefficient does not equal zero.\n",
    "- Spearman rank (for continuous + ordinal data)\n",
    "    + Spearman = Pearson but fail the assumptions\n",
    "    \n",
    "- Kendall (for discrete/ordinal data)\n",
    "    + compares # of concordant and discordant pairs of data"
   ]
  },
  {
   "cell_type": "code",
   "execution_count": 12,
   "id": "ca1be552",
   "metadata": {
    "execution": {
     "iopub.execute_input": "2022-04-07T09:59:24.186326Z",
     "iopub.status.busy": "2022-04-07T09:59:24.185606Z",
     "iopub.status.idle": "2022-04-07T09:59:24.188146Z",
     "shell.execute_reply": "2022-04-07T09:59:24.188550Z",
     "shell.execute_reply.started": "2022-04-07T09:56:51.360791Z"
    },
    "papermill": {
     "duration": 0.029758,
     "end_time": "2022-04-07T09:59:24.188738",
     "exception": false,
     "start_time": "2022-04-07T09:59:24.158980",
     "status": "completed"
    },
    "tags": []
   },
   "outputs": [],
   "source": [
    "# use this one!\n",
    "#coef, p = pearsonrr(x, y)\n",
    "#x.corr(y)\n",
    "\n",
    "# don't use Spearman and Kendall\n",
    "# since they work best only with ordinal variables and\n",
    "# we have 60% continuous variables\n",
    "#coef, p = spearman(x, y)\n",
    "#x.corr(y, method = 'spearman')\n",
    "\n",
    "#coef, p = kendalltau(x, y)\n",
    "#x.corr(y, method = 'kendall')"
   ]
  },
  {
   "cell_type": "markdown",
   "id": "b5db3436",
   "metadata": {
    "papermill": {
     "duration": 0.022256,
     "end_time": "2022-04-07T09:59:24.234253",
     "exception": false,
     "start_time": "2022-04-07T09:59:24.211997",
     "status": "completed"
    },
    "tags": []
   },
   "source": [
    "**1.4. Chi-Square tests (for categorical data)**\n",
    "\n",
    "Ho: the 2 variables are independent\n",
    "\n",
    "Those tests come in 2 variations:\n",
    "- one evaluates the goodness-of-fit\n",
    "- other one: the test of independence"
   ]
  },
  {
   "cell_type": "markdown",
   "id": "7d2bcf1c",
   "metadata": {
    "papermill": {
     "duration": 0.021672,
     "end_time": "2022-04-07T09:59:24.279602",
     "exception": false,
     "start_time": "2022-04-07T09:59:24.257930",
     "status": "completed"
    },
    "tags": []
   },
   "source": [
    "With this dataset, Chi-square would not work since it needs categorical variables and non-negative values."
   ]
  },
  {
   "cell_type": "code",
   "execution_count": 13,
   "id": "36751da9",
   "metadata": {
    "execution": {
     "iopub.execute_input": "2022-04-07T09:59:24.327979Z",
     "iopub.status.busy": "2022-04-07T09:59:24.327314Z",
     "iopub.status.idle": "2022-04-07T09:59:24.331255Z",
     "shell.execute_reply": "2022-04-07T09:59:24.330503Z",
     "shell.execute_reply.started": "2022-04-07T09:56:51.371292Z"
    },
    "papermill": {
     "duration": 0.029906,
     "end_time": "2022-04-07T09:59:24.331455",
     "exception": false,
     "start_time": "2022-04-07T09:59:24.301549",
     "status": "completed"
    },
    "tags": []
   },
   "outputs": [],
   "source": [
    "# X_train = X_train.astype(int)\n",
    "# chi2_features = SelectKBest(chi2, k = 12)\n",
    "# X_kbest_features = chi2_features.fit_transform(X_train, y_train)"
   ]
  }
 ],
 "metadata": {
  "kernelspec": {
   "display_name": "Python 3",
   "language": "python",
   "name": "python3"
  },
  "language_info": {
   "codemirror_mode": {
    "name": "ipython",
    "version": 3
   },
   "file_extension": ".py",
   "mimetype": "text/x-python",
   "name": "python",
   "nbconvert_exporter": "python",
   "pygments_lexer": "ipython3",
   "version": "3.7.12"
  },
  "papermill": {
   "default_parameters": {},
   "duration": 14.529326,
   "end_time": "2022-04-07T09:59:25.065499",
   "environment_variables": {},
   "exception": null,
   "input_path": "__notebook__.ipynb",
   "output_path": "__notebook__.ipynb",
   "parameters": {},
   "start_time": "2022-04-07T09:59:10.536173",
   "version": "2.3.3"
  }
 },
 "nbformat": 4,
 "nbformat_minor": 5
}
