{
 "cells": [
  {
   "cell_type": "code",
   "execution_count": 1,
   "id": "e7f25aec",
   "metadata": {
    "_cell_guid": "b1076dfc-b9ad-4769-8c92-a6c4dae69d19",
    "_uuid": "8f2839f25d086af736a60e9eeb907d3b93b6e0e5",
    "execution": {
     "iopub.execute_input": "2022-04-07T17:12:59.644847Z",
     "iopub.status.busy": "2022-04-07T17:12:59.643645Z",
     "iopub.status.idle": "2022-04-07T17:13:01.055684Z",
     "shell.execute_reply": "2022-04-07T17:13:01.056343Z",
     "shell.execute_reply.started": "2022-04-07T17:12:32.777528Z"
    },
    "papermill": {
     "duration": 1.452057,
     "end_time": "2022-04-07T17:13:01.056643",
     "exception": false,
     "start_time": "2022-04-07T17:12:59.604586",
     "status": "completed"
    },
    "tags": []
   },
   "outputs": [],
   "source": [
    "import numpy as np # linear algebra\n",
    "import pandas as pd # data processing, CSV file I/O (e.g. pd.read_csv)\n",
    "\n",
    "import matplotlib.pyplot as plt\n",
    "import seaborn as sns\n",
    "from sklearn import linear_model\n",
    "from sklearn.linear_model import LinearRegression\n",
    "from sklearn.metrics import mean_squared_error\n",
    "from sklearn.metrics import r2_score\n",
    "from sklearn.model_selection import train_test_split\n",
    "from sklearn.feature_selection import VarianceThreshold\n",
    "from sklearn.preprocessing import StandardScaler\n",
    "\n",
    "from scipy.stats import spearmanr\n",
    "from scipy.stats import pearsonr\n",
    "from scipy.stats import kendalltau\n",
    "\n",
    "from sklearn.feature_selection import SelectKBest\n",
    "from sklearn.feature_selection import chi2\n",
    "\n",
    "from sklearn.feature_selection import mutual_info_regression\n",
    "from sklearn.feature_selection import SelectKBest\n",
    "\n",
    "from sklearn.feature_selection import f_regression\n",
    "\n",
    "from mlxtend.feature_selection import SequentialFeatureSelector\n",
    "\n",
    "from sklearn.feature_selection import RFE\n",
    "\n",
    "import warnings\n",
    "warnings.filterwarnings('ignore')\n",
    "\n",
    "import os\n",
    "for dirname, _, filenames in os.walk('/kaggle/input'):\n",
    "    for filename in filenames:\n",
    "        print(os.path.join(dirname, filename))"
   ]
  },
  {
   "cell_type": "markdown",
   "id": "3cfb1260",
   "metadata": {
    "papermill": {
     "duration": 0.033844,
     "end_time": "2022-04-07T17:13:01.128353",
     "exception": false,
     "start_time": "2022-04-07T17:13:01.094509",
     "status": "completed"
    },
    "tags": []
   },
   "source": [
    "Ref:\n",
    "1. https://github.com/Ayushijain09/Automobile-Dataset-Multiple-Linear-Regression-with-Feature-Selection/blob/master/_Automobile_Multiple_LinearRegression_Feature_Selection.ipynb\n",
    "2. https://towardsdatascience.com/learn-how-to-do-feature-selection-the-right-way-61bca8557bef"
   ]
  },
  {
   "cell_type": "markdown",
   "id": "5a97be68",
   "metadata": {
    "papermill": {
     "duration": 0.034644,
     "end_time": "2022-04-07T17:13:01.196547",
     "exception": false,
     "start_time": "2022-04-07T17:13:01.161903",
     "status": "completed"
    },
    "tags": []
   },
   "source": [
    "### 3 techniques of feature selection methods:\n",
    "1. Filter methods(6)\n",
    "    - missing values ratio\n",
    "    - variance threshold\n",
    "    - correlation coefficient\n",
    "    - chi-square test of independent (for categorical data)\n",
    "    - mutual info (for both regression & classification)\n",
    "    - analysis of variance (ANOVA)\n",
    "2. Wrapper methods\n",
    "    - sequential feature selection\n",
    "    - recursive feature elimination (RFE)\n",
    "3. Embedded methods\n",
    "    - L1 (LASSO) regularization\n",
    "    - Tree model (for regression & classification)"
   ]
  },
  {
   "cell_type": "markdown",
   "id": "51f609e7",
   "metadata": {
    "papermill": {
     "duration": 0.033246,
     "end_time": "2022-04-07T17:13:01.263438",
     "exception": false,
     "start_time": "2022-04-07T17:13:01.230192",
     "status": "completed"
    },
    "tags": []
   },
   "source": [
    "#### With filter methods, \n",
    "\n",
    "we primarily apply a statistical measure that suits our data to assign each feature column a calculated score. Based on that score, it'll be decided whether that feature will be kept or removed from our predictive model\n",
    "\n",
    "Pros and cons:\n",
    "- Pros: computationally inexpensive + best for eliminating redundant irrelevant features\n",
    "- Cons: don't take feature correlations into consideration since they work independently on each feature\n",
    "\n",
    "2 types of filter methods:\n",
    "1. univariate filter: work on ranking a single feature \n",
    "2. multivariate filer: evaluate the entire feature space"
   ]
  },
  {
   "cell_type": "markdown",
   "id": "e0cfc9b6",
   "metadata": {
    "papermill": {
     "duration": 0.033311,
     "end_time": "2022-04-07T17:13:01.331192",
     "exception": false,
     "start_time": "2022-04-07T17:13:01.297881",
     "status": "completed"
    },
    "tags": []
   },
   "source": [
    "#### In wrapper methods,\n",
    "\n",
    "we primarily choose a subset of features and train them using a ML algorithm. Based on the inferences from this model, we employ a search strategy to look through the space of possible feature subsets and decide which feature to add or remove for the next model development.\n",
    "\n",
    "This loop continues until the model performance no longer changes with the desired count of features. (k_features)\n",
    "\n",
    "Pros and cons:\n",
    "- Pros: takes care of the interactions between features, ultimately finding the optimal subset of features for your model with the lowest possible error.\n",
    "- Cons: computationally expensive as the features increase"
   ]
  },
  {
   "cell_type": "markdown",
   "id": "c01530a2",
   "metadata": {
    "papermill": {
     "duration": 0.033232,
     "end_time": "2022-04-07T17:13:01.400460",
     "exception": false,
     "start_time": "2022-04-07T17:13:01.367228",
     "status": "completed"
    },
    "tags": []
   },
   "source": [
    "#### In embedded methods,\n",
    "\n",
    "combining the functionalities of both Filter and Wrapper methods\n",
    "\n",
    "Embedded methods perform feature selection during the process of training (which is why they're called embedded)\n",
    "\n",
    "**Upside:** the computational speed is as good as of filter methods + better accuracy"
   ]
  },
  {
   "cell_type": "markdown",
   "id": "dbf684af",
   "metadata": {
    "papermill": {
     "duration": 0.03305,
     "end_time": "2022-04-07T17:13:01.467010",
     "exception": false,
     "start_time": "2022-04-07T17:13:01.433960",
     "status": "completed"
    },
    "tags": []
   },
   "source": [
    "## Data Pre-processing\n",
    "\n",
    "Step 1. Data Wrangling to clean data\n",
    "\n",
    "Step 2. Data Scaling to normalize data"
   ]
  },
  {
   "cell_type": "markdown",
   "id": "a85914fd",
   "metadata": {
    "papermill": {
     "duration": 0.03386,
     "end_time": "2022-04-07T17:13:01.534924",
     "exception": false,
     "start_time": "2022-04-07T17:13:01.501064",
     "status": "completed"
    },
    "tags": []
   },
   "source": [
    "## Step 0 - Data Wrangling\n",
    "**Step 0.1 - Data Overview**"
   ]
  },
  {
   "cell_type": "code",
   "execution_count": 2,
   "id": "16584bb2",
   "metadata": {
    "execution": {
     "iopub.execute_input": "2022-04-07T17:13:01.606952Z",
     "iopub.status.busy": "2022-04-07T17:13:01.606202Z",
     "iopub.status.idle": "2022-04-07T17:13:02.532400Z",
     "shell.execute_reply": "2022-04-07T17:13:02.533183Z",
     "shell.execute_reply.started": "2022-04-07T17:12:34.130326Z"
    },
    "papermill": {
     "duration": 0.964438,
     "end_time": "2022-04-07T17:13:02.533418",
     "exception": false,
     "start_time": "2022-04-07T17:13:01.568980",
     "status": "completed"
    },
    "tags": []
   },
   "outputs": [
    {
     "name": "stdout",
     "output_type": "stream",
     "text": [
      "<class 'pandas.core.frame.DataFrame'>\n",
      "RangeIndex: 205 entries, 0 to 204\n",
      "Data columns (total 26 columns):\n",
      " #   Column             Non-Null Count  Dtype  \n",
      "---  ------             --------------  -----  \n",
      " 0   symboling          205 non-null    int64  \n",
      " 1   normalized_losses  205 non-null    object \n",
      " 2   make               205 non-null    object \n",
      " 3   fuel_type          205 non-null    object \n",
      " 4   aspiration         205 non-null    object \n",
      " 5   num_of_doors       205 non-null    object \n",
      " 6   body_style         205 non-null    object \n",
      " 7   drive_wheels       205 non-null    object \n",
      " 8   engine_location    205 non-null    object \n",
      " 9   wheel_base         205 non-null    float64\n",
      " 10  length             205 non-null    float64\n",
      " 11  width              205 non-null    float64\n",
      " 12  height             205 non-null    float64\n",
      " 13  curb_weight        205 non-null    int64  \n",
      " 14  engine_type        205 non-null    object \n",
      " 15  num_of_cylinders   205 non-null    object \n",
      " 16  engine_size        205 non-null    int64  \n",
      " 17  fuel_system        205 non-null    object \n",
      " 18  bore               205 non-null    object \n",
      " 19  stroke             205 non-null    object \n",
      " 20  compression_ratio  205 non-null    float64\n",
      " 21  horse_power        205 non-null    object \n",
      " 22  peak_rpm           205 non-null    object \n",
      " 23  city_mpg           205 non-null    int64  \n",
      " 24  highway_mpg        205 non-null    int64  \n",
      " 25  price              205 non-null    object \n",
      "dtypes: float64(5), int64(5), object(16)\n",
      "memory usage: 41.8+ KB\n"
     ]
    },
    {
     "data": {
      "text/html": [
       "<div>\n",
       "<style scoped>\n",
       "    .dataframe tbody tr th:only-of-type {\n",
       "        vertical-align: middle;\n",
       "    }\n",
       "\n",
       "    .dataframe tbody tr th {\n",
       "        vertical-align: top;\n",
       "    }\n",
       "\n",
       "    .dataframe thead th {\n",
       "        text-align: right;\n",
       "    }\n",
       "</style>\n",
       "<table border=\"1\" class=\"dataframe\">\n",
       "  <thead>\n",
       "    <tr style=\"text-align: right;\">\n",
       "      <th></th>\n",
       "      <th>symboling</th>\n",
       "      <th>normalized_losses</th>\n",
       "      <th>make</th>\n",
       "      <th>fuel_type</th>\n",
       "      <th>aspiration</th>\n",
       "      <th>num_of_doors</th>\n",
       "      <th>body_style</th>\n",
       "      <th>drive_wheels</th>\n",
       "      <th>engine_location</th>\n",
       "      <th>wheel_base</th>\n",
       "      <th>...</th>\n",
       "      <th>engine_size</th>\n",
       "      <th>fuel_system</th>\n",
       "      <th>bore</th>\n",
       "      <th>stroke</th>\n",
       "      <th>compression_ratio</th>\n",
       "      <th>horse_power</th>\n",
       "      <th>peak_rpm</th>\n",
       "      <th>city_mpg</th>\n",
       "      <th>highway_mpg</th>\n",
       "      <th>price</th>\n",
       "    </tr>\n",
       "  </thead>\n",
       "  <tbody>\n",
       "    <tr>\n",
       "      <th>0</th>\n",
       "      <td>3</td>\n",
       "      <td>?</td>\n",
       "      <td>alfa-romero</td>\n",
       "      <td>gas</td>\n",
       "      <td>std</td>\n",
       "      <td>two</td>\n",
       "      <td>convertible</td>\n",
       "      <td>rwd</td>\n",
       "      <td>front</td>\n",
       "      <td>88.6</td>\n",
       "      <td>...</td>\n",
       "      <td>130</td>\n",
       "      <td>mpfi</td>\n",
       "      <td>3.47</td>\n",
       "      <td>2.68</td>\n",
       "      <td>9.0</td>\n",
       "      <td>111</td>\n",
       "      <td>5000</td>\n",
       "      <td>21</td>\n",
       "      <td>27</td>\n",
       "      <td>13495</td>\n",
       "    </tr>\n",
       "    <tr>\n",
       "      <th>1</th>\n",
       "      <td>3</td>\n",
       "      <td>?</td>\n",
       "      <td>alfa-romero</td>\n",
       "      <td>gas</td>\n",
       "      <td>std</td>\n",
       "      <td>two</td>\n",
       "      <td>convertible</td>\n",
       "      <td>rwd</td>\n",
       "      <td>front</td>\n",
       "      <td>88.6</td>\n",
       "      <td>...</td>\n",
       "      <td>130</td>\n",
       "      <td>mpfi</td>\n",
       "      <td>3.47</td>\n",
       "      <td>2.68</td>\n",
       "      <td>9.0</td>\n",
       "      <td>111</td>\n",
       "      <td>5000</td>\n",
       "      <td>21</td>\n",
       "      <td>27</td>\n",
       "      <td>16500</td>\n",
       "    </tr>\n",
       "    <tr>\n",
       "      <th>2</th>\n",
       "      <td>1</td>\n",
       "      <td>?</td>\n",
       "      <td>alfa-romero</td>\n",
       "      <td>gas</td>\n",
       "      <td>std</td>\n",
       "      <td>two</td>\n",
       "      <td>hatchback</td>\n",
       "      <td>rwd</td>\n",
       "      <td>front</td>\n",
       "      <td>94.5</td>\n",
       "      <td>...</td>\n",
       "      <td>152</td>\n",
       "      <td>mpfi</td>\n",
       "      <td>2.68</td>\n",
       "      <td>3.47</td>\n",
       "      <td>9.0</td>\n",
       "      <td>154</td>\n",
       "      <td>5000</td>\n",
       "      <td>19</td>\n",
       "      <td>26</td>\n",
       "      <td>16500</td>\n",
       "    </tr>\n",
       "    <tr>\n",
       "      <th>3</th>\n",
       "      <td>2</td>\n",
       "      <td>164</td>\n",
       "      <td>audi</td>\n",
       "      <td>gas</td>\n",
       "      <td>std</td>\n",
       "      <td>four</td>\n",
       "      <td>sedan</td>\n",
       "      <td>fwd</td>\n",
       "      <td>front</td>\n",
       "      <td>99.8</td>\n",
       "      <td>...</td>\n",
       "      <td>109</td>\n",
       "      <td>mpfi</td>\n",
       "      <td>3.19</td>\n",
       "      <td>3.40</td>\n",
       "      <td>10.0</td>\n",
       "      <td>102</td>\n",
       "      <td>5500</td>\n",
       "      <td>24</td>\n",
       "      <td>30</td>\n",
       "      <td>13950</td>\n",
       "    </tr>\n",
       "    <tr>\n",
       "      <th>4</th>\n",
       "      <td>2</td>\n",
       "      <td>164</td>\n",
       "      <td>audi</td>\n",
       "      <td>gas</td>\n",
       "      <td>std</td>\n",
       "      <td>four</td>\n",
       "      <td>sedan</td>\n",
       "      <td>4wd</td>\n",
       "      <td>front</td>\n",
       "      <td>99.4</td>\n",
       "      <td>...</td>\n",
       "      <td>136</td>\n",
       "      <td>mpfi</td>\n",
       "      <td>3.19</td>\n",
       "      <td>3.40</td>\n",
       "      <td>8.0</td>\n",
       "      <td>115</td>\n",
       "      <td>5500</td>\n",
       "      <td>18</td>\n",
       "      <td>22</td>\n",
       "      <td>17450</td>\n",
       "    </tr>\n",
       "  </tbody>\n",
       "</table>\n",
       "<p>5 rows × 26 columns</p>\n",
       "</div>"
      ],
      "text/plain": [
       "   symboling normalized_losses         make fuel_type aspiration num_of_doors  \\\n",
       "0          3                 ?  alfa-romero       gas        std          two   \n",
       "1          3                 ?  alfa-romero       gas        std          two   \n",
       "2          1                 ?  alfa-romero       gas        std          two   \n",
       "3          2               164         audi       gas        std         four   \n",
       "4          2               164         audi       gas        std         four   \n",
       "\n",
       "    body_style drive_wheels engine_location  wheel_base  ...  engine_size  \\\n",
       "0  convertible          rwd           front        88.6  ...          130   \n",
       "1  convertible          rwd           front        88.6  ...          130   \n",
       "2    hatchback          rwd           front        94.5  ...          152   \n",
       "3        sedan          fwd           front        99.8  ...          109   \n",
       "4        sedan          4wd           front        99.4  ...          136   \n",
       "\n",
       "   fuel_system  bore  stroke compression_ratio horse_power  peak_rpm city_mpg  \\\n",
       "0         mpfi  3.47    2.68               9.0         111      5000       21   \n",
       "1         mpfi  3.47    2.68               9.0         111      5000       21   \n",
       "2         mpfi  2.68    3.47               9.0         154      5000       19   \n",
       "3         mpfi  3.19    3.40              10.0         102      5500       24   \n",
       "4         mpfi  3.19    3.40               8.0         115      5500       18   \n",
       "\n",
       "  highway_mpg  price  \n",
       "0          27  13495  \n",
       "1          27  16500  \n",
       "2          26  16500  \n",
       "3          30  13950  \n",
       "4          22  17450  \n",
       "\n",
       "[5 rows x 26 columns]"
      ]
     },
     "execution_count": 2,
     "metadata": {},
     "output_type": "execute_result"
    }
   ],
   "source": [
    "# take here: https://github.com/justdinhnq/python_practice/blob/main/feature_selection/cars_desc.names\n",
    "names = [\n",
    "    \"symboling\", \"normalized_losses\", \"make\", \"fuel_type\", \n",
    "    \"aspiration\", \"num_of_doors\", \"body_style\", \"drive_wheels\",\n",
    "    \"engine_location\", \"wheel_base\", \"length\", \"width\", \"height\",\n",
    "    \"curb_weight\", \"engine_type\", \"num_of_cylinders\", \"engine_size\",\n",
    "    \"fuel_system\", \"bore\", \"stroke\", \"compression_ratio\", \"horse_power\",\n",
    "    \"peak_rpm\", \"city_mpg\", \"highway_mpg\", \"price\"\n",
    "]\n",
    "\n",
    "cars = pd.read_csv(\n",
    "    \"https://archive.ics.uci.edu/ml/machine-learning-databases/autos/imports-85.data\",\n",
    "    names = names\n",
    ")\n",
    "cars.info()\n",
    "cars.head()"
   ]
  },
  {
   "cell_type": "markdown",
   "id": "8e27d865",
   "metadata": {
    "papermill": {
     "duration": 0.034742,
     "end_time": "2022-04-07T17:13:02.604038",
     "exception": false,
     "start_time": "2022-04-07T17:13:02.569296",
     "status": "completed"
    },
    "tags": []
   },
   "source": [
    "**Step 0.2 - change data types and drop columns**\n",
    "\n",
    "1. reduce categories \n",
    "    - 'make' = 'company name' + 'version': only keep 'company name' instead\n",
    "2. change 'object' type to 'category' type\n",
    "    - 'company_name', 'num_of_cylinders'\n",
    "3. change to 'numeric' type for columns mentioned as words\n",
    "    - 'num_of_doors', 'num_of_cylinders'\n",
    "4. change 'object' (known as 'categorical') to dummy variables"
   ]
  },
  {
   "cell_type": "markdown",
   "id": "c10a56e3",
   "metadata": {
    "papermill": {
     "duration": 0.03468,
     "end_time": "2022-04-07T17:13:02.673765",
     "exception": false,
     "start_time": "2022-04-07T17:13:02.639085",
     "status": "completed"
    },
    "tags": []
   },
   "source": [
    "1. reduce categories"
   ]
  },
  {
   "cell_type": "code",
   "execution_count": 3,
   "id": "2846855e",
   "metadata": {
    "execution": {
     "iopub.execute_input": "2022-04-07T17:13:02.750595Z",
     "iopub.status.busy": "2022-04-07T17:13:02.749902Z",
     "iopub.status.idle": "2022-04-07T17:13:02.752770Z",
     "shell.execute_reply": "2022-04-07T17:13:02.753213Z",
     "shell.execute_reply.started": "2022-04-07T17:12:34.549870Z"
    },
    "papermill": {
     "duration": 0.044836,
     "end_time": "2022-04-07T17:13:02.753380",
     "exception": false,
     "start_time": "2022-04-07T17:13:02.708544",
     "status": "completed"
    },
    "tags": []
   },
   "outputs": [],
   "source": [
    "cars['company_name'] = cars['make'].apply(lambda x: x.split(\" \")[0])\n",
    "\n",
    "# it's done, now drop the 'make' column for clean\n",
    "cars = cars.drop('make', axis = 1)"
   ]
  },
  {
   "cell_type": "markdown",
   "id": "fa05a993",
   "metadata": {
    "papermill": {
     "duration": 0.034569,
     "end_time": "2022-04-07T17:13:02.822860",
     "exception": false,
     "start_time": "2022-04-07T17:13:02.788291",
     "status": "completed"
    },
    "tags": []
   },
   "source": [
    "2. change 'object' type to 'category' type"
   ]
  },
  {
   "cell_type": "code",
   "execution_count": 4,
   "id": "fe4b9a43",
   "metadata": {
    "execution": {
     "iopub.execute_input": "2022-04-07T17:13:02.896988Z",
     "iopub.status.busy": "2022-04-07T17:13:02.896335Z",
     "iopub.status.idle": "2022-04-07T17:13:02.905160Z",
     "shell.execute_reply": "2022-04-07T17:13:02.904636Z",
     "shell.execute_reply.started": "2022-04-07T17:12:34.558597Z"
    },
    "papermill": {
     "duration": 0.047429,
     "end_time": "2022-04-07T17:13:02.905298",
     "exception": false,
     "start_time": "2022-04-07T17:13:02.857869",
     "status": "completed"
    },
    "tags": []
   },
   "outputs": [
    {
     "data": {
      "text/plain": [
       "toyota           32\n",
       "nissan           18\n",
       "mazda            17\n",
       "mitsubishi       13\n",
       "honda            13\n",
       "volkswagen       12\n",
       "subaru           12\n",
       "peugot           11\n",
       "volvo            11\n",
       "dodge             9\n",
       "mercedes-benz     8\n",
       "bmw               8\n",
       "audi              7\n",
       "plymouth          7\n",
       "saab              6\n",
       "porsche           5\n",
       "isuzu             4\n",
       "jaguar            3\n",
       "chevrolet         3\n",
       "alfa-romero       3\n",
       "renault           2\n",
       "mercury           1\n",
       "Name: company_name, dtype: int64"
      ]
     },
     "execution_count": 4,
     "metadata": {},
     "output_type": "execute_result"
    }
   ],
   "source": [
    "\n",
    "cars['company_name'].astype('category')\n",
    "cars['company_name'].value_counts()\n",
    "\n",
    "# if some are misspelled, use this example to correct them\n",
    "# cars.loc[cars['company_name'] == 'Nissan', 'company_name'] = 'nissan'\n",
    "\n"
   ]
  },
  {
   "cell_type": "markdown",
   "id": "b89b8a6e",
   "metadata": {
    "papermill": {
     "duration": 0.035021,
     "end_time": "2022-04-07T17:13:02.975727",
     "exception": false,
     "start_time": "2022-04-07T17:13:02.940706",
     "status": "completed"
    },
    "tags": []
   },
   "source": [
    "3. change to 'numeric' type for columns mentioned as words"
   ]
  },
  {
   "cell_type": "code",
   "execution_count": 5,
   "id": "45bf4317",
   "metadata": {
    "execution": {
     "iopub.execute_input": "2022-04-07T17:13:03.057182Z",
     "iopub.status.busy": "2022-04-07T17:13:03.056448Z",
     "iopub.status.idle": "2022-04-07T17:13:03.058402Z",
     "shell.execute_reply": "2022-04-07T17:13:03.059008Z",
     "shell.execute_reply.started": "2022-04-07T17:12:34.573722Z"
    },
    "papermill": {
     "duration": 0.046257,
     "end_time": "2022-04-07T17:13:03.059181",
     "exception": false,
     "start_time": "2022-04-07T17:13:03.012924",
     "status": "completed"
    },
    "tags": []
   },
   "outputs": [],
   "source": [
    "# map 'words' to 'numeric' type\n",
    "cars['num_of_doors'] = cars['num_of_doors'].map(\n",
    "    {\n",
    "        'four':4,'two':2, \n",
    "        '?':2              # sorry, this line is only my idea :))\n",
    "    }\n",
    ")\n",
    "\n",
    "cars['num_of_cylinders'] = cars['num_of_cylinders'].map(\n",
    "    {\n",
    "        'four':4,'two':2,'six':6,'five':5,'eight':8,'three':3,'twelve':12\n",
    "    }\n",
    ")"
   ]
  },
  {
   "cell_type": "code",
   "execution_count": 6,
   "id": "d246a3c3",
   "metadata": {
    "execution": {
     "iopub.execute_input": "2022-04-07T17:13:03.133555Z",
     "iopub.status.busy": "2022-04-07T17:13:03.132863Z",
     "iopub.status.idle": "2022-04-07T17:13:03.138165Z",
     "shell.execute_reply": "2022-04-07T17:13:03.138725Z",
     "shell.execute_reply.started": "2022-04-07T17:12:34.589919Z"
    },
    "papermill": {
     "duration": 0.044168,
     "end_time": "2022-04-07T17:13:03.138890",
     "exception": false,
     "start_time": "2022-04-07T17:13:03.094722",
     "status": "completed"
    },
    "tags": []
   },
   "outputs": [],
   "source": [
    "# convert '?' to 0.0 before change 'object' type to 'float-64' type\n",
    "cars['price'] = cars['price'].replace('?', 0.0)\n",
    "cars['price'] = cars['price'].astype(float)"
   ]
  },
  {
   "cell_type": "markdown",
   "id": "df5293e2",
   "metadata": {
    "papermill": {
     "duration": 0.034881,
     "end_time": "2022-04-07T17:13:03.209011",
     "exception": false,
     "start_time": "2022-04-07T17:13:03.174130",
     "status": "completed"
    },
    "tags": []
   },
   "source": [
    "4. change 'object' (known as 'categorical') to dummy variables"
   ]
  },
  {
   "cell_type": "code",
   "execution_count": 7,
   "id": "e52b3f92",
   "metadata": {
    "execution": {
     "iopub.execute_input": "2022-04-07T17:13:03.281907Z",
     "iopub.status.busy": "2022-04-07T17:13:03.281293Z",
     "iopub.status.idle": "2022-04-07T17:13:03.313041Z",
     "shell.execute_reply": "2022-04-07T17:13:03.313638Z",
     "shell.execute_reply.started": "2022-04-07T17:12:34.602329Z"
    },
    "papermill": {
     "duration": 0.069919,
     "end_time": "2022-04-07T17:13:03.313831",
     "exception": false,
     "start_time": "2022-04-07T17:13:03.243912",
     "status": "completed"
    },
    "tags": []
   },
   "outputs": [
    {
     "data": {
      "text/html": [
       "<div>\n",
       "<style scoped>\n",
       "    .dataframe tbody tr th:only-of-type {\n",
       "        vertical-align: middle;\n",
       "    }\n",
       "\n",
       "    .dataframe tbody tr th {\n",
       "        vertical-align: top;\n",
       "    }\n",
       "\n",
       "    .dataframe thead th {\n",
       "        text-align: right;\n",
       "    }\n",
       "</style>\n",
       "<table border=\"1\" class=\"dataframe\">\n",
       "  <thead>\n",
       "    <tr style=\"text-align: right;\">\n",
       "      <th></th>\n",
       "      <th>fuel_type_gas</th>\n",
       "      <th>aspiration_turbo</th>\n",
       "      <th>body_style_hardtop</th>\n",
       "      <th>body_style_hatchback</th>\n",
       "      <th>body_style_sedan</th>\n",
       "      <th>body_style_wagon</th>\n",
       "      <th>drive_wheels_fwd</th>\n",
       "      <th>drive_wheels_rwd</th>\n",
       "      <th>engine_location_rear</th>\n",
       "      <th>engine_type_dohcv</th>\n",
       "      <th>...</th>\n",
       "      <th>company_name_nissan</th>\n",
       "      <th>company_name_peugot</th>\n",
       "      <th>company_name_plymouth</th>\n",
       "      <th>company_name_porsche</th>\n",
       "      <th>company_name_renault</th>\n",
       "      <th>company_name_saab</th>\n",
       "      <th>company_name_subaru</th>\n",
       "      <th>company_name_toyota</th>\n",
       "      <th>company_name_volkswagen</th>\n",
       "      <th>company_name_volvo</th>\n",
       "    </tr>\n",
       "  </thead>\n",
       "  <tbody>\n",
       "    <tr>\n",
       "      <th>0</th>\n",
       "      <td>1</td>\n",
       "      <td>0</td>\n",
       "      <td>0</td>\n",
       "      <td>0</td>\n",
       "      <td>0</td>\n",
       "      <td>0</td>\n",
       "      <td>0</td>\n",
       "      <td>1</td>\n",
       "      <td>0</td>\n",
       "      <td>0</td>\n",
       "      <td>...</td>\n",
       "      <td>0</td>\n",
       "      <td>0</td>\n",
       "      <td>0</td>\n",
       "      <td>0</td>\n",
       "      <td>0</td>\n",
       "      <td>0</td>\n",
       "      <td>0</td>\n",
       "      <td>0</td>\n",
       "      <td>0</td>\n",
       "      <td>0</td>\n",
       "    </tr>\n",
       "    <tr>\n",
       "      <th>1</th>\n",
       "      <td>1</td>\n",
       "      <td>0</td>\n",
       "      <td>0</td>\n",
       "      <td>0</td>\n",
       "      <td>0</td>\n",
       "      <td>0</td>\n",
       "      <td>0</td>\n",
       "      <td>1</td>\n",
       "      <td>0</td>\n",
       "      <td>0</td>\n",
       "      <td>...</td>\n",
       "      <td>0</td>\n",
       "      <td>0</td>\n",
       "      <td>0</td>\n",
       "      <td>0</td>\n",
       "      <td>0</td>\n",
       "      <td>0</td>\n",
       "      <td>0</td>\n",
       "      <td>0</td>\n",
       "      <td>0</td>\n",
       "      <td>0</td>\n",
       "    </tr>\n",
       "    <tr>\n",
       "      <th>2</th>\n",
       "      <td>1</td>\n",
       "      <td>0</td>\n",
       "      <td>0</td>\n",
       "      <td>1</td>\n",
       "      <td>0</td>\n",
       "      <td>0</td>\n",
       "      <td>0</td>\n",
       "      <td>1</td>\n",
       "      <td>0</td>\n",
       "      <td>0</td>\n",
       "      <td>...</td>\n",
       "      <td>0</td>\n",
       "      <td>0</td>\n",
       "      <td>0</td>\n",
       "      <td>0</td>\n",
       "      <td>0</td>\n",
       "      <td>0</td>\n",
       "      <td>0</td>\n",
       "      <td>0</td>\n",
       "      <td>0</td>\n",
       "      <td>0</td>\n",
       "    </tr>\n",
       "    <tr>\n",
       "      <th>3</th>\n",
       "      <td>1</td>\n",
       "      <td>0</td>\n",
       "      <td>0</td>\n",
       "      <td>0</td>\n",
       "      <td>1</td>\n",
       "      <td>0</td>\n",
       "      <td>1</td>\n",
       "      <td>0</td>\n",
       "      <td>0</td>\n",
       "      <td>0</td>\n",
       "      <td>...</td>\n",
       "      <td>0</td>\n",
       "      <td>0</td>\n",
       "      <td>0</td>\n",
       "      <td>0</td>\n",
       "      <td>0</td>\n",
       "      <td>0</td>\n",
       "      <td>0</td>\n",
       "      <td>0</td>\n",
       "      <td>0</td>\n",
       "      <td>0</td>\n",
       "    </tr>\n",
       "    <tr>\n",
       "      <th>4</th>\n",
       "      <td>1</td>\n",
       "      <td>0</td>\n",
       "      <td>0</td>\n",
       "      <td>0</td>\n",
       "      <td>1</td>\n",
       "      <td>0</td>\n",
       "      <td>0</td>\n",
       "      <td>0</td>\n",
       "      <td>0</td>\n",
       "      <td>0</td>\n",
       "      <td>...</td>\n",
       "      <td>0</td>\n",
       "      <td>0</td>\n",
       "      <td>0</td>\n",
       "      <td>0</td>\n",
       "      <td>0</td>\n",
       "      <td>0</td>\n",
       "      <td>0</td>\n",
       "      <td>0</td>\n",
       "      <td>0</td>\n",
       "      <td>0</td>\n",
       "    </tr>\n",
       "  </tbody>\n",
       "</table>\n",
       "<p>5 rows × 199 columns</p>\n",
       "</div>"
      ],
      "text/plain": [
       "   fuel_type_gas  aspiration_turbo  body_style_hardtop  body_style_hatchback  \\\n",
       "0              1                 0                   0                     0   \n",
       "1              1                 0                   0                     0   \n",
       "2              1                 0                   0                     1   \n",
       "3              1                 0                   0                     0   \n",
       "4              1                 0                   0                     0   \n",
       "\n",
       "   body_style_sedan  body_style_wagon  drive_wheels_fwd  drive_wheels_rwd  \\\n",
       "0                 0                 0                 0                 1   \n",
       "1                 0                 0                 0                 1   \n",
       "2                 0                 0                 0                 1   \n",
       "3                 1                 0                 1                 0   \n",
       "4                 1                 0                 0                 0   \n",
       "\n",
       "   engine_location_rear  engine_type_dohcv  ...  company_name_nissan  \\\n",
       "0                     0                  0  ...                    0   \n",
       "1                     0                  0  ...                    0   \n",
       "2                     0                  0  ...                    0   \n",
       "3                     0                  0  ...                    0   \n",
       "4                     0                  0  ...                    0   \n",
       "\n",
       "   company_name_peugot  company_name_plymouth  company_name_porsche  \\\n",
       "0                    0                      0                     0   \n",
       "1                    0                      0                     0   \n",
       "2                    0                      0                     0   \n",
       "3                    0                      0                     0   \n",
       "4                    0                      0                     0   \n",
       "\n",
       "   company_name_renault  company_name_saab  company_name_subaru  \\\n",
       "0                     0                  0                    0   \n",
       "1                     0                  0                    0   \n",
       "2                     0                  0                    0   \n",
       "3                     0                  0                    0   \n",
       "4                     0                  0                    0   \n",
       "\n",
       "   company_name_toyota  company_name_volkswagen  company_name_volvo  \n",
       "0                    0                        0                   0  \n",
       "1                    0                        0                   0  \n",
       "2                    0                        0                   0  \n",
       "3                    0                        0                   0  \n",
       "4                    0                        0                   0  \n",
       "\n",
       "[5 rows x 199 columns]"
      ]
     },
     "execution_count": 7,
     "metadata": {},
     "output_type": "execute_result"
    }
   ],
   "source": [
    "# models can't learn from categorical variables, \n",
    "# so we need to make dummy variables to convert them into numeric types\n",
    "\n",
    "# extra part: no need 'normalized_losses' 'object' column\n",
    "cars = cars.drop(['normalized_losses'], axis = 1)\n",
    "\n",
    "\n",
    "# get categorical vars\n",
    "cars_category = cars.select_dtypes(include=['object'])\n",
    "\n",
    "# make dummy vars\n",
    "# drop_first = True => don't have 'fuel_type_diesel', same as for other dummy vars\n",
    "cars_dummies = pd.get_dummies(cars_category, drop_first=True)\n",
    "cars_dummies.head()"
   ]
  },
  {
   "cell_type": "code",
   "execution_count": 8,
   "id": "bf933400",
   "metadata": {
    "execution": {
     "iopub.execute_input": "2022-04-07T17:13:03.389763Z",
     "iopub.status.busy": "2022-04-07T17:13:03.389139Z",
     "iopub.status.idle": "2022-04-07T17:13:03.395171Z",
     "shell.execute_reply": "2022-04-07T17:13:03.395784Z",
     "shell.execute_reply.started": "2022-04-07T17:12:34.648050Z"
    },
    "papermill": {
     "duration": 0.046051,
     "end_time": "2022-04-07T17:13:03.395945",
     "exception": false,
     "start_time": "2022-04-07T17:13:03.349894",
     "status": "completed"
    },
    "tags": []
   },
   "outputs": [],
   "source": [
    "# drop categorical columns \n",
    "list_cats = list(cars_category)\n",
    "cars = cars.drop(list_cats, axis = 1)\n",
    "\n",
    "# and add new dummies\n",
    "cars = pd.concat([cars, cars_dummies], axis = 1)"
   ]
  },
  {
   "cell_type": "markdown",
   "id": "e68ebafb",
   "metadata": {
    "papermill": {
     "duration": 0.035557,
     "end_time": "2022-04-07T17:13:03.467311",
     "exception": false,
     "start_time": "2022-04-07T17:13:03.431754",
     "status": "completed"
    },
    "tags": []
   },
   "source": [
    "## Step 0 - Data Scaling"
   ]
  },
  {
   "cell_type": "markdown",
   "id": "d02d768a",
   "metadata": {
    "papermill": {
     "duration": 0.035215,
     "end_time": "2022-04-07T17:13:03.538211",
     "exception": false,
     "start_time": "2022-04-07T17:13:03.502996",
     "status": "completed"
    },
    "tags": []
   },
   "source": [
    "Now we have all features as numeric data types.\n",
    "\n",
    "The categorical features don't need to be scaled.\n",
    "\n",
    "Let's scale all the numerical features to normalize the data within a particular range.\n",
    "\n",
    "But we can only scale the training set features, not the test set."
   ]
  },
  {
   "cell_type": "code",
   "execution_count": 9,
   "id": "f676eb5e",
   "metadata": {
    "execution": {
     "iopub.execute_input": "2022-04-07T17:13:03.612610Z",
     "iopub.status.busy": "2022-04-07T17:13:03.611933Z",
     "iopub.status.idle": "2022-04-07T17:13:03.643242Z",
     "shell.execute_reply": "2022-04-07T17:13:03.643835Z",
     "shell.execute_reply.started": "2022-04-07T17:12:34.656043Z"
    },
    "papermill": {
     "duration": 0.07023,
     "end_time": "2022-04-07T17:13:03.644011",
     "exception": false,
     "start_time": "2022-04-07T17:13:03.573781",
     "status": "completed"
    },
    "tags": []
   },
   "outputs": [
    {
     "data": {
      "text/html": [
       "<div>\n",
       "<style scoped>\n",
       "    .dataframe tbody tr th:only-of-type {\n",
       "        vertical-align: middle;\n",
       "    }\n",
       "\n",
       "    .dataframe tbody tr th {\n",
       "        vertical-align: top;\n",
       "    }\n",
       "\n",
       "    .dataframe thead th {\n",
       "        text-align: right;\n",
       "    }\n",
       "</style>\n",
       "<table border=\"1\" class=\"dataframe\">\n",
       "  <thead>\n",
       "    <tr style=\"text-align: right;\">\n",
       "      <th></th>\n",
       "      <th>symboling</th>\n",
       "      <th>num_of_doors</th>\n",
       "      <th>wheel_base</th>\n",
       "      <th>length</th>\n",
       "      <th>width</th>\n",
       "      <th>height</th>\n",
       "      <th>curb_weight</th>\n",
       "      <th>num_of_cylinders</th>\n",
       "      <th>engine_size</th>\n",
       "      <th>compression_ratio</th>\n",
       "      <th>...</th>\n",
       "      <th>company_name_nissan</th>\n",
       "      <th>company_name_peugot</th>\n",
       "      <th>company_name_plymouth</th>\n",
       "      <th>company_name_porsche</th>\n",
       "      <th>company_name_renault</th>\n",
       "      <th>company_name_saab</th>\n",
       "      <th>company_name_subaru</th>\n",
       "      <th>company_name_toyota</th>\n",
       "      <th>company_name_volkswagen</th>\n",
       "      <th>company_name_volvo</th>\n",
       "    </tr>\n",
       "  </thead>\n",
       "  <tbody>\n",
       "    <tr>\n",
       "      <th>122</th>\n",
       "      <td>0.170159</td>\n",
       "      <td>0.900070</td>\n",
       "      <td>-0.811836</td>\n",
       "      <td>-0.487238</td>\n",
       "      <td>-0.924500</td>\n",
       "      <td>-1.134628</td>\n",
       "      <td>-0.642128</td>\n",
       "      <td>-0.351431</td>\n",
       "      <td>-0.660242</td>\n",
       "      <td>-0.172569</td>\n",
       "      <td>...</td>\n",
       "      <td>0</td>\n",
       "      <td>0</td>\n",
       "      <td>1</td>\n",
       "      <td>0</td>\n",
       "      <td>0</td>\n",
       "      <td>0</td>\n",
       "      <td>0</td>\n",
       "      <td>0</td>\n",
       "      <td>0</td>\n",
       "      <td>0</td>\n",
       "    </tr>\n",
       "    <tr>\n",
       "      <th>125</th>\n",
       "      <td>1.848278</td>\n",
       "      <td>-1.111024</td>\n",
       "      <td>-0.677177</td>\n",
       "      <td>-0.359789</td>\n",
       "      <td>1.114978</td>\n",
       "      <td>-1.382026</td>\n",
       "      <td>0.439415</td>\n",
       "      <td>-0.351431</td>\n",
       "      <td>0.637806</td>\n",
       "      <td>-0.146125</td>\n",
       "      <td>...</td>\n",
       "      <td>0</td>\n",
       "      <td>0</td>\n",
       "      <td>0</td>\n",
       "      <td>1</td>\n",
       "      <td>0</td>\n",
       "      <td>0</td>\n",
       "      <td>0</td>\n",
       "      <td>0</td>\n",
       "      <td>0</td>\n",
       "      <td>0</td>\n",
       "    </tr>\n",
       "    <tr>\n",
       "      <th>166</th>\n",
       "      <td>0.170159</td>\n",
       "      <td>-1.111024</td>\n",
       "      <td>-0.677177</td>\n",
       "      <td>-0.375720</td>\n",
       "      <td>-0.833856</td>\n",
       "      <td>-0.392434</td>\n",
       "      <td>-0.441296</td>\n",
       "      <td>-0.351431</td>\n",
       "      <td>-0.660242</td>\n",
       "      <td>-0.172569</td>\n",
       "      <td>...</td>\n",
       "      <td>0</td>\n",
       "      <td>0</td>\n",
       "      <td>0</td>\n",
       "      <td>0</td>\n",
       "      <td>0</td>\n",
       "      <td>0</td>\n",
       "      <td>0</td>\n",
       "      <td>1</td>\n",
       "      <td>0</td>\n",
       "      <td>0</td>\n",
       "    </tr>\n",
       "    <tr>\n",
       "      <th>1</th>\n",
       "      <td>1.848278</td>\n",
       "      <td>-1.111024</td>\n",
       "      <td>-1.670284</td>\n",
       "      <td>-0.367754</td>\n",
       "      <td>-0.788535</td>\n",
       "      <td>-1.959288</td>\n",
       "      <td>0.015642</td>\n",
       "      <td>-0.351431</td>\n",
       "      <td>0.123485</td>\n",
       "      <td>-0.278345</td>\n",
       "      <td>...</td>\n",
       "      <td>0</td>\n",
       "      <td>0</td>\n",
       "      <td>0</td>\n",
       "      <td>0</td>\n",
       "      <td>0</td>\n",
       "      <td>0</td>\n",
       "      <td>0</td>\n",
       "      <td>0</td>\n",
       "      <td>0</td>\n",
       "      <td>0</td>\n",
       "    </tr>\n",
       "    <tr>\n",
       "      <th>199</th>\n",
       "      <td>-1.507960</td>\n",
       "      <td>0.900070</td>\n",
       "      <td>0.972390</td>\n",
       "      <td>1.225364</td>\n",
       "      <td>0.616439</td>\n",
       "      <td>1.627983</td>\n",
       "      <td>1.137720</td>\n",
       "      <td>-0.351431</td>\n",
       "      <td>0.123485</td>\n",
       "      <td>-0.675002</td>\n",
       "      <td>...</td>\n",
       "      <td>0</td>\n",
       "      <td>0</td>\n",
       "      <td>0</td>\n",
       "      <td>0</td>\n",
       "      <td>0</td>\n",
       "      <td>0</td>\n",
       "      <td>0</td>\n",
       "      <td>0</td>\n",
       "      <td>0</td>\n",
       "      <td>1</td>\n",
       "    </tr>\n",
       "  </tbody>\n",
       "</table>\n",
       "<p>5 rows × 212 columns</p>\n",
       "</div>"
      ],
      "text/plain": [
       "     symboling  num_of_doors  wheel_base    length     width    height  \\\n",
       "122   0.170159      0.900070   -0.811836 -0.487238 -0.924500 -1.134628   \n",
       "125   1.848278     -1.111024   -0.677177 -0.359789  1.114978 -1.382026   \n",
       "166   0.170159     -1.111024   -0.677177 -0.375720 -0.833856 -0.392434   \n",
       "1     1.848278     -1.111024   -1.670284 -0.367754 -0.788535 -1.959288   \n",
       "199  -1.507960      0.900070    0.972390  1.225364  0.616439  1.627983   \n",
       "\n",
       "     curb_weight  num_of_cylinders  engine_size  compression_ratio  ...  \\\n",
       "122    -0.642128         -0.351431    -0.660242          -0.172569  ...   \n",
       "125     0.439415         -0.351431     0.637806          -0.146125  ...   \n",
       "166    -0.441296         -0.351431    -0.660242          -0.172569  ...   \n",
       "1       0.015642         -0.351431     0.123485          -0.278345  ...   \n",
       "199     1.137720         -0.351431     0.123485          -0.675002  ...   \n",
       "\n",
       "     company_name_nissan  company_name_peugot  company_name_plymouth  \\\n",
       "122                    0                    0                      1   \n",
       "125                    0                    0                      0   \n",
       "166                    0                    0                      0   \n",
       "1                      0                    0                      0   \n",
       "199                    0                    0                      0   \n",
       "\n",
       "     company_name_porsche  company_name_renault  company_name_saab  \\\n",
       "122                     0                     0                  0   \n",
       "125                     1                     0                  0   \n",
       "166                     0                     0                  0   \n",
       "1                       0                     0                  0   \n",
       "199                     0                     0                  0   \n",
       "\n",
       "     company_name_subaru  company_name_toyota  company_name_volkswagen  \\\n",
       "122                    0                    0                        0   \n",
       "125                    0                    0                        0   \n",
       "166                    0                    1                        0   \n",
       "1                      0                    0                        0   \n",
       "199                    0                    0                        0   \n",
       "\n",
       "     company_name_volvo  \n",
       "122                   0  \n",
       "125                   0  \n",
       "166                   0  \n",
       "1                     0  \n",
       "199                   1  \n",
       "\n",
       "[5 rows x 212 columns]"
      ]
     },
     "execution_count": 9,
     "metadata": {},
     "output_type": "execute_result"
    }
   ],
   "source": [
    "# 1. split the dataset\n",
    "df_train, df_test = train_test_split(\n",
    "    cars, train_size = 0.7, test_size = 0.3, random_state = 100\n",
    ")\n",
    "\n",
    "# 2. scaling \n",
    "scale = StandardScaler()\n",
    "scale_features = cars.select_dtypes(include = ['float64', 'int64']).columns\n",
    "\n",
    "df_train[scale_features] = scale.fit_transform(df_train[scale_features])\n",
    "\n",
    "# review \n",
    "df_train.head()"
   ]
  },
  {
   "cell_type": "markdown",
   "id": "4e2bf251",
   "metadata": {
    "papermill": {
     "duration": 0.0364,
     "end_time": "2022-04-07T17:13:03.716990",
     "exception": false,
     "start_time": "2022-04-07T17:13:03.680590",
     "status": "completed"
    },
    "tags": []
   },
   "source": [
    "### Last prep. step"
   ]
  },
  {
   "cell_type": "code",
   "execution_count": 10,
   "id": "252ca3a4",
   "metadata": {
    "execution": {
     "iopub.execute_input": "2022-04-07T17:13:03.793215Z",
     "iopub.status.busy": "2022-04-07T17:13:03.792581Z",
     "iopub.status.idle": "2022-04-07T17:13:03.797194Z",
     "shell.execute_reply": "2022-04-07T17:13:03.797808Z",
     "shell.execute_reply.started": "2022-04-07T17:12:34.699502Z"
    },
    "papermill": {
     "duration": 0.04437,
     "end_time": "2022-04-07T17:13:03.797996",
     "exception": false,
     "start_time": "2022-04-07T17:13:03.753626",
     "status": "completed"
    },
    "tags": []
   },
   "outputs": [],
   "source": [
    "# split the train and test dataset into X and y\n",
    "\n",
    "# remove 'price' from the dataset and assign to y\n",
    "y_train = df_train.pop('price')\n",
    "\n",
    "# the dataset without y 'price'\n",
    "X_train = df_train\n",
    "\n",
    "y_test = df_test.pop('price')\n",
    "X_test = df_test"
   ]
  },
  {
   "cell_type": "markdown",
   "id": "e68156bb",
   "metadata": {
    "papermill": {
     "duration": 0.036169,
     "end_time": "2022-04-07T17:13:03.870912",
     "exception": false,
     "start_time": "2022-04-07T17:13:03.834743",
     "status": "completed"
    },
    "tags": []
   },
   "source": [
    "## Step 1 - Feature Selection methods\n",
    "\n",
    "**1.1. Filter methods - Missing Values Ratio**\n",
    "\n",
    "Theoretically, the acceptable threshold of missing values: 25-30%.\n",
    "\n",
    "If having the domain knowledge, it's always better to make an educated guess if the feature is crucial to the model. In such a case, try imputing the missing values using various techniques [here](https://towardsdatascience.com/all-about-missing-data-handling-b94b8b5d2184)"
   ]
  },
  {
   "cell_type": "code",
   "execution_count": 11,
   "id": "6b2b628d",
   "metadata": {
    "execution": {
     "iopub.execute_input": "2022-04-07T17:13:03.946784Z",
     "iopub.status.busy": "2022-04-07T17:13:03.946174Z",
     "iopub.status.idle": "2022-04-07T17:13:03.959951Z",
     "shell.execute_reply": "2022-04-07T17:13:03.960423Z",
     "shell.execute_reply.started": "2022-04-07T17:12:34.707851Z"
    },
    "papermill": {
     "duration": 0.053246,
     "end_time": "2022-04-07T17:13:03.960594",
     "exception": false,
     "start_time": "2022-04-07T17:13:03.907348",
     "status": "completed"
    },
    "tags": []
   },
   "outputs": [
    {
     "name": "stdout",
     "output_type": "stream",
     "text": [
      "symboling       0.0\n",
      "num_of_doors    0.0\n",
      "wheel_base      0.0\n",
      "length          0.0\n",
      "width           0.0\n",
      "dtype: float64\n"
     ]
    }
   ],
   "source": [
    "sum_na = df_train.isnull().sum()\n",
    "df_len = len(df_train)\n",
    "\n",
    "ratio = (sum_na / df_len) * 100\n",
    "\n",
    "# 5 largest values\n",
    "print(ratio.nlargest())"
   ]
  },
  {
   "cell_type": "markdown",
   "id": "c78f114e",
   "metadata": {
    "papermill": {
     "duration": 0.03767,
     "end_time": "2022-04-07T17:13:04.035164",
     "exception": false,
     "start_time": "2022-04-07T17:13:03.997494",
     "status": "completed"
    },
    "tags": []
   },
   "source": [
    "**1.2. Filter methods - Variance threshold**\n",
    "\n",
    "**Zero variance**: features in which identical value occupies the majority of the samples \n",
    "\n",
    "Such features carrying little information won't affect the target variable and can be dropped\n",
    "\n",
    "Threshold value:\n",
    "- default = 0: remove features that have the same value in all samples\n",
    "- 0.01: drop the column where 99% of the values are similar. \n",
    "\n",
    "Using '0.01' for quasi-constant features, that have the same value for a very large subset."
   ]
  },
  {
   "cell_type": "code",
   "execution_count": 12,
   "id": "591783f2",
   "metadata": {
    "execution": {
     "iopub.execute_input": "2022-04-07T17:13:04.116092Z",
     "iopub.status.busy": "2022-04-07T17:13:04.115432Z",
     "iopub.status.idle": "2022-04-07T17:13:04.127501Z",
     "shell.execute_reply": "2022-04-07T17:13:04.128014Z",
     "shell.execute_reply.started": "2022-04-07T17:12:34.730076Z"
    },
    "papermill": {
     "duration": 0.055402,
     "end_time": "2022-04-07T17:13:04.128180",
     "exception": false,
     "start_time": "2022-04-07T17:13:04.072778",
     "status": "completed"
    },
    "tags": []
   },
   "outputs": [
    {
     "name": "stdout",
     "output_type": "stream",
     "text": [
      "(143, 211)\n",
      "(143, 196)\n",
      "196\n"
     ]
    }
   ],
   "source": [
    "# before applying\n",
    "print(df_train.shape)\n",
    "\n",
    "# drop features with Zero variance \n",
    "var_filter = VarianceThreshold(threshold = 0.0)\n",
    "train = var_filter.fit_transform(df_train)\n",
    "\n",
    "# after applying: get the count of features that aren't constant\n",
    "print(train.shape)\n",
    "\n",
    "indexes = var_filter.get_support()\n",
    "print(len(df_train.columns[indexes]))"
   ]
  },
  {
   "cell_type": "markdown",
   "id": "e31c4364",
   "metadata": {
    "papermill": {
     "duration": 0.037228,
     "end_time": "2022-04-07T17:13:04.203009",
     "exception": false,
     "start_time": "2022-04-07T17:13:04.165781",
     "status": "completed"
    },
    "tags": []
   },
   "source": [
    "**1.3. Correlation coefficient**\n",
    "\n",
    "2 independent features (X) are highly correlated if they have a strong relationship with each other and move in a similar direction. In that case, we don't need 2 similar features to be fed to the model, if one can suffice.\n",
    "\n",
    "If a pair of columns cross a certain threshold, the one that shows a high correlation with the target variable (y) will be kept and the other one will be dropped\n",
    "\n",
    "- Pearson correlation (for continuous data):\n",
    "    + assumption: the observed data follows some distribution pattern (e.g. normal, gaussian)\n",
    "    + -1 <= r < 1\n",
    "    + Ho: correlation between variables is not significant (= 0)\n",
    "    + p-value < alpha: the sample contains sufficient evidence to reject Ho and conclude that the correlation coefficient does not equal zero.\n",
    "- Spearman rank (for continuous + ordinal data)\n",
    "    + Spearman = Pearson but fail the assumptions\n",
    "    \n",
    "- Kendall (for discrete/ordinal data)\n",
    "    + compares # of concordant and discordant pairs of data"
   ]
  },
  {
   "cell_type": "code",
   "execution_count": 13,
   "id": "ea7b0c8a",
   "metadata": {
    "execution": {
     "iopub.execute_input": "2022-04-07T17:13:04.283407Z",
     "iopub.status.busy": "2022-04-07T17:13:04.282487Z",
     "iopub.status.idle": "2022-04-07T17:13:04.285302Z",
     "shell.execute_reply": "2022-04-07T17:13:04.284671Z",
     "shell.execute_reply.started": "2022-04-07T17:12:34.747465Z"
    },
    "papermill": {
     "duration": 0.044433,
     "end_time": "2022-04-07T17:13:04.285439",
     "exception": false,
     "start_time": "2022-04-07T17:13:04.241006",
     "status": "completed"
    },
    "tags": []
   },
   "outputs": [],
   "source": [
    "# use this one!\n",
    "#coef, p = pearsonrr(x, y)\n",
    "#x.corr(y)\n",
    "\n",
    "# don't use Spearman and Kendall\n",
    "# since they work best only with ordinal variables and\n",
    "# we have 60% continuous variables\n",
    "#coef, p = spearman(x, y)\n",
    "#x.corr(y, method = 'spearman')\n",
    "\n",
    "#coef, p = kendalltau(x, y)\n",
    "#x.corr(y, method = 'kendall')"
   ]
  },
  {
   "cell_type": "markdown",
   "id": "8b0279a6",
   "metadata": {
    "papermill": {
     "duration": 0.036991,
     "end_time": "2022-04-07T17:13:04.360346",
     "exception": false,
     "start_time": "2022-04-07T17:13:04.323355",
     "status": "completed"
    },
    "tags": []
   },
   "source": [
    "**1.4. Chi-Square tests (for categorical data)**\n",
    "\n",
    "Ho: the 2 variables are independent\n",
    "\n",
    "Those tests come in 2 variations:\n",
    "- one evaluates the goodness-of-fit\n",
    "- other one: the test of independence"
   ]
  },
  {
   "cell_type": "markdown",
   "id": "25981710",
   "metadata": {
    "papermill": {
     "duration": 0.037224,
     "end_time": "2022-04-07T17:13:04.435677",
     "exception": false,
     "start_time": "2022-04-07T17:13:04.398453",
     "status": "completed"
    },
    "tags": []
   },
   "source": [
    "With this dataset, Chi-square would not work since it needs categorical variables and non-negative values."
   ]
  },
  {
   "cell_type": "code",
   "execution_count": 14,
   "id": "9eb31025",
   "metadata": {
    "execution": {
     "iopub.execute_input": "2022-04-07T17:13:04.513114Z",
     "iopub.status.busy": "2022-04-07T17:13:04.512451Z",
     "iopub.status.idle": "2022-04-07T17:13:04.515509Z",
     "shell.execute_reply": "2022-04-07T17:13:04.516098Z",
     "shell.execute_reply.started": "2022-04-07T17:12:34.752479Z"
    },
    "papermill": {
     "duration": 0.043432,
     "end_time": "2022-04-07T17:13:04.516268",
     "exception": false,
     "start_time": "2022-04-07T17:13:04.472836",
     "status": "completed"
    },
    "tags": []
   },
   "outputs": [],
   "source": [
    "# X_train = X_train.astype(int)\n",
    "# chi2_features = SelectKBest(chi2, k = 12)\n",
    "\n",
    "# return top features affect the outcome the most!\n",
    "# X_kbest_features = chi2_features.fit_transform(X_train, y_train)"
   ]
  },
  {
   "cell_type": "markdown",
   "id": "77388084",
   "metadata": {
    "papermill": {
     "duration": 0.03703,
     "end_time": "2022-04-07T17:13:04.590850",
     "exception": false,
     "start_time": "2022-04-07T17:13:04.553820",
     "status": "completed"
    },
    "tags": []
   },
   "source": [
    "**1.5. Mutual information (for both regression & classification)**\n",
    "- how much will the target variable be impacted if we remove or add the feature?\n",
    "- MI = 0 if both variables are independent\n",
    "- 0-1 if X is deterministic of Y"
   ]
  },
  {
   "cell_type": "code",
   "execution_count": 15,
   "id": "94546e13",
   "metadata": {
    "execution": {
     "iopub.execute_input": "2022-04-07T17:13:04.669224Z",
     "iopub.status.busy": "2022-04-07T17:13:04.668546Z",
     "iopub.status.idle": "2022-04-07T17:13:05.031428Z",
     "shell.execute_reply": "2022-04-07T17:13:05.030833Z",
     "shell.execute_reply.started": "2022-04-07T17:12:34.765896Z"
    },
    "papermill": {
     "duration": 0.40321,
     "end_time": "2022-04-07T17:13:05.031579",
     "exception": false,
     "start_time": "2022-04-07T17:13:04.628369",
     "status": "completed"
    },
    "tags": []
   },
   "outputs": [
    {
     "name": "stdout",
     "output_type": "stream",
     "text": [
      "symboling\n"
     ]
    }
   ],
   "source": [
    "missingCol = df_train.count().idxmin()\n",
    "print(missingCol)\n",
    "\n",
    "selector = SelectKBest(mutual_info_regression, k = 10)\n",
    "train = selector.fit_transform(X_train, y_train)\n",
    "\n",
    "# rows x cols\n",
    "train.shape\n",
    "\n",
    "# from 0 to 1\n",
    "selector.scores_\n",
    "\n",
    "# names of the selected features\n",
    "mask = selector.get_support()\n",
    "new_features = X_train.columns[mask]"
   ]
  },
  {
   "cell_type": "markdown",
   "id": "ff1abcf9",
   "metadata": {
    "papermill": {
     "duration": 0.037689,
     "end_time": "2022-04-07T17:13:05.109292",
     "exception": false,
     "start_time": "2022-04-07T17:13:05.071603",
     "status": "completed"
    },
    "tags": []
   },
   "source": [
    "**1.6. ANOVA**\n",
    "\n",
    "**Concept:**\n",
    "\n",
    "ANOVA is primarily an extension of a t-test.\n",
    "- t-test: 2 groups\n",
    "- ANOVA: >2 groups\n",
    "- to see a difference in means and determine if they came from the same population.\n",
    "- ANOVA uses F-Test for statistical significance, which is the ratio of the **variance between groups** to the **variance within groups**\n",
    "\n",
    "Ho: means of all groups are equal\n",
    "H1: at least one mean of the groups are different\n",
    "\n",
    "**Practice: **\n",
    "\n",
    "Using a feature 'fuel_type' that has 2 groups - ‘diesel’ and ‘gas’."
   ]
  },
  {
   "cell_type": "code",
   "execution_count": 16,
   "id": "1a9e9e2a",
   "metadata": {
    "execution": {
     "iopub.execute_input": "2022-04-07T17:13:05.194550Z",
     "iopub.status.busy": "2022-04-07T17:13:05.193728Z",
     "iopub.status.idle": "2022-04-07T17:13:05.212054Z",
     "shell.execute_reply": "2022-04-07T17:13:05.213811Z",
     "shell.execute_reply.started": "2022-04-07T17:12:35.121124Z"
    },
    "papermill": {
     "duration": 0.066848,
     "end_time": "2022-04-07T17:13:05.214267",
     "exception": false,
     "start_time": "2022-04-07T17:13:05.147419",
     "status": "completed"
    },
    "tags": []
   },
   "outputs": [
    {
     "name": "stdout",
     "output_type": "stream",
     "text": [
      "(143, 211) (143, 20)\n"
     ]
    }
   ],
   "source": [
    "# select features according to the k highest scores\n",
    "# score_function = f_regression: regression with f-test\n",
    "# k = 20: max 20 top features to select\n",
    "fvalue_selector = SelectKBest(f_regression, k = 20)\n",
    "\n",
    "X_train_new = fvalue_selector.fit_transform(X_train, y_train)\n",
    "\n",
    "print(X_train.shape, X_train_new.shape)"
   ]
  },
  {
   "cell_type": "markdown",
   "id": "0574c0e3",
   "metadata": {
    "papermill": {
     "duration": 0.051937,
     "end_time": "2022-04-07T17:13:05.337848",
     "exception": false,
     "start_time": "2022-04-07T17:13:05.285911",
     "status": "completed"
    },
    "tags": []
   },
   "source": [
    "**2.1. Wrapper Methods - Sequential Feature Selection**\n",
    "\n",
    "A greedy search algorithm comes in 2 variants: \n",
    "- Sequential Forward Selection (SFS)\n",
    "    - It starts with a null set of features and then looks for a feature that **minimizes the cost function (the lowest cost model)**.\n",
    "    - Once the feature is found, it gets added to the feature subset and in the same way one by one, it finds the right set of features to build an optimal model.\n",
    "    - Main Limitation: unable to remove features that become non-useful after the addition of other features\n",
    "- Sequential Backward Selection (SBS)\n",
    "    - A totally opposite route: it starts with all the features and iteratively removes one by one feature depending on the performance.\n",
    "    - Main Limitation: unable to re-evaluate the usefulness of a feature after it has been discarded.\n",
    "    \n",
    "\n",
    "\n"
   ]
  },
  {
   "cell_type": "code",
   "execution_count": 17,
   "id": "4c28edec",
   "metadata": {
    "execution": {
     "iopub.execute_input": "2022-04-07T17:13:05.421908Z",
     "iopub.status.busy": "2022-04-07T17:13:05.417939Z",
     "iopub.status.idle": "2022-04-07T17:13:12.755175Z",
     "shell.execute_reply": "2022-04-07T17:13:12.754535Z"
    },
    "papermill": {
     "duration": 7.379285,
     "end_time": "2022-04-07T17:13:12.755332",
     "exception": false,
     "start_time": "2022-04-07T17:13:05.376047",
     "status": "completed"
    },
    "tags": []
   },
   "outputs": [],
   "source": [
    "sfs = SequentialFeatureSelector(\n",
    "    LinearRegression(),\n",
    "    k_features = 10,\n",
    "    forward = True,  # forward = True: SFS; = False: SBS\n",
    "    floating = False,\n",
    "    scoring = 'accuracy',\n",
    "    cv = 2          # cv: k-fold cross validation\n",
    ")\n",
    "sfs = sfs.fit(X_train, y_train)\n",
    "\n",
    "k_feature_indexes = list(sfs.k_feature_idx_)\n",
    "selected_features = X_train.columns[k_feature_indexes]\n",
    "\n",
    "# the final prediction score\n",
    "sfs.k_score_\n",
    "\n",
    "# transform to the newly selected features\n",
    "x_train_new = sfs.transform(X_train)"
   ]
  },
  {
   "cell_type": "markdown",
   "id": "4668aa7e",
   "metadata": {
    "papermill": {
     "duration": 0.038264,
     "end_time": "2022-04-07T17:13:12.833014",
     "exception": false,
     "start_time": "2022-04-07T17:13:12.794750",
     "status": "completed"
    },
    "tags": []
   },
   "source": [
    "**2.2. Wrapper Methods - Recursive Feature Elimination (RFE)** for Regression\n",
    "- repeatedly performs model building by considering smaller subsets of features each time.\n",
    "- How: \n",
    "    - Step 1: after an estimator is trained on the features, it returns a rank value based on the model's **coef_** or **feature_importances_** attribute conveying the importance of each feature.\n",
    "    - Step 2: the least important features are pruned from the current set of features.\n",
    "    - recursively repeated "
   ]
  },
  {
   "cell_type": "code",
   "execution_count": 18,
   "id": "9c40a76f",
   "metadata": {
    "execution": {
     "iopub.execute_input": "2022-04-07T17:13:12.921038Z",
     "iopub.status.busy": "2022-04-07T17:13:12.920323Z",
     "iopub.status.idle": "2022-04-07T17:13:13.967594Z",
     "shell.execute_reply": "2022-04-07T17:13:13.968434Z"
    },
    "papermill": {
     "duration": 1.097345,
     "end_time": "2022-04-07T17:13:13.968705",
     "exception": false,
     "start_time": "2022-04-07T17:13:12.871360",
     "status": "completed"
    },
    "tags": []
   },
   "outputs": [],
   "source": [
    "estimator = LinearRegression()\n",
    "\n",
    "# 20 features\n",
    "rfe_ = RFE(estimator, n_features_to_select = 20, step = 1)\n",
    "\n",
    "# fit on train and test data with 20 features\n",
    "X_train_new = rfe_.fit_transform(X_train, y_train)\n",
    "X_test_new = rfe_.transform(X_test)\n",
    "\n",
    "# boolean and ranking results\n",
    "rfe_.support_\n",
    "rfe_.ranking_\n",
    "\n",
    "estimator.fit(X_train_new, y_train)\n",
    "predictions_rfe = estimator.predict(X_test_new)\n",
    "\n",
    "RMSE = np.sqrt(mean_squared_error(y_test, predictions_rfe))\n",
    "R2 = r2_score(y_test, predictions_rfe)"
   ]
  },
  {
   "cell_type": "markdown",
   "id": "a7f8475d",
   "metadata": {
    "papermill": {
     "duration": 0.043543,
     "end_time": "2022-04-07T17:13:14.054829",
     "exception": false,
     "start_time": "2022-04-07T17:13:14.011286",
     "status": "completed"
    },
    "tags": []
   },
   "source": [
    "**3.1. Embedded Methods - L1 (Lasso) Regularization**"
   ]
  },
  {
   "cell_type": "markdown",
   "id": "e1fc9604",
   "metadata": {
    "papermill": {
     "duration": 0.045894,
     "end_time": "2022-04-07T17:13:14.139933",
     "exception": false,
     "start_time": "2022-04-07T17:13:14.094039",
     "status": "completed"
    },
    "tags": []
   },
   "source": [
    "**3.2. Embedded Methods - Tree Model (for Regression & Classification)**\n"
   ]
  }
 ],
 "metadata": {
  "kernelspec": {
   "display_name": "Python 3",
   "language": "python",
   "name": "python3"
  },
  "language_info": {
   "codemirror_mode": {
    "name": "ipython",
    "version": 3
   },
   "file_extension": ".py",
   "mimetype": "text/x-python",
   "name": "python",
   "nbconvert_exporter": "python",
   "pygments_lexer": "ipython3",
   "version": "3.7.12"
  },
  "papermill": {
   "default_parameters": {},
   "duration": 25.146035,
   "end_time": "2022-04-07T17:13:14.891242",
   "environment_variables": {},
   "exception": null,
   "input_path": "__notebook__.ipynb",
   "output_path": "__notebook__.ipynb",
   "parameters": {},
   "start_time": "2022-04-07T17:12:49.745207",
   "version": "2.3.3"
  }
 },
 "nbformat": 4,
 "nbformat_minor": 5
}
