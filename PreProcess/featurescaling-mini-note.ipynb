{
 "cells": [
  {
   "cell_type": "code",
   "execution_count": 1,
   "id": "eebc75b4",
   "metadata": {
    "_cell_guid": "b1076dfc-b9ad-4769-8c92-a6c4dae69d19",
    "_uuid": "8f2839f25d086af736a60e9eeb907d3b93b6e0e5",
    "execution": {
     "iopub.execute_input": "2022-04-09T14:57:01.317491Z",
     "iopub.status.busy": "2022-04-09T14:57:01.316346Z",
     "iopub.status.idle": "2022-04-09T14:57:02.527381Z",
     "shell.execute_reply": "2022-04-09T14:57:02.527921Z",
     "shell.execute_reply.started": "2022-04-09T12:17:08.169742Z"
    },
    "papermill": {
     "duration": 1.221218,
     "end_time": "2022-04-09T14:57:02.528222",
     "exception": false,
     "start_time": "2022-04-09T14:57:01.307004",
     "status": "completed"
    },
    "tags": []
   },
   "outputs": [
    {
     "name": "stdout",
     "output_type": "stream",
     "text": [
      "/kaggle/input/salary/Salary.csv\n"
     ]
    }
   ],
   "source": [
    "import numpy as np # linear algebra\n",
    "import pandas as pd # data processing, CSV file I/O (e.g. pd.read_csv)\n",
    "\n",
    "from sklearn.preprocessing import StandardScaler # z = (x - mean) / s.d\n",
    "\n",
    "import os\n",
    "for dirname, _, filenames in os.walk('/kaggle/input'):\n",
    "    for filename in filenames:\n",
    "        print(os.path.join(dirname, filename))"
   ]
  },
  {
   "cell_type": "markdown",
   "id": "b02e49c9",
   "metadata": {
    "papermill": {
     "duration": 0.005074,
     "end_time": "2022-04-09T14:57:02.539293",
     "exception": false,
     "start_time": "2022-04-09T14:57:02.534219",
     "status": "completed"
    },
    "tags": []
   },
   "source": [
    "- Feature Scaling or Standardization is a step of Data Pre Processing\n",
    "- is applied to independent variables or features of data\n",
    "- to normalize the data within a particular range\n",
    "- sometimes, helps in speeding up the calculations in an algorithms\n",
    "\n",
    "Standardization replaces the values with their Z scores\n",
    "\n",
    "![alt text](https://media.geeksforgeeks.org/wp-content/uploads/standard.png \"Title\")"
   ]
  },
  {
   "cell_type": "code",
   "execution_count": 2,
   "id": "7cc5414e",
   "metadata": {
    "execution": {
     "iopub.execute_input": "2022-04-09T14:57:02.556270Z",
     "iopub.status.busy": "2022-04-09T14:57:02.555382Z",
     "iopub.status.idle": "2022-04-09T14:57:02.586378Z",
     "shell.execute_reply": "2022-04-09T14:57:02.585674Z",
     "shell.execute_reply.started": "2022-04-09T12:17:08.184552Z"
    },
    "papermill": {
     "duration": 0.041873,
     "end_time": "2022-04-09T14:57:02.586523",
     "exception": false,
     "start_time": "2022-04-09T14:57:02.544650",
     "status": "completed"
    },
    "tags": []
   },
   "outputs": [
    {
     "data": {
      "text/plain": [
       "StandardScaler()"
      ]
     },
     "execution_count": 2,
     "metadata": {},
     "output_type": "execute_result"
    }
   ],
   "source": [
    "data = pd.read_csv('../input/salary/Salary.csv')\n",
    "\n",
    "# init Standardization Scaler\n",
    "scaler = StandardScaler()\n",
    "\n",
    "# to scale data\n",
    "# by computing 'mean' and 'std' (used for later scaling)\n",
    "scaler.fit(data)"
   ]
  },
  {
   "cell_type": "markdown",
   "id": "0c0320f3",
   "metadata": {
    "papermill": {
     "duration": 0.005254,
     "end_time": "2022-04-09T14:57:02.597581",
     "exception": false,
     "start_time": "2022-04-09T14:57:02.592327",
     "status": "completed"
    },
    "tags": []
   },
   "source": [
    "**Algorithms need Feature Scaling:**\n",
    "1. K-Means\n",
    "2. KNN\n",
    "3. PCA\n",
    "4. Gradient Descent\n",
    "\n",
    "**Not Distance-based Algorithms is Not affected by Feature Scaling:**\n",
    "1. Naive Bayes\n",
    "2. Linear Discriminant Analysis\n",
    "3. Tree-based models"
   ]
  }
 ],
 "metadata": {
  "kernelspec": {
   "display_name": "Python 3",
   "language": "python",
   "name": "python3"
  },
  "language_info": {
   "codemirror_mode": {
    "name": "ipython",
    "version": 3
   },
   "file_extension": ".py",
   "mimetype": "text/x-python",
   "name": "python",
   "nbconvert_exporter": "python",
   "pygments_lexer": "ipython3",
   "version": "3.7.12"
  },
  "papermill": {
   "default_parameters": {},
   "duration": 12.15093,
   "end_time": "2022-04-09T14:57:03.317254",
   "environment_variables": {},
   "exception": null,
   "input_path": "__notebook__.ipynb",
   "output_path": "__notebook__.ipynb",
   "parameters": {},
   "start_time": "2022-04-09T14:56:51.166324",
   "version": "2.3.3"
  }
 },
 "nbformat": 4,
 "nbformat_minor": 5
}
