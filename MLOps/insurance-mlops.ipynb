{
 "cells": [
  {
   "cell_type": "code",
   "execution_count": 1,
   "id": "3cd3fcae",
   "metadata": {
    "_execution_state": "idle",
    "_uuid": "051d70d956493feee0c6d64651c6a088724dca2a",
    "execution": {
     "iopub.execute_input": "2022-05-05T06:04:23.738138Z",
     "iopub.status.busy": "2022-05-05T06:04:23.737787Z",
     "iopub.status.idle": "2022-05-05T06:04:23.760285Z",
     "shell.execute_reply": "2022-05-05T06:04:23.759450Z"
    },
    "papermill": {
     "duration": 0.030011,
     "end_time": "2022-05-05T06:04:23.762694",
     "exception": false,
     "start_time": "2022-05-05T06:04:23.732683",
     "status": "completed"
    },
    "tags": []
   },
   "outputs": [
    {
     "name": "stdout",
     "output_type": "stream",
     "text": [
      "/kaggle/input/insurance/insurance.csv\n"
     ]
    }
   ],
   "source": [
    "import numpy as np # linear algebra\n",
    "import pandas as pd # data processing, CSV file I/O (e.g. pd.read_csv)\n",
    "\n",
    "# Input data files are available in the read-only \"../input/\" directory\n",
    "# For example, running this (by clicking run or pressing Shift+Enter) will list all files under the input directory\n",
    "\n",
    "import os\n",
    "for dirname, _, filenames in os.walk('/kaggle/input'):\n",
    "    for filename in filenames:\n",
    "        print(os.path.join(dirname, filename))\n",
    "\n",
    "\n",
    "# Ref:\n",
    "# https://www.kaggle.com/datasets/mirichoi0218/insurance\n",
    "# https://www.datacamp.com/tutorial/tutorial-machine-learning-pipelines-mlops-deployment"
   ]
  }
 ],
 "metadata": {
  "kernelspec": {
   "display_name": "Python 3",
   "language": "python",
   "name": "python3"
  },
  "language_info": {
   "codemirror_mode": {
    "name": "ipython",
    "version": 3
   },
   "file_extension": ".py",
   "mimetype": "text/x-python",
   "name": "python",
   "nbconvert_exporter": "python",
   "pygments_lexer": "ipython3",
   "version": "3.7.12"
  },
  "papermill": {
   "default_parameters": {},
   "duration": 10.427925,
   "end_time": "2022-05-05T06:04:24.386758",
   "environment_variables": {},
   "exception": null,
   "input_path": "__notebook__.ipynb",
   "output_path": "__notebook__.ipynb",
   "parameters": {},
   "start_time": "2022-05-05T06:04:13.958833",
   "version": "2.3.4"
  }
 },
 "nbformat": 4,
 "nbformat_minor": 5
}
